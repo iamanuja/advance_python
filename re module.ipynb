{
 "cells": [
  {
   "cell_type": "code",
   "execution_count": 1,
   "id": "76a53ebf",
   "metadata": {},
   "outputs": [],
   "source": [
    "import re\n"
   ]
  },
  {
   "cell_type": "raw",
   "id": "29149f95",
   "metadata": {},
   "source": [
    "\n",
    "search - It is used to find the first occurrence of a regex pattern in a given string.\n",
    "match - It starts matching the pattern at the beginning of the string.\n",
    "fullmatch - It is used to match the whole string with a regex pattern.\n",
    "split - It is used to split the pattern based on the regex pattern.\n",
    "findall - It is used to find all non-overlapping patterns in a string. It returns a list of matched patterns.\n",
    "finditer - It returns an iterator that yields match objects.\n",
    "sub - It returns a string after substituting the first occurrence of the pattern by the replacement.\n",
    "subn - It works the same as 'sub'. It returns a tuple (new_string, num_of_substitution).\n",
    "escape - It is used to escape special characters in a pattern.\n",
    "purge - It is used to clear the regex expression cache.\n",
    "compile - It is used to turn a regular pattern into an object of a regular expression that may be used in a number of ways for matching patterns in a string."
   ]
  },
  {
   "cell_type": "code",
   "execution_count": 6,
   "id": "692729a5",
   "metadata": {},
   "outputs": [
    {
     "name": "stdout",
     "output_type": "stream",
     "text": [
      "['A'] ['ASCII'] ['DEBUG'] ['DOTALL'] ['I'] ['IGNORECASE'] ['L'] ['LOCALE'] ['M'] ['MULTILINE'] ['Match'] ['Pattern'] ['RegexFlag'] ['S'] ['Scanner'] ['T'] ['TEMPLATE'] ['U'] ['UNICODE'] ['VERBOSE'] ['X'] ['_MAXCACHE'] ['__all__'] ['__builtins__'] ['__cached__'] ['__doc__'] ['__file__'] ['__loader__'] ['__name__'] ['__package__'] ['__spec__'] ['__version__'] ['_cache'] ['_compile'] ['_compile_repl'] ['_expand'] ['_locale'] ['_pickle'] ['_special_chars_map'] ['_subx'] ['compile'] ['copyreg'] ['enum'] ['error'] ['escape'] ['findall'] ['finditer'] ['fullmatch'] ['functools'] ['match'] ['purge'] ['search'] ['split'] ['sre_compile'] ['sre_parse'] ['sub'] ['subn'] ['template'] "
     ]
    }
   ],
   "source": [
    "for i in dir(re):\n",
    "    print(i.split(),end=\" \")"
   ]
  },
  {
   "cell_type": "markdown",
   "id": "4c8d9b11",
   "metadata": {},
   "source": [
    "## re.match(pattern, string, flags=0)"
   ]
  },
  {
   "cell_type": "raw",
   "id": "a1ac3f80",
   "metadata": {},
   "source": [
    " starts matching the pattern from the beginning of the string.\n",
    "Returns a match object if any match is found with information like start, end, span, etc.\n",
    "Returns a NONE value in the case no match is found.\n",
    "pattern:-this is the expression that is to be matched. It must be a regular expression\n",
    "string:-This is the string that will be compared to the pattern at the start of the string.\n",
    "flags:-Bitwise OR (|) can be used to express multiple flags."
   ]
  },
  {
   "cell_type": "code",
   "execution_count": 30,
   "id": "c7f8a85e",
   "metadata": {},
   "outputs": [
    {
     "name": "stdout",
     "output_type": "stream",
     "text": [
      "<re.Match object; span=(0, 5), match='hello'>\n",
      "Span: (0, 5)\n",
      "Start: 0\n",
      "End: 5\n"
     ]
    }
   ],
   "source": [
    "pattern = \"hello\"  \n",
    "  \n",
    "# Returns a match object if found else Null  \n",
    "match = re.match(pattern, \"hello world\")  \n",
    "  \n",
    "print(match) # Printing the match object  \n",
    "print(\"Span:\", match.span()) # Return the tuple (start, end)  \n",
    "print(\"Start:\", match.start()) # Return the starting index  \n",
    "print(\"End:\", match.end()) # Returns the ending index  "
   ]
  },
  {
   "cell_type": "markdown",
   "id": "ba6453c4",
   "metadata": {},
   "source": [
    "###### The expressions \".w*\" and \".w*?\" will match words that have the letter \"w,\" and anything that does not has the letter \"w\" will be ignored.\n",
    "The for loop is used in this Python re.match() illustration to inspect for matches for every element in the list of words."
   ]
  },
  {
   "cell_type": "code",
   "execution_count": 10,
   "id": "5d78e1a8",
   "metadata": {},
   "outputs": [
    {
     "name": "stdout",
     "output_type": "stream",
     "text": [
      "There isn't any match!!\n"
     ]
    }
   ],
   "source": [
    "import re    \n",
    "line = \"Learn Python through tutorials on javatpoint What\"    \n",
    "match_object = re.match( r'.w* (.w?) (.w*?)', line, re.M|re.I)    \n",
    "    \n",
    "if match_object:    \n",
    "    print (\"match object group : \", match_object.group())    \n",
    "    print (\"match object 1 group : \", match_object.group(1))    \n",
    "    print (\"match object 2 group : \", match_object.group(2))    \n",
    "else:    \n",
    "    print ( \"There isn't any match!!\" )   "
   ]
  },
  {
   "cell_type": "markdown",
   "id": "9a9b96bc",
   "metadata": {},
   "source": [
    "## re.search(pattern, string, flags=0)"
   ]
  },
  {
   "cell_type": "markdown",
   "id": "fb03238b",
   "metadata": {},
   "source": [
    "searches the string for a match, and **returns a Match object** if there is a match.\n",
    "\n",
    "If there is **more than one match**, only the **first occurrence** of the match will be returned:"
   ]
  },
  {
   "cell_type": "code",
   "execution_count": 11,
   "id": "af7bde2d",
   "metadata": {},
   "outputs": [
    {
     "name": "stdout",
     "output_type": "stream",
     "text": [
      "search object group :   Python through tutorials on javatpoint\n",
      "search object group 1 :  on\n",
      "search object group 2 :  javatpoint\n"
     ]
    }
   ],
   "source": [
    "line = \"Learn Python through tutorials on javatpoint\";  \n",
    "  \n",
    "search_object = re.search( r' .*t? (.*t?) (.*t?)', line)  \n",
    "if search_object:  \n",
    "    print(\"search object group : \", search_object.group())  \n",
    "    print(\"search object group 1 : \", search_object.group(1))  \n",
    "    print(\"search object group 2 : \", search_object.group(2))  \n",
    "else:  \n",
    "    print(\"Nothing found!!\")  "
   ]
  },
  {
   "cell_type": "code",
   "execution_count": 12,
   "id": "40730a55",
   "metadata": {},
   "outputs": [
    {
     "name": "stdout",
     "output_type": "stream",
     "text": [
      "<re.Match object; span=(5, 44), match=' Python through tutorials on javatpoint'>\n"
     ]
    }
   ],
   "source": [
    "print(search_object)"
   ]
  },
  {
   "cell_type": "code",
   "execution_count": 13,
   "id": "6163fe66",
   "metadata": {},
   "outputs": [
    {
     "name": "stdout",
     "output_type": "stream",
     "text": [
      "The first white-space character is located in position: 3\n"
     ]
    }
   ],
   "source": [
    "txt = \"The rain in Spain\"\n",
    "x = re.search(\"\\s\", txt)\n",
    "\n",
    "print(\"The first white-space character is located in position:\", x.start())"
   ]
  },
  {
   "cell_type": "markdown",
   "id": "657205ed",
   "metadata": {},
   "source": [
    "## re.split(pattern, string, maxsplit=0, flags=0)"
   ]
  },
  {
   "cell_type": "markdown",
   "id": "58288598",
   "metadata": {},
   "source": [
    "returns a list where the string has been split at each match\n",
    "**It splits the pattern by the occurrences of patterns.**\n",
    "If maxsplit is zero, then the maximum number of splits occurs.\n",
    "If maxsplit is one, then it splits the string by the first occurrence of the pattern and returns the remaining string as a final result."
   ]
  },
  {
   "cell_type": "code",
   "execution_count": 14,
   "id": "c99d0678",
   "metadata": {},
   "outputs": [
    {
     "name": "stdout",
     "output_type": "stream",
     "text": [
      "['The', 'rain', 'in', 'Spain']\n"
     ]
    }
   ],
   "source": [
    "txt = \"The rain in Spain\"\n",
    "x = re.split(\"\\s\", txt)\n",
    "print(x)"
   ]
  },
  {
   "cell_type": "code",
   "execution_count": 16,
   "id": "3a949ae8",
   "metadata": {},
   "outputs": [
    {
     "name": "stdout",
     "output_type": "stream",
     "text": [
      "When maxsplit = 0, result: ['Learn', 'Python', 'through', 'tutorials', 'on', 'javatpoint']\n",
      "When maxsplit = 1, result = ['Learn', 'Python through tutorials on javatpoint']\n"
     ]
    }
   ],
   "source": [
    "pattern = ' '   \n",
    "line = \"Learn Python through tutorials on javatpoint\"    \n",
    "  \n",
    "# Using split function to split the string after ' '  \n",
    "result = re.split( pattern, line)   \n",
    "  \n",
    "# Printing the result  \n",
    "print(\"When maxsplit = 0, result:\", result)  \n",
    "\n",
    "# When Maxsplit is one  \n",
    "result = re.split(pattern, line, maxsplit=1)  \n",
    "print(\"When maxsplit = 1, result =\", result)  "
   ]
  },
  {
   "cell_type": "markdown",
   "id": "3c296181",
   "metadata": {},
   "source": [
    "## findall()\n",
    "Suppose we have a line of text and want to get all of the occurrences from the content, so we use Python's re.findall() function. It will search the entire content provided to it."
   ]
  },
  {
   "cell_type": "code",
   "execution_count": 17,
   "id": "7c0c0b4b",
   "metadata": {},
   "outputs": [
    {
     "name": "stdout",
     "output_type": "stream",
     "text": [
      "['ai', 'ai']\n"
     ]
    }
   ],
   "source": [
    "txt = \"The rain in Spain\"\n",
    "x = re.findall(\"ai\", txt)\n",
    "print(x)"
   ]
  },
  {
   "cell_type": "markdown",
   "id": "3717ef0e",
   "metadata": {},
   "source": [
    "## re.fullmatch(pattern, string, flags=0)\n",
    "It matches the whole string with the pattern.\n",
    "Returns a corresponding match object.\n",
    "Returns None in case no match is found.\n",
    "On the other hand, the search() function will only search the first occurrence that matches the pattern.\n",
    " "
   ]
  },
  {
   "cell_type": "code",
   "execution_count": 31,
   "id": "c9ce41d0",
   "metadata": {},
   "outputs": [
    {
     "name": "stdout",
     "output_type": "stream",
     "text": [
      "None\n",
      "None\n"
     ]
    }
   ],
   "source": [
    "line = \"oo Hello world\";    \n",
    "print(re.fullmatch(\"Hello\", line))  \n",
    "print(re.fullmatch(\"Hello world\", line))  "
   ]
  },
  {
   "cell_type": "code",
   "execution_count": 32,
   "id": "6539c52e",
   "metadata": {},
   "outputs": [
    {
     "name": "stdout",
     "output_type": "stream",
     "text": [
      "None\n",
      "<re.Match object; span=(0, 11), match='Hello world'>\n"
     ]
    }
   ],
   "source": [
    "line = \"Hello world\";    \n",
    "print(re.fullmatch(\"Hello\", line))  \n",
    "print(re.fullmatch(\"Hello world\", line))  "
   ]
  },
  {
   "cell_type": "markdown",
   "id": "d38e4bf8",
   "metadata": {},
   "source": [
    "## re.sub(pattern, replacement, string, count=0, flags=0)\n",
    "Count - This parameter is used to control the number of substitutions ,u can substitue a word or single character"
   ]
  },
  {
   "cell_type": "code",
   "execution_count": 23,
   "id": "823b7495",
   "metadata": {},
   "outputs": [
    {
     "name": "stdout",
     "output_type": "stream",
     "text": [
      "Original text: I like Javatpoint!\n",
      "Substituted text:  I love Javatpoint!\n",
      "Substituted text:  I love Javatpoint! I also love love like like like tutorials!\n"
     ]
    }
   ],
   "source": [
    "pattern = \"like\" # to be replaced  \n",
    "repl = \"love\" # Replacement  \n",
    "text = \"I like Javatpoint!\" # String  \n",
    "text1111 = \"I like Javatpoint! I also like like like like like tutorials!\" \n",
    "\n",
    "\n",
    "new_text = re.sub(pattern, repl, text) # Returns a new string with a substituted pattern  \n",
    "new_text1111 = re.sub(pattern, repl, text1111 ,3 ) \n",
    "\n",
    "print(\"Original text:\", text)  \n",
    "print(\"Substituted text: \", new_text)  \n",
    "print(\"Substituted text: \", new_text1111)"
   ]
  },
  {
   "cell_type": "markdown",
   "id": "b262d813",
   "metadata": {},
   "source": [
    "## re.finditer(pattern, string, flags=0)\n",
    "Returns an iterator that yields all non-overlapping matches of pattern in a string.\n",
    "String is scanned from left to right.\n",
    "Returning matches in the order they were discovered\n",
    "\n",
    "Use the finditer() function to match a pattern in a string and return an iterator yielding the Match objects."
   ]
  },
  {
   "cell_type": "code",
   "execution_count": 25,
   "id": "667a55fb",
   "metadata": {},
   "outputs": [
    {
     "name": "stdout",
     "output_type": "stream",
     "text": [
      "<re.Match object; span=(1, 2), match='e'>\n",
      "<re.Match object; span=(4, 5), match='o'>\n",
      "<re.Match object; span=(5, 6), match='o'>\n",
      "<re.Match object; span=(8, 9), match='o'>\n",
      "<re.Match object; span=(16, 17), match='a'>\n",
      "<re.Match object; span=(20, 21), match='e'>\n",
      "<re.Match object; span=(22, 23), match='e'>\n"
     ]
    }
   ],
   "source": [
    "line = \"Helloo world. I am Here!\";  \n",
    "  \n",
    "# Regex pattern  \n",
    "pattern = r'[aeiou]'  \n",
    "  \n",
    "# Using re.finditer()  \n",
    "iter_ = re.finditer(pattern, line)  \n",
    "  \n",
    "# Iterating the itre_  \n",
    "for i in iter_:  \n",
    "    print(i)  "
   ]
  },
  {
   "cell_type": "markdown",
   "id": "fb3c4eb4",
   "metadata": {},
   "source": [
    "## re.escape(pattern)\n",
    "It escapes the special character in the pattern.\n",
    "The esacpe function become more important when the string contains regular expression metacharacters in it."
   ]
  },
  {
   "cell_type": "code",
   "execution_count": null,
   "id": "16b28fa2",
   "metadata": {},
   "outputs": [],
   "source": [
    "pattern = 'https://www.javatpoint.com/'  \n",
    "  \n",
    "# Using escape function to escape metacharacters  \n",
    "result = re.escape( pattern)   \n",
    "print(\"Result:\", result)"
   ]
  },
  {
   "cell_type": "markdown",
   "id": "3fc225ff",
   "metadata": {},
   "source": [
    "###### The escape function escapes the metacharacter '.' from the pattern. This is useful when want to treat metacharacters as regular characters to match the actual characters themselves."
   ]
  },
  {
   "cell_type": "markdown",
   "id": "f51df712",
   "metadata": {},
   "source": [
    "### search vs match = >"
   ]
  },
  {
   "cell_type": "markdown",
   "id": "a2af205c",
   "metadata": {},
   "source": [
    "##### The match function looks for a match only where the string starts, whereas the search function looks for a match everywhere in the string"
   ]
  },
  {
   "cell_type": "code",
   "execution_count": 28,
   "id": "d4c68416",
   "metadata": {},
   "outputs": [
    {
     "name": "stdout",
     "output_type": "stream",
     "text": [
      "There isn't any match!!\n",
      "Search object group :  <re.Match object; span=(13, 20), match='through'>\n"
     ]
    }
   ],
   "source": [
    "line = \"Learn Python through tutorials on javatpoint\"    \n",
    "  \n",
    "# Using match function to match 'through'  \n",
    "match_object = re.match( r'through', line, re.M|re.I)    \n",
    "if match_object:    \n",
    "    print(\"match object group : \", match_object)    \n",
    "else:    \n",
    "    print( \"There isn't any match!!\") \n",
    "    \n",
    "    \n",
    "    \n",
    "# using search function to search  \n",
    "search_object = re.search( r'through', line, re.M|re.I)    \n",
    "if search_object:    \n",
    "    print(\"Search object group : \", search_object)    \n",
    "else:    \n",
    "    print(\"Nothing found!!\")  "
   ]
  },
  {
   "cell_type": "code",
   "execution_count": null,
   "id": "5ab08dbd",
   "metadata": {},
   "outputs": [],
   "source": []
  }
 ],
 "metadata": {
  "kernelspec": {
   "display_name": "Python 3 (ipykernel)",
   "language": "python",
   "name": "python3"
  },
  "language_info": {
   "codemirror_mode": {
    "name": "ipython",
    "version": 3
   },
   "file_extension": ".py",
   "mimetype": "text/x-python",
   "name": "python",
   "nbconvert_exporter": "python",
   "pygments_lexer": "ipython3",
   "version": "3.10.9"
  }
 },
 "nbformat": 4,
 "nbformat_minor": 5
}
