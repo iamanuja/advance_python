{
 "cells": [
  {
   "cell_type": "markdown",
   "id": "eec54389",
   "metadata": {},
   "source": [
    "# Built in functions"
   ]
  },
  {
   "cell_type": "markdown",
   "id": "3c38d864",
   "metadata": {},
   "source": [
    "###### The all() function returns True if all items in an iterable are true, otherwise it returns False.\n",
    "If the iterable object is empty, the all() function also returns True.\n",
    "\n",
    "all(iterable) # iterable\tAn iterable object (list, tuple, dictionary)\n"
   ]
  },
  {
   "cell_type": "code",
   "execution_count": 3,
   "id": "e216b6e0",
   "metadata": {},
   "outputs": [
    {
     "name": "stdout",
     "output_type": "stream",
     "text": [
      "True False\n"
     ]
    }
   ],
   "source": [
    "print( all([True, True, True]),all([5, 0, 7]) )"
   ]
  },
  {
   "cell_type": "code",
   "execution_count": 7,
   "id": "ee72ef20",
   "metadata": {},
   "outputs": [
    {
     "data": {
      "text/plain": [
       "True"
      ]
     },
     "execution_count": 7,
     "metadata": {},
     "output_type": "execute_result"
    }
   ],
   "source": [
    "all([\" \",\" \",\" \"])"
   ]
  },
  {
   "cell_type": "code",
   "execution_count": 9,
   "id": "770054d3",
   "metadata": {},
   "outputs": [],
   "source": [
    "#any() function returns True if any item in an iterable are true, otherwise it returns False.\n",
    "#If the iterable object is empty, the any() function will return False."
   ]
  },
  {
   "cell_type": "code",
   "execution_count": 2,
   "id": "86724634",
   "metadata": {},
   "outputs": [
    {
     "data": {
      "text/plain": [
       "(True, False)"
      ]
     },
     "execution_count": 2,
     "metadata": {},
     "output_type": "execute_result"
    }
   ],
   "source": [
    "any([0, 1, 0]),any([0, 0, 0])"
   ]
  },
  {
   "cell_type": "code",
   "execution_count": 4,
   "id": "3e7adee7",
   "metadata": {},
   "outputs": [
    {
     "data": {
      "text/plain": [
       "'0b1100'"
      ]
     },
     "execution_count": 4,
     "metadata": {},
     "output_type": "execute_result"
    }
   ],
   "source": [
    "bin(12) # only accept int"
   ]
  },
  {
   "cell_type": "code",
   "execution_count": 6,
   "id": "6c9ee3da",
   "metadata": {},
   "outputs": [
    {
     "data": {
      "text/plain": [
       "True"
      ]
     },
     "execution_count": 6,
     "metadata": {},
     "output_type": "execute_result"
    }
   ],
   "source": [
    "bool(object)           # Any object, like String, List, Number etc.object will always return True, unless:\n",
    "                #The object is empty, like [], (), {} ,False,0,None"
   ]
  },
  {
   "cell_type": "code",
   "execution_count": 6,
   "id": "b221ab55",
   "metadata": {},
   "outputs": [
    {
     "name": "stdout",
     "output_type": "stream",
     "text": [
      "True\n",
      "False\n"
     ]
    }
   ],
   "source": [
    "#callable() function returns True if the specified object is callable, otherwise it returns False.\n",
    "def x():\n",
    "    a = 5\n",
    "print(callable(x))\n",
    "############################\n",
    "x = 5\n",
    "print(callable(x))\n"
   ]
  },
  {
   "cell_type": "code",
   "execution_count": 10,
   "id": "1960f8a4",
   "metadata": {},
   "outputs": [
    {
     "data": {
      "text/plain": [
       "'A'"
      ]
     },
     "execution_count": 10,
     "metadata": {},
     "output_type": "execute_result"
    }
   ],
   "source": [
    " #chr() function returns the character that represents the specified unicode\n",
    "chr(65)"
   ]
  },
  {
   "cell_type": "code",
   "execution_count": 10,
   "id": "779d0bd5",
   "metadata": {},
   "outputs": [
    {
     "data": {
      "text/plain": [
       "14"
      ]
     },
     "execution_count": 10,
     "metadata": {},
     "output_type": "execute_result"
    }
   ],
   "source": [
    "#This Function takes a string as an argument, which is parsed as an expression.\n",
    "x='7+7'\n",
    "eval(x) #eval() function which only accepts a single expression"
   ]
  },
  {
   "cell_type": "code",
   "execution_count": 11,
   "id": "13113a4f",
   "metadata": {},
   "outputs": [
    {
     "ename": "SyntaxError",
     "evalue": "invalid syntax (<string>, line 1)",
     "output_type": "error",
     "traceback": [
      "Traceback \u001b[1;36m(most recent call last)\u001b[0m:\n",
      "\u001b[0m  File \u001b[0;32mC:\\ProgramData\\anaconda3\\lib\\site-packages\\IPython\\core\\interactiveshell.py:3460\u001b[0m in \u001b[0;35mrun_code\u001b[0m\n    exec(code_obj, self.user_global_ns, self.user_ns)\u001b[0m\n",
      "\u001b[1;36m  Cell \u001b[1;32mIn[11], line 2\u001b[1;36m\n\u001b[1;33m    eval(x)\u001b[1;36m\n",
      "\u001b[1;36m  File \u001b[1;32m<string>:1\u001b[1;36m\u001b[0m\n\u001b[1;33m    a=2;b=3;print(a+b)\u001b[0m\n\u001b[1;37m     ^\u001b[0m\n\u001b[1;31mSyntaxError\u001b[0m\u001b[1;31m:\u001b[0m invalid syntax\n"
     ]
    }
   ],
   "source": [
    "x ='a=2;b=3;print(a+b)'#function evaluates the specified expression, if the expression is a legal Python statement,\n",
    "eval(x)"
   ]
  },
  {
   "cell_type": "code",
   "execution_count": 7,
   "id": "413d23cd",
   "metadata": {},
   "outputs": [
    {
     "name": "stdout",
     "output_type": "stream",
     "text": [
      "5\n"
     ]
    }
   ],
   "source": [
    "b='a=2;b=3;print(a+b)'\n",
    "exec(b)#exec() runs Python code dynamically.Execute a block of code"
   ]
  },
  {
   "cell_type": "markdown",
   "id": "b8acc2ee",
   "metadata": {},
   "source": [
    "#### eval() can only execute or evaluate expressions, whereas exec() can execute any piece of Python code."
   ]
  },
  {
   "cell_type": "markdown",
   "id": "1b1aea34",
   "metadata": {},
   "source": [
    "**filter(function, iterable)**\n",
    "function =>\tA Function to be run for each item in the iterable\n",
    "iterable =>\tThe iterable to be filtered\n",
    "\n",
    "The filter() function returns an iterator where the items are filtered through a function to test if the item is accepted or not."
   ]
  },
  {
   "cell_type": "code",
   "execution_count": null,
   "id": "56d5aab5",
   "metadata": {},
   "outputs": [],
   "source": []
  },
  {
   "cell_type": "code",
   "execution_count": 1,
   "id": "829a7b35",
   "metadata": {},
   "outputs": [
    {
     "data": {
      "text/plain": [
       "<filter at 0x29466784130>"
      ]
     },
     "execution_count": 1,
     "metadata": {},
     "output_type": "execute_result"
    }
   ],
   "source": [
    "a=filter(lambda x:x%2==0,[1,2,0,False]) #filter() filters out the items for which the condition is True\n",
    "a"
   ]
  },
  {
   "cell_type": "code",
   "execution_count": 58,
   "id": "a106b3f3",
   "metadata": {},
   "outputs": [
    {
     "data": {
      "text/plain": [
       "[False, True, False, True, False]"
      ]
     },
     "execution_count": 58,
     "metadata": {},
     "output_type": "execute_result"
    }
   ],
   "source": [
    "list(map(lambda x:x%2==0,[1,2,3,4,5]))"
   ]
  },
  {
   "cell_type": "code",
   "execution_count": 7,
   "id": "ed31915a",
   "metadata": {},
   "outputs": [
    {
     "ename": "SyntaxError",
     "evalue": "invalid syntax (3816314141.py, line 2)",
     "output_type": "error",
     "traceback": [
      "\u001b[1;36m  Cell \u001b[1;32mIn[7], line 2\u001b[1;36m\u001b[0m\n\u001b[1;33m    global a=5\u001b[0m\n\u001b[1;37m            ^\u001b[0m\n\u001b[1;31mSyntaxError\u001b[0m\u001b[1;31m:\u001b[0m invalid syntax\n"
     ]
    }
   ],
   "source": [
    "def myfunc(a, b):\n",
    "    global a=5\n",
    "    b=6\n",
    "    return a + b\n",
    "myfunc(\"anu\",\"ja\")\n",
    "print(getattr(myfunc,\"a\"))"
   ]
  },
  {
   "cell_type": "code",
   "execution_count": 2,
   "id": "37838bc2",
   "metadata": {},
   "outputs": [
    {
     "name": "stdout",
     "output_type": "stream",
     "text": [
      "<map object at 0x000002946676CEB0>\n",
      "['appleorange', 'bananalemon', 'cherrypineapple']\n"
     ]
    },
    {
     "ename": "TypeError",
     "evalue": "getattr(): attribute name must be string",
     "output_type": "error",
     "traceback": [
      "\u001b[1;31m---------------------------------------------------------------------------\u001b[0m",
      "\u001b[1;31mTypeError\u001b[0m                                 Traceback (most recent call last)",
      "Cell \u001b[1;32mIn[2], line 8\u001b[0m\n\u001b[0;32m      6\u001b[0m \u001b[38;5;66;03m#convert the map into a list, for readability:\u001b[39;00m\n\u001b[0;32m      7\u001b[0m \u001b[38;5;28mprint\u001b[39m(\u001b[38;5;28mlist\u001b[39m(x))\n\u001b[1;32m----> 8\u001b[0m \u001b[38;5;28mprint\u001b[39m(\u001b[38;5;28;43mgetattr\u001b[39;49m\u001b[43m(\u001b[49m\u001b[43mmyfunc\u001b[49m\u001b[43m,\u001b[49m\u001b[43ma\u001b[49m\u001b[43m)\u001b[49m)\n",
      "\u001b[1;31mTypeError\u001b[0m: getattr(): attribute name must be string"
     ]
    }
   ],
   "source": [
    "def myfunc(a, b):\n",
    "    return a + b\n",
    "\n",
    "x = map(myfunc, ('apple', 'banana', 'cherry'), ('orange', 'lemon', 'pineapple'))\n",
    "print(x)\n",
    "#convert the map into a list, for readability:\n",
    "print(list(x))\n",
    "print(getattr(myfunc,a))"
   ]
  },
  {
   "cell_type": "markdown",
   "id": "84085793",
   "metadata": {},
   "source": [
    "###### Like filter(), map() Python built-in functions, takes a function and applies it on an iterable. It maps True or False values on each item in the iterable."
   ]
  },
  {
   "cell_type": "code",
   "execution_count": 62,
   "id": "2e659d7d",
   "metadata": {},
   "outputs": [
    {
     "name": "stdout",
     "output_type": "stream",
     "text": [
      "[(0, 'apple'), (1, 'banana'), (2, 'cherry')]\n"
     ]
    }
   ],
   "source": [
    "#enumerate(iterable, start)\n",
    "x = ('apple', 'banana', 'cherry')\n",
    "print(list(enumerate(x)))"
   ]
  },
  {
   "cell_type": "code",
   "execution_count": 13,
   "id": "7438cfc7",
   "metadata": {},
   "outputs": [
    {
     "name": "stdout",
     "output_type": "stream",
     "text": [
      "<enumerate object at 0x000001B21926B100>\n",
      "[(0, 'apple'), (1, 'banana'), (2, 'cherry')]\n",
      "0 apple\n",
      "1 banana\n",
      "2 cherry\n"
     ]
    }
   ],
   "source": [
    "#enumerate(iterable, start)\n",
    "x = ('apple', 'banana', 'cherry')\n",
    "y=enumerate(x)\n",
    "print(y)\n",
    "print(list(y))\n",
    "for x,y in enumerate(x):\n",
    "    print(x,y)"
   ]
  },
  {
   "cell_type": "code",
   "execution_count": null,
   "id": "cc26f809",
   "metadata": {},
   "outputs": [],
   "source": []
  },
  {
   "cell_type": "code",
   "execution_count": 22,
   "id": "9dbc80e8",
   "metadata": {},
   "outputs": [
    {
     "data": {
      "text/plain": [
       "36"
      ]
     },
     "execution_count": 22,
     "metadata": {},
     "output_type": "execute_result"
    }
   ],
   "source": [
    " #Returns the value of the specified attribute (property or method)\n",
    "class Person:\n",
    "  name = \"John\"\n",
    "  age = 36\n",
    "  country = \"Norway\"\n",
    "\n",
    "x = getattr(Person, 'age')\n",
    "x"
   ]
  },
  {
   "cell_type": "code",
   "execution_count": 23,
   "id": "dd6de733",
   "metadata": {
    "collapsed": true
   },
   "outputs": [
    {
     "data": {
      "text/plain": [
       "{'__name__': '__main__',\n",
       " '__doc__': 'Automatically created module for IPython interactive environment',\n",
       " '__package__': None,\n",
       " '__loader__': None,\n",
       " '__spec__': None,\n",
       " '__builtin__': <module 'builtins' (built-in)>,\n",
       " '__builtins__': <module 'builtins' (built-in)>,\n",
       " '_ih': ['',\n",
       "  'any([0, 1, 0])',\n",
       "  'any([0, 1, 0]),any([0, 0, 0])',\n",
       "  'bin(12)',\n",
       "  'bin(12) # only accept int',\n",
       "  'bool(object) # Any object, like String, List, Number etc.object will always return True, unless:\\n#The object is empty, like [], (), {} ,False,0,None',\n",
       "  'bool(object)           # Any object, like String, List, Number etc.object will always return True, unless:\\n                #The object is empty, like [], (), {} ,False,0,None',\n",
       "  '#callable() function returns True if the specified object is callable, otherwise it returns False.\\ndef x():\\n  a = 5\\n\\nprint(callable(x))',\n",
       "  '#callable() function returns True if the specified object is callable, otherwise it returns False.\\ndef x():\\n  a = 5\\n\\nprint(callable(x))\\n\\nx = 5\\n\\nprint(callable(x))',\n",
       "  '#callable() function returns True if the specified object is callable, otherwise it returns False.\\ndef x():\\n  a = 5\\nprint(callable(x))\\n############################\\nx = 5\\nprint(callable(x))',\n",
       "  '#chr() function returns the character that represents the specified unicode\\nchr(65)',\n",
       "  \"#This Function takes a string as an argument, which is parsed as an expression.\\nx=7\\neval('x+7')\",\n",
       "  \"#This Function takes a string as an argument, which is parsed as an expression.\\nx=7\\neval('x+7')\\nx = 'print(55)'\\neval(x)\",\n",
       "  \"#This Function takes a string as an argument, which is parsed as an expression.\\nx=7\\neval('x+7')\",\n",
       "  \"x = 'print(55)'\\neval(x)\",\n",
       "  \"x = 'print(55)'#function evaluates the specified expression, if the expression is a legal Python statement,\\neval(x)\",\n",
       "  \"exec('a=2;b=3;print(a+b)')\",\n",
       "  'list(filter(lambda x:x%2==0,[1,2,0,False])) #filter() filters out the items for which the condition is True',\n",
       "  \"getattr(orange,'size')\",\n",
       "  'getattr(\"orange\",\\'size\\')',\n",
       "  'globals()',\n",
       "  '#Returns the value of the specified attribute (property or method)\\nclass Person:\\n name = \"John\"\\n age = 36\\n country = \"Norway\"\\n\\nx = getattr(Person, \\'age\\')',\n",
       "  '#Returns the value of the specified attribute (property or method)\\nclass Person:\\n name = \"John\"\\n age = 36\\n country = \"Norway\"\\n\\nx = getattr(Person, \\'age\\')\\nx',\n",
       "  'globals()\\n#symbol table contains necessary information about the current program    \\n#This Python built-in functions, returns a dictionary of the current global symbol table.'],\n",
       " '_oh': {1: True,\n",
       "  2: (True, False),\n",
       "  3: '0b1100',\n",
       "  4: '0b1100',\n",
       "  5: True,\n",
       "  6: True,\n",
       "  10: 'A',\n",
       "  11: 14,\n",
       "  13: 14,\n",
       "  17: [2, 0, False],\n",
       "  20: {...},\n",
       "  22: 36},\n",
       " '_dh': [WindowsPath('C:/Users/Anuja/Documents/GitHub/python')],\n",
       " 'In': ['',\n",
       "  'any([0, 1, 0])',\n",
       "  'any([0, 1, 0]),any([0, 0, 0])',\n",
       "  'bin(12)',\n",
       "  'bin(12) # only accept int',\n",
       "  'bool(object) # Any object, like String, List, Number etc.object will always return True, unless:\\n#The object is empty, like [], (), {} ,False,0,None',\n",
       "  'bool(object)           # Any object, like String, List, Number etc.object will always return True, unless:\\n                #The object is empty, like [], (), {} ,False,0,None',\n",
       "  '#callable() function returns True if the specified object is callable, otherwise it returns False.\\ndef x():\\n  a = 5\\n\\nprint(callable(x))',\n",
       "  '#callable() function returns True if the specified object is callable, otherwise it returns False.\\ndef x():\\n  a = 5\\n\\nprint(callable(x))\\n\\nx = 5\\n\\nprint(callable(x))',\n",
       "  '#callable() function returns True if the specified object is callable, otherwise it returns False.\\ndef x():\\n  a = 5\\nprint(callable(x))\\n############################\\nx = 5\\nprint(callable(x))',\n",
       "  '#chr() function returns the character that represents the specified unicode\\nchr(65)',\n",
       "  \"#This Function takes a string as an argument, which is parsed as an expression.\\nx=7\\neval('x+7')\",\n",
       "  \"#This Function takes a string as an argument, which is parsed as an expression.\\nx=7\\neval('x+7')\\nx = 'print(55)'\\neval(x)\",\n",
       "  \"#This Function takes a string as an argument, which is parsed as an expression.\\nx=7\\neval('x+7')\",\n",
       "  \"x = 'print(55)'\\neval(x)\",\n",
       "  \"x = 'print(55)'#function evaluates the specified expression, if the expression is a legal Python statement,\\neval(x)\",\n",
       "  \"exec('a=2;b=3;print(a+b)')\",\n",
       "  'list(filter(lambda x:x%2==0,[1,2,0,False])) #filter() filters out the items for which the condition is True',\n",
       "  \"getattr(orange,'size')\",\n",
       "  'getattr(\"orange\",\\'size\\')',\n",
       "  'globals()',\n",
       "  '#Returns the value of the specified attribute (property or method)\\nclass Person:\\n name = \"John\"\\n age = 36\\n country = \"Norway\"\\n\\nx = getattr(Person, \\'age\\')',\n",
       "  '#Returns the value of the specified attribute (property or method)\\nclass Person:\\n name = \"John\"\\n age = 36\\n country = \"Norway\"\\n\\nx = getattr(Person, \\'age\\')\\nx',\n",
       "  'globals()\\n#symbol table contains necessary information about the current program    \\n#This Python built-in functions, returns a dictionary of the current global symbol table.'],\n",
       " 'Out': {1: True,\n",
       "  2: (True, False),\n",
       "  3: '0b1100',\n",
       "  4: '0b1100',\n",
       "  5: True,\n",
       "  6: True,\n",
       "  10: 'A',\n",
       "  11: 14,\n",
       "  13: 14,\n",
       "  17: [2, 0, False],\n",
       "  20: {...},\n",
       "  22: 36},\n",
       " 'get_ipython': <bound method InteractiveShell.get_ipython of <ipykernel.zmqshell.ZMQInteractiveShell object at 0x000001A9888AFD30>>,\n",
       " 'exit': <IPython.core.autocall.ZMQExitAutocall at 0x1a9888adc00>,\n",
       " 'quit': <IPython.core.autocall.ZMQExitAutocall at 0x1a9888adc00>,\n",
       " 'open': <function io.open(file, mode='r', buffering=-1, encoding=None, errors=None, newline=None, closefd=True, opener=None)>,\n",
       " '_': 36,\n",
       " '__': {...},\n",
       " '___': [2, 0, False],\n",
       " '_i': ' #Returns the value of the specified attribute (property or method)\\nclass Person:\\n  name = \"John\"\\n  age = 36\\n  country = \"Norway\"\\n\\nx = getattr(Person, \\'age\\')\\nx',\n",
       " '_ii': ' #Returns the value of the specified attribute (property or method)\\nclass Person:\\n  name = \"John\"\\n  age = 36\\n  country = \"Norway\"\\n\\nx = getattr(Person, \\'age\\')',\n",
       " '_iii': ' globals()',\n",
       " '_i1': 'any([0, 1, 0])',\n",
       " '_1': True,\n",
       " '_i2': 'any([0, 1, 0]),any([0, 0, 0])',\n",
       " '_2': (True, False),\n",
       " '_i3': 'bin(12)',\n",
       " '_3': '0b1100',\n",
       " '_i4': 'bin(12) # only accept int',\n",
       " '_4': '0b1100',\n",
       " '_i5': 'bool(object) # Any object, like String, List, Number etc.object will always return True, unless:\\n#The object is empty, like [], (), {} ,False,0,None',\n",
       " '_5': True,\n",
       " '_i6': 'bool(object)           # Any object, like String, List, Number etc.object will always return True, unless:\\n                #The object is empty, like [], (), {} ,False,0,None',\n",
       " '_6': True,\n",
       " '_i7': '#callable() function returns True if the specified object is callable, otherwise it returns False.\\ndef x():\\n  a = 5\\n\\nprint(callable(x))',\n",
       " 'x': 36,\n",
       " '_i8': '#callable() function returns True if the specified object is callable, otherwise it returns False.\\ndef x():\\n  a = 5\\n\\nprint(callable(x))\\n\\nx = 5\\n\\nprint(callable(x))',\n",
       " '_i9': '#callable() function returns True if the specified object is callable, otherwise it returns False.\\ndef x():\\n  a = 5\\nprint(callable(x))\\n############################\\nx = 5\\nprint(callable(x))',\n",
       " '_i10': ' #chr() function returns the character that represents the specified unicode\\nchr(65)',\n",
       " '_10': 'A',\n",
       " '_i11': \"#This Function takes a string as an argument, which is parsed as an expression.\\nx=7\\neval('x+7')\",\n",
       " '_11': 14,\n",
       " '_i12': \"#This Function takes a string as an argument, which is parsed as an expression.\\nx=7\\neval('x+7')\\nx = 'print(55)'\\neval(x)\",\n",
       " '_i13': \"#This Function takes a string as an argument, which is parsed as an expression.\\nx=7\\neval('x+7')\",\n",
       " '_13': 14,\n",
       " '_i14': \"x = 'print(55)'\\neval(x)\",\n",
       " '_i15': \"x = 'print(55)'#function evaluates the specified expression, if the expression is a legal Python statement,\\neval(x)\",\n",
       " '_i16': \"exec('a=2;b=3;print(a+b)')\",\n",
       " 'a': 2,\n",
       " 'b': 3,\n",
       " '_i17': 'list(filter(lambda x:x%2==0,[1,2,0,False])) #filter() filters out the items for which the condition is True',\n",
       " '_17': [2, 0, False],\n",
       " '_i18': \"getattr(orange,'size')\",\n",
       " '_i19': 'getattr(\"orange\",\\'size\\')',\n",
       " '_i20': ' globals()',\n",
       " '_20': {...},\n",
       " '_i21': ' #Returns the value of the specified attribute (property or method)\\nclass Person:\\n  name = \"John\"\\n  age = 36\\n  country = \"Norway\"\\n\\nx = getattr(Person, \\'age\\')',\n",
       " 'Person': __main__.Person,\n",
       " '_i22': ' #Returns the value of the specified attribute (property or method)\\nclass Person:\\n  name = \"John\"\\n  age = 36\\n  country = \"Norway\"\\n\\nx = getattr(Person, \\'age\\')\\nx',\n",
       " '_22': 36,\n",
       " '_i23': ' globals()\\n#symbol table contains necessary information about the current program    \\n#This Python built-in functions, returns a dictionary of the current global symbol table.'}"
      ]
     },
     "execution_count": 23,
     "metadata": {},
     "output_type": "execute_result"
    }
   ],
   "source": [
    " globals()\n",
    "#symbol table contains necessary information about the current program    \n",
    "#This Python built-in functions, returns a dictionary of the current global symbol table."
   ]
  },
  {
   "cell_type": "code",
   "execution_count": 25,
   "id": "5df0664d",
   "metadata": {},
   "outputs": [
    {
     "ename": "KeyError",
     "evalue": "'__file__'",
     "output_type": "error",
     "traceback": [
      "\u001b[1;31m---------------------------------------------------------------------------\u001b[0m",
      "\u001b[1;31mKeyError\u001b[0m                                  Traceback (most recent call last)",
      "Cell \u001b[1;32mIn[25], line 2\u001b[0m\n\u001b[0;32m      1\u001b[0m x \u001b[38;5;241m=\u001b[39m \u001b[38;5;28mglobals\u001b[39m()\n\u001b[1;32m----> 2\u001b[0m \u001b[38;5;28mprint\u001b[39m(\u001b[43mx\u001b[49m\u001b[43m[\u001b[49m\u001b[38;5;124;43m\"\u001b[39;49m\u001b[38;5;124;43m__file__\u001b[39;49m\u001b[38;5;124;43m\"\u001b[39;49m\u001b[43m]\u001b[49m)\n",
      "\u001b[1;31mKeyError\u001b[0m: '__file__'"
     ]
    }
   ],
   "source": [
    "x = globals()\n",
    "print(x[\"__file__\"])"
   ]
  },
  {
   "cell_type": "code",
   "execution_count": 26,
   "id": "13124545",
   "metadata": {},
   "outputs": [
    {
     "name": "stdout",
     "output_type": "stream",
     "text": [
      "Help on built-in function print in module builtins:\n",
      "\n",
      "print(...)\n",
      "    print(value, ..., sep=' ', end='\\n', file=sys.stdout, flush=False)\n",
      "    \n",
      "    Prints the values to a stream, or to sys.stdout by default.\n",
      "    Optional keyword arguments:\n",
      "    file:  a file-like object (stream); defaults to the current sys.stdout.\n",
      "    sep:   string inserted between values, default a space.\n",
      "    end:   string appended after the last value, default a newline.\n",
      "    flush: whether to forcibly flush the stream.\n",
      "\n"
     ]
    }
   ],
   "source": [
    "help(print)"
   ]
  },
  {
   "cell_type": "code",
   "execution_count": 27,
   "id": "7ff9ac30",
   "metadata": {},
   "outputs": [
    {
     "data": {
      "text/plain": [
       "'0x4'"
      ]
     },
     "execution_count": 27,
     "metadata": {},
     "output_type": "execute_result"
    }
   ],
   "source": [
    "hex(4) # converts the int into a hexadecimal value.starts with the prefix 0x"
   ]
  },
  {
   "cell_type": "code",
   "execution_count": 29,
   "id": "b9933320",
   "metadata": {},
   "outputs": [
    {
     "data": {
      "text/plain": [
       "1827656076928"
      ]
     },
     "execution_count": 29,
     "metadata": {},
     "output_type": "execute_result"
    }
   ],
   "source": [
    "id(x) #Returns the id of an object"
   ]
  },
  {
   "cell_type": "markdown",
   "id": "e8651ecb",
   "metadata": {},
   "source": [
    "#### You can create an iterator from an iterable using the iter() function. Iterators are typically used when you need more control over the iteration process or when working with large datasets where loading all elements into memory at once is not feasible."
   ]
  },
  {
   "cell_type": "code",
   "execution_count": 31,
   "id": "b6d222a4",
   "metadata": {},
   "outputs": [
    {
     "name": "stdout",
     "output_type": "stream",
     "text": [
      "apple\n",
      "banana\n",
      "cherry\n"
     ]
    }
   ],
   "source": [
    "#The iter() function returns an iterator object.\n",
    "#iter(object, sentinel) ,object => Required. An iterable object\n",
    "#sentinel => Optional. If the object is a callable object the iteration will stop when the returned value is the same as the sentinel\n",
    "\n",
    "x = iter([\"apple\", \"banana\", \"cherry\"])\n",
    "print(next(x))\n",
    "print(next(x))\n",
    "print(next(x))"
   ]
  },
  {
   "cell_type": "code",
   "execution_count": 8,
   "id": "a38ec8ed",
   "metadata": {},
   "outputs": [
    {
     "data": {
      "text/plain": [
       "1"
      ]
     },
     "execution_count": 8,
     "metadata": {},
     "output_type": "execute_result"
    }
   ],
   "source": [
    "min([1,2,3,4,5,6])"
   ]
  },
  {
   "cell_type": "code",
   "execution_count": 33,
   "id": "e9160930",
   "metadata": {},
   "outputs": [],
   "source": [
    "#len() function returns the number of items in an object.\n",
    "#min()\tReturns the smallest item in an iterable\n",
    "#max()\tReturns the largest item in an iterable"
   ]
  },
  {
   "cell_type": "markdown",
   "id": "032cc498",
   "metadata": {},
   "source": [
    "###### next(iterable, default)\n"
   ]
  },
  {
   "cell_type": "markdown",
   "id": "0bebd8c5",
   "metadata": {},
   "source": [
    "**iterable**\tRequired. An iterable object.\n",
    "**default**\tOptional. An default value to return if the iterable has reached to its end."
   ]
  },
  {
   "cell_type": "code",
   "execution_count": 34,
   "id": "4e75e2ef",
   "metadata": {},
   "outputs": [
    {
     "name": "stdout",
     "output_type": "stream",
     "text": [
      "apple\n",
      "banana\n",
      "cherry\n",
      "orange\n"
     ]
    }
   ],
   "source": [
    "mylist = iter([\"apple\", \"banana\", \"cherry\"])\n",
    "x = next(mylist, \"orange\")\n",
    "print(x)\n",
    "x = next(mylist, \"orange\")\n",
    "print(x)\n",
    "x = next(mylist, \"orange\")\n",
    "print(x)\n",
    "x = next(mylist, \"orange\")\n",
    "print(x)"
   ]
  },
  {
   "cell_type": "code",
   "execution_count": 38,
   "id": "94d4d77b",
   "metadata": {},
   "outputs": [
    {
     "data": {
      "text/plain": [
       "104"
      ]
     },
     "execution_count": 38,
     "metadata": {},
     "output_type": "execute_result"
    }
   ],
   "source": [
    "ord(\"h\") #Convert an integer representing the Unicode of the specified character"
   ]
  },
  {
   "cell_type": "code",
   "execution_count": 37,
   "id": "79a875a5",
   "metadata": {},
   "outputs": [
    {
     "data": {
      "text/plain": [
       "'h'"
      ]
     },
     "execution_count": 37,
     "metadata": {},
     "output_type": "execute_result"
    }
   ],
   "source": [
    "chr(104)"
   ]
  },
  {
   "cell_type": "markdown",
   "id": "90e05820",
   "metadata": {},
   "source": [
    "##### range()"
   ]
  },
  {
   "cell_type": "code",
   "execution_count": null,
   "id": "56c17e79",
   "metadata": {},
   "outputs": [],
   "source": [
    "#reversed(sequence)"
   ]
  },
  {
   "cell_type": "code",
   "execution_count": 4,
   "id": "88d6d7a9",
   "metadata": {},
   "outputs": [
    {
     "data": {
      "text/plain": [
       "<reversed at 0x183b1eec1f0>"
      ]
     },
     "execution_count": 4,
     "metadata": {},
     "output_type": "execute_result"
    }
   ],
   "source": [
    "reversed((\"a\", \"b\", \"c\", \"d\"))"
   ]
  },
  {
   "cell_type": "code",
   "execution_count": 1,
   "id": "a18ba949",
   "metadata": {},
   "outputs": [
    {
     "data": {
      "text/plain": [
       "123.56"
      ]
     },
     "execution_count": 1,
     "metadata": {},
     "output_type": "execute_result"
    }
   ],
   "source": [
    "round(123.56478,2)"
   ]
  },
  {
   "cell_type": "code",
   "execution_count": 6,
   "id": "a80430ed",
   "metadata": {},
   "outputs": [
    {
     "name": "stdout",
     "output_type": "stream",
     "text": [
      "('d', 'e')\n"
     ]
    }
   ],
   "source": [
    "# slice(start, end, step)\n",
    "a = (\"a\", \"b\", \"c\", \"d\", \"e\", \"f\", \"g\", \"h\")\n",
    "x = slice(3, 5)\n",
    "print(a[slice(3, 5)])\n"
   ]
  },
  {
   "cell_type": "code",
   "execution_count": 7,
   "id": "b9794d63",
   "metadata": {},
   "outputs": [
    {
     "data": {
      "text/plain": [
       "['a', 'b', 'c', 'd', 'e', 'f', 'g', 'h']"
      ]
     },
     "execution_count": 7,
     "metadata": {},
     "output_type": "execute_result"
    }
   ],
   "source": [
    "sorted(a)#\tReturns a sorted list"
   ]
  },
  {
   "cell_type": "code",
   "execution_count": null,
   "id": "87b77044",
   "metadata": {},
   "outputs": [],
   "source": [
    "# sum(iterable, start)"
   ]
  },
  {
   "cell_type": "code",
   "execution_count": 8,
   "id": "4f0cffc7",
   "metadata": {},
   "outputs": [
    {
     "data": {
      "text/plain": [
       "17"
      ]
     },
     "execution_count": 8,
     "metadata": {},
     "output_type": "execute_result"
    }
   ],
   "source": [
    "sum((1, 2, 3, 4, 5),2)"
   ]
  },
  {
   "cell_type": "code",
   "execution_count": 52,
   "id": "181e23c9",
   "metadata": {},
   "outputs": [],
   "source": [
    "# zip(iterable1, iterable2, iterable3 ...)\n",
    "\n",
    "#The zip() function returns a zip object, which is an iterator of tuples where the first item in each passed iterator is paired together, and then the second item in each passed iterator are paired together etc."
   ]
  },
  {
   "cell_type": "code",
   "execution_count": 57,
   "id": "74120757",
   "metadata": {
    "scrolled": true
   },
   "outputs": [
    {
     "name": "stdout",
     "output_type": "stream",
     "text": [
      "<zip object at 0x000001A98AF88700>\n",
      "[('John', 'Jenny'), ('Charles', 'Christy'), ('Mike', 'Monica')]\n"
     ]
    }
   ],
   "source": [
    "a = (\"John\", \"Charles\", \"Mike\")\n",
    "b = (\"Jenny\", \"Christy\", \"Monica\", \"Vicky\")\n",
    "\n",
    "x = zip(a, b)\n",
    "print(x)\n",
    "print(list(zip(a,b)))"
   ]
  },
  {
   "cell_type": "code",
   "execution_count": null,
   "id": "79508b20",
   "metadata": {},
   "outputs": [],
   "source": []
  },
  {
   "cell_type": "code",
   "execution_count": null,
   "id": "6f957518",
   "metadata": {},
   "outputs": [],
   "source": []
  },
  {
   "cell_type": "code",
   "execution_count": 10,
   "id": "f3eced09",
   "metadata": {},
   "outputs": [
    {
     "name": "stdout",
     "output_type": "stream",
     "text": [
      "5\n"
     ]
    }
   ],
   "source": [
    "print(abs(-5)) #absolute value of x...i.e. the positive distance between x and zero i.e 5-0=5"
   ]
  },
  {
   "cell_type": "markdown",
   "id": "78436018",
   "metadata": {},
   "source": [
    "##### max(x, y, z, .... ) **x, y, z, ...** =numeric expressions."
   ]
  },
  {
   "cell_type": "code",
   "execution_count": 22,
   "id": "57575f67",
   "metadata": {},
   "outputs": [
    {
     "name": "stdout",
     "output_type": "stream",
     "text": [
      "max(80, 100, 1000) :  1000\n"
     ]
    }
   ],
   "source": [
    "print (\"max(80, 100, 1000) : \", max(80, 100, 1000)) #min()"
   ]
  },
  {
   "cell_type": "code",
   "execution_count": 28,
   "id": "746465db",
   "metadata": {},
   "outputs": [
    {
     "name": "stdout",
     "output_type": "stream",
     "text": [
      "round(80.264, 2) :  80.26\n"
     ]
    }
   ],
   "source": [
    "print (\"round(80.264, 2) : \", round(80.264, 2)) # round up to 2 digit"
   ]
  },
  {
   "cell_type": "markdown",
   "id": "166689e2",
   "metadata": {},
   "source": [
    "## Mathematical Functions"
   ]
  },
  {
   "cell_type": "markdown",
   "id": "55a8a8d7",
   "metadata": {},
   "source": [
    "# math Module"
   ]
  },
  {
   "cell_type": "code",
   "execution_count": 1,
   "id": "fbd8297e",
   "metadata": {},
   "outputs": [],
   "source": [
    "import math"
   ]
  },
  {
   "cell_type": "code",
   "execution_count": 68,
   "id": "9bb552cc",
   "metadata": {},
   "outputs": [],
   "source": [
    "math_module=['acos','acosh','asin','asinh','atan','atan2','atanh','ceil','comb','copysign','cos','cosh','degrees','dist',\n",
    "             'e','erf','erfc','exp','expm1','fabs','factorial','floor','fmod','frexp','fsum','gamma','gcd','hypot','inf','isclose',\n",
    " 'isfinite','isinf','isnan','isqrt','lcm','ldexp','lgamma','log','log10','log1p','log2','modf','nan','nextafter','perm','pi',\n",
    "'pow','prod','radians','remainder','sin','sinh','sqrt','tan','tanh','tau','trunc','ulp']"
   ]
  },
  {
   "cell_type": "markdown",
   "id": "a5f2d1f0",
   "metadata": {},
   "source": [
    "##### **fabs()** similar to the abs() function,\n",
    "bt\n",
    "**abs() is a built in** function whereas **fabs() is defined in math module.**\n",
    "fabs() function works only on **float and integer** whereas **abs() works => complex number** also."
   ]
  },
  {
   "cell_type": "code",
   "execution_count": 4,
   "id": "2cb5e9ab",
   "metadata": {},
   "outputs": [
    {
     "name": "stdout",
     "output_type": "stream",
     "text": [
      "5.0\n"
     ]
    }
   ],
   "source": [
    "print(abs(-5.0))"
   ]
  },
  {
   "cell_type": "code",
   "execution_count": 2,
   "id": "c3b42ac1",
   "metadata": {},
   "outputs": [
    {
     "name": "stdout",
     "output_type": "stream",
     "text": [
      "5.0\n"
     ]
    }
   ],
   "source": [
    "print(math.fabs(-5))"
   ]
  },
  {
   "cell_type": "code",
   "execution_count": 15,
   "id": "122ba86e",
   "metadata": {},
   "outputs": [
    {
     "name": "stdout",
     "output_type": "stream",
     "text": [
      "-5 6\n"
     ]
    }
   ],
   "source": [
    "import math\n",
    "print(math.ceil(-5.4),math.ceil(5.4)) #method rounds a number **UP** to the nearest integer,gratest no -5>-6, 6>5"
   ]
  },
  {
   "cell_type": "code",
   "execution_count": 17,
   "id": "5ca44a9d",
   "metadata": {},
   "outputs": [
    {
     "name": "stdout",
     "output_type": "stream",
     "text": [
      "-6 5\n"
     ]
    }
   ],
   "source": [
    "print(math.floor(-5.4),math.floor(5.4)) #round a number **DOWN** to the nearest integer"
   ]
  },
  {
   "cell_type": "code",
   "execution_count": 18,
   "id": "c9b55725",
   "metadata": {},
   "outputs": [
    {
     "name": "stdout",
     "output_type": "stream",
     "text": [
      "2.4150062132629406e-20\n"
     ]
    }
   ],
   "source": [
    "print(math.exp(-45.17))#The exp() method returns exponential of x: e^x."
   ]
  },
  {
   "cell_type": "code",
   "execution_count": 21,
   "id": "46d94899",
   "metadata": {},
   "outputs": [
    {
     "name": "stdout",
     "output_type": "stream",
     "text": [
      "3.6888794541139363\n",
      "1.6020599913279623\n"
     ]
    }
   ],
   "source": [
    "print(math.log(40))# This method returns natural logarithm of x, for x > 0.\n",
    "print(math.log10(40))#The log10() method returns base-10 logarithm of x for x > 0."
   ]
  },
  {
   "cell_type": "markdown",
   "id": "c9d35bb5",
   "metadata": {},
   "source": [
    "##### modf() => \n",
    "returns the **fractional** and **integer parts** of x in a two-item tuple. The integer part is returned as a float."
   ]
  },
  {
   "cell_type": "code",
   "execution_count": 10,
   "id": "26c7a80d",
   "metadata": {},
   "outputs": [],
   "source": [
    "import math"
   ]
  },
  {
   "cell_type": "code",
   "execution_count": 11,
   "id": "26e15410",
   "metadata": {},
   "outputs": [
    {
     "name": "stdout",
     "output_type": "stream",
     "text": [
      "math.modf(100.12) :  (0.12000000000000455, 100.0)\n"
     ]
    }
   ],
   "source": [
    "print (\"math.modf(100.12) : \", math.modf(100.12)) # 0.12000000000000455 :fractional part ,100.0 : int part"
   ]
  },
  {
   "cell_type": "code",
   "execution_count": 12,
   "id": "f7a8d02d",
   "metadata": {},
   "outputs": [
    {
     "name": "stdout",
     "output_type": "stream",
     "text": [
      "math.pow(5, 2) :  25.0\n"
     ]
    }
   ],
   "source": [
    "print (\"math.pow(5, 2) : \", math.pow(5, 2))"
   ]
  },
  {
   "cell_type": "code",
   "execution_count": 29,
   "id": "e8b34cb8",
   "metadata": {},
   "outputs": [
    {
     "name": "stdout",
     "output_type": "stream",
     "text": [
      "math.sqrt(100) :  10.0\n"
     ]
    }
   ],
   "source": [
    "print (\"math.sqrt(100) : \", math.sqrt(100))"
   ]
  },
  {
   "cell_type": "code",
   "execution_count": 80,
   "id": "ab4b47d9",
   "metadata": {},
   "outputs": [
    {
     "name": "stdout",
     "output_type": "stream",
     "text": [
      "120\n"
     ]
    }
   ],
   "source": [
    "print(math.factorial(5)) # 1*2*3*4*5 =120"
   ]
  },
  {
   "cell_type": "code",
   "execution_count": 81,
   "id": "dd0e79f8",
   "metadata": {},
   "outputs": [
    {
     "name": "stdout",
     "output_type": "stream",
     "text": [
      "60\n"
     ]
    }
   ],
   "source": [
    "#returns the number of ways to choose k items from n items with order and without repetition.\n",
    "#(math.perm(n, k))\n",
    "#k parameter is optional. If we do not provide one, this method will return n!(i.e factorial) \n",
    "print (math.perm(5, 3))"
   ]
  },
  {
   "cell_type": "code",
   "execution_count": 3,
   "id": "2b3d083e",
   "metadata": {},
   "outputs": [
    {
     "name": "stdout",
     "output_type": "stream",
     "text": [
      "120\n"
     ]
    }
   ],
   "source": [
    "print (math.perm(5)) # see print(math.factorial(5))"
   ]
  },
  {
   "cell_type": "code",
   "execution_count": 5,
   "id": "d266d1b4",
   "metadata": {},
   "outputs": [
    {
     "name": "stdout",
     "output_type": "stream",
     "text": [
      "10\n"
     ]
    }
   ],
   "source": [
    "print (math.comb(5, 3)) # returns the number of ways picking k unordered outcomes from n possibilities, without repetition, also known as combinations."
   ]
  },
  {
   "cell_type": "code",
   "execution_count": 6,
   "id": "e269dc15",
   "metadata": {},
   "outputs": [
    {
     "name": "stdout",
     "output_type": "stream",
     "text": [
      "2.0\n",
      "9.486832980505138\n"
     ]
    }
   ],
   "source": [
    "#math.dist() method returns the Euclidean distance between two points (p and q), where p and q are the coordinates of that point.\n",
    "#Note: The two points (p and q) must be of the same dimensions.\n",
    "p = [3]\n",
    "q = [1]\n",
    "print (math.dist(p, q))  #3-1\n",
    "\n",
    "p = [3, 3]\n",
    "q = [6, 12]\n",
    "# Calculate Euclidean distance d =√[(x2 – x1)2 + (y2 – y1)2] , 3^2 + 9^2 =9+81=sqrt(90)\n",
    "print (math.dist(p, q))"
   ]
  },
  {
   "cell_type": "code",
   "execution_count": 8,
   "id": "90e876fa",
   "metadata": {},
   "outputs": [
    {
     "name": "stdout",
     "output_type": "stream",
     "text": [
      "1340.0\n"
     ]
    }
   ],
   "source": [
    "#returns the float sum of all items in any iterable (tuples, arrays, lists, etc.).\n",
    "print(math.fsum([100, 400, 340, 500]))"
   ]
  },
  {
   "cell_type": "code",
   "execution_count": 9,
   "id": "50412953",
   "metadata": {},
   "outputs": [
    {
     "name": "stdout",
     "output_type": "stream",
     "text": [
      "6\n"
     ]
    }
   ],
   "source": [
    "print (math.gcd(6, 12))"
   ]
  },
  {
   "cell_type": "code",
   "execution_count": 5,
   "id": "eb0bd121",
   "metadata": {},
   "outputs": [
    {
     "name": "stdout",
     "output_type": "stream",
     "text": [
      "3.1622776601683795\n",
      "3\n"
     ]
    }
   ],
   "source": [
    "print (math.sqrt(10))\n",
    "#rounds a square root number downwards to the nearest integer.\n",
    "print (math.isqrt(10))\n"
   ]
  },
  {
   "cell_type": "code",
   "execution_count": 4,
   "id": "03b1ae09",
   "metadata": {},
   "outputs": [
    {
     "name": "stdout",
     "output_type": "stream",
     "text": [
      "8\n"
     ]
    }
   ],
   "source": [
    "#  math.prod(iterable, start) =>Return the product of the elements\n",
    "sequence = (2, 2, 2)\n",
    "print(math.prod(sequence))"
   ]
  },
  {
   "cell_type": "code",
   "execution_count": 5,
   "id": "ebc2d656",
   "metadata": {},
   "outputs": [
    {
     "name": "stdout",
     "output_type": "stream",
     "text": [
      "3.141592653589793\n"
     ]
    }
   ],
   "source": [
    "#math.radians() method converts a degree value into radians.\n",
    "print(math.radians(180))"
   ]
  },
  {
   "cell_type": "code",
   "execution_count": 6,
   "id": "e036b8a2",
   "metadata": {},
   "outputs": [
    {
     "name": "stdout",
     "output_type": "stream",
     "text": [
      "2.0\n"
     ]
    }
   ],
   "source": [
    "print (math.remainder(18, 4)) # Return the remainder of x/y\n"
   ]
  },
  {
   "cell_type": "code",
   "execution_count": 7,
   "id": "0c6d18ae",
   "metadata": {},
   "outputs": [
    {
     "name": "stdout",
     "output_type": "stream",
     "text": [
      "2\n",
      "8\n",
      "-99\n"
     ]
    }
   ],
   "source": [
    "# Return the truncated integer parts of different numbers\n",
    "print(math.trunc(2.77))\n",
    "print(math.trunc(8.32))\n",
    "print(math.trunc(-99.29))"
   ]
  },
  {
   "cell_type": "markdown",
   "id": "902e263f",
   "metadata": {},
   "source": [
    "# random module - python"
   ]
  },
  {
   "cell_type": "raw",
   "id": "fc328a20",
   "metadata": {},
   "source": [
    "seed()\tInitialize the random number generator\n",
    "getstate()\tReturns the current internal state of the random number generator\n",
    "setstate()\tRestores the internal state of the random number generator\n",
    "getrandbits()\tReturns a number representing the random bits\n",
    "randrange()\tReturns a random number between the given range\n",
    "randint()\tReturns a random number between the given range\n",
    "choice()\tReturns a random element from the given sequence\n",
    "choices()\tReturns a list with a random selection from the given sequence\n",
    "shuffle()\tTakes a sequence and returns the sequence in a random order\n",
    "sample()\tReturns a given sample of a sequence\n",
    "random()\tReturns a random float number between 0 and 1\n",
    "uniform()\tReturns a random float number between two given parameters\n",
    "triangular()\tReturns a random float number between two given parameters, you can also set a mode parameter to specify the midpoint between the two other parameters\n",
    "betavariate()\tReturns a random float number between 0 and 1 based on the Beta distribution (used in statistics)\n",
    "expovariate()\tReturns a random float number based on the Exponential distribution (used in statistics)\n",
    "gammavariate()\tReturns a random float number based on the Gamma distribution (used in statistics)\n",
    "gauss()\tReturns a random float number based on the Gaussian distribution (used in probability theories)\n",
    "lognormvariate()\tReturns a random float number based on a log-normal distribution (used in probability theories)\n",
    "normalvariate()\tReturns a random float number based on the normal distribution (used in probability theories)\n",
    "vonmisesvariate()\tReturns a random float number based on the von Mises distribution (used in directional statistics)\n",
    "paretovariate()\tReturns a random float number based on the Pareto distribution (used in probability theories)\n",
    "weibullvariate()\tReturns a random float number based on the Weibull distribution (used in statistics)"
   ]
  },
  {
   "cell_type": "code",
   "execution_count": 33,
   "id": "d5601414",
   "metadata": {},
   "outputs": [],
   "source": [
    "import random "
   ]
  },
  {
   "cell_type": "markdown",
   "id": "8e4c1473",
   "metadata": {},
   "source": [
    "### random.seed(a, version) :\n",
    "used to initialize the random number generator.random number **generator needs a number to start with (a seed value),**\n",
    "to be able to generate a random number.\n",
    "\n",
    "By default the random number generator uses the current system time.\n",
    "\n",
    "Note: If you use the **same seed value** twice => **same random number** twice."
   ]
  },
  {
   "cell_type": "code",
   "execution_count": 34,
   "id": "c291f5c7",
   "metadata": {},
   "outputs": [
    {
     "name": "stdout",
     "output_type": "stream",
     "text": [
      "0.9560342718892494\n",
      "0.9560342718892494\n"
     ]
    }
   ],
   "source": [
    "random.seed(2)\n",
    "print(random.random())\n",
    "\n",
    "random.seed(2)\n",
    "print(random.random())"
   ]
  },
  {
   "cell_type": "markdown",
   "id": "2aca0fc0",
   "metadata": {},
   "source": [
    "### getstate() and setstate()"
   ]
  },
  {
   "cell_type": "code",
   "execution_count": 37,
   "id": "f5dda476",
   "metadata": {
    "collapsed": true
   },
   "outputs": [
    {
     "name": "stdout",
     "output_type": "stream",
     "text": [
      "(3, (2795783892, 395849121, 98570960, 2376100755, 2177522890, 2504717265, 2347188955, 1917192941, 4224845853, 924957857, 3900290900, 1538732895, 452740699, 1025323115, 3522177605, 3170372800, 2504372959, 1372949368, 2850833036, 2133087287, 1659478358, 2895759573, 1600925861, 1007184579, 3445206454, 1475366362, 876481703, 2062842931, 184297115, 2687403335, 1526802232, 2152601552, 906329239, 1998303570, 147461200, 30056355, 2159651231, 3107617281, 4268941752, 817866686, 705888778, 3391579545, 3623754823, 3387896979, 3434795578, 1478640898, 3114109282, 1133122673, 1013541776, 464715237, 1440798556, 1629226919, 3551247746, 3330766629, 1580231722, 2170440685, 3916014928, 3743382350, 3538132933, 3859090976, 2579753351, 2379080382, 1650236430, 1068600899, 490717807, 11991824, 948622273, 2994615527, 3838857406, 4005644211, 2391852721, 2606031647, 4114596986, 1132277206, 4029290232, 50960741, 3782473905, 2963287951, 798318543, 2079523494, 1969548497, 2791917028, 891823027, 3300138652, 3162773564, 2381659380, 1118269306, 3679597557, 4044061104, 2487822745, 193875499, 3361938136, 3969882624, 3364367527, 961749549, 2892483093, 2871625189, 3157497208, 2769397686, 4072775358, 1028681378, 1509430362, 13216230, 4009140330, 2269217924, 3297533753, 865127105, 2722294730, 2947232030, 828517429, 3091201378, 3274986092, 85465997, 959679615, 2610026894, 1921673102, 2433292660, 1756951456, 431742229, 3651973081, 686182206, 707645611, 1515806932, 1931669349, 1917507665, 2559672562, 3865292370, 1380017981, 3108911073, 2068398231, 1804268806, 4193791493, 25216325, 1743000760, 2642219261, 1833030446, 3993236067, 2458512851, 2286602721, 3111626614, 915494220, 3226211577, 1355645271, 2954276685, 630890711, 3348568147, 180643545, 363505523, 1042457592, 1451567672, 3254637420, 2860565318, 1576730548, 1029548446, 1631562189, 2668958428, 1009313060, 4270778188, 3095371224, 3277559597, 1057868346, 3478309362, 4065444537, 2295577647, 11521028, 898463984, 3488487336, 1627510789, 373097963, 269475414, 1502673486, 2638898985, 856038734, 2426361858, 1923125624, 3971836093, 780449583, 600011408, 667759086, 3483663822, 1835431999, 1272417008, 4029816369, 3101800723, 184508659, 4033632658, 1251781924, 2075709719, 1574017102, 3374129135, 187590169, 2331368390, 3659180092, 3092883023, 510291940, 589240205, 3482708245, 3843679910, 1438914130, 2316538598, 4155928877, 346088079, 1967362533, 1765159437, 451228081, 2397999592, 153044928, 946429236, 2563538497, 3066399131, 1897013875, 2830788608, 3780040590, 1929173008, 170939807, 1478503644, 1640364541, 4136880830, 3085453454, 3985064963, 675192176, 3752503104, 1184377453, 3083849893, 1796144563, 950547450, 1510532067, 1780069715, 3418687113, 3659237509, 3353241297, 541819855, 890528266, 2065608495, 2295739447, 1589824183, 1778772517, 3817261842, 225604810, 1689620940, 2700634436, 2046009423, 1249551163, 3516121397, 2397749582, 1500652079, 62882360, 1194559585, 2384378439, 1679219168, 2580387105, 2981827799, 2552360620, 3075848108, 1011533699, 1509328079, 193564935, 160601684, 1288760312, 2223718343, 3654821176, 1896794529, 349280983, 1546475493, 4292601437, 2621926577, 819095791, 1243857669, 3123802122, 538140047, 3768924237, 1888181561, 3769493186, 381611147, 1122263078, 1075381371, 1631465033, 1194513281, 684162567, 870873549, 3408723683, 68249560, 2985099129, 10795576, 2562554701, 3458920008, 3114368253, 416857973, 462929655, 3537848022, 3243118581, 2887521103, 3950178534, 590673569, 4137928521, 3951603432, 3834315253, 1744451250, 4225928787, 2088806913, 2548627890, 3373592527, 2465939399, 3785233218, 330503853, 660047106, 2808020431, 4200658205, 395048216, 3704264913, 64767248, 4136990161, 3177892696, 1821685412, 1126703215, 3912292040, 1724619913, 4235884335, 3878005566, 1900795822, 187177535, 927782630, 2859119853, 238917120, 3500223279, 2318275105, 3016710686, 4267578751, 311252949, 3483155742, 1808890560, 1431586652, 1879300035, 725394876, 1192335283, 140275642, 2684170982, 2066882587, 3127467229, 4244210350, 2502459692, 1661713612, 985606881, 1662981928, 1411553157, 2732154933, 3974642916, 1788144504, 3329494265, 662167098, 2155677721, 3979046167, 1455972693, 1104909917, 1095345280, 3772015099, 2285657584, 3841794403, 170619619, 3436985069, 1841771349, 3919245444, 4069851202, 4110745088, 1546646802, 3664354295, 2457479441, 295826295, 1023861882, 1949132116, 3268040839, 652159906, 2222481433, 3225411290, 742049011, 3517541573, 4106084411, 2126107405, 4022472317, 802332501, 572984828, 520732591, 1505544726, 4321124, 1841343336, 2124981756, 1124508766, 4270683964, 1583829011, 845800019, 716123869, 3982234336, 722574374, 1352537856, 3553493804, 1915929592, 4076519933, 1438971606, 1665936510, 3970203634, 690972093, 599761795, 2832268052, 1694304241, 1630425166, 89542046, 3413972229, 3627024643, 1686523108, 1381195011, 3825498725, 3457605953, 1367854113, 918590050, 744436603, 1472948165, 1832878451, 293505441, 1749207247, 1248739072, 2950686332, 1245714870, 3417117114, 3500788931, 460116332, 1377959640, 923353011, 1299629463, 1667467954, 1687940520, 1660670402, 294918611, 1831348465, 98409171, 3070171527, 376234887, 2634244736, 3843467821, 2478304039, 1681072766, 3455009052, 966269473, 497640180, 487073938, 307898147, 4116075973, 986742720, 945260308, 219031845, 3671847627, 196912548, 3124102448, 193306746, 831233737, 764045514, 114632697, 1560299670, 3013653818, 2775628437, 2339065675, 852640448, 3619775514, 1106277578, 373566283, 3131387224, 3234021341, 2155131180, 39978562, 3991170348, 3437633257, 3271741981, 182587855, 2041821787, 3646243578, 1817243938, 1974429951, 2618148756, 3816148916, 936848148, 2710759181, 2180829502, 3333879818, 3489644232, 2856329944, 3481312249, 1781876556, 1699840451, 2913016920, 1890955269, 2193539468, 3472660096, 2854700164, 3950528310, 1968442517, 2715549505, 3457602676, 1679011109, 966578552, 4141406861, 3208575921, 2240435598, 3801705485, 3459393095, 1600532174, 3503640054, 4245440747, 1854386563, 3639983527, 613704554, 728829155, 829584311, 2913505623, 3994794450, 2821485302, 3240461763, 2707517094, 2820928525, 2700608697, 383568884, 1498739318, 149003644, 3068896410, 1168941140, 2693401016, 801826073, 676121995, 3697449345, 2927694504, 2875398212, 1321513739, 4040278003, 1353408545, 2713962466, 442920999, 3620061952, 417645939, 4007071759, 3014540243, 472749682, 1460729086, 123164050, 2666036098, 1951677601, 1519702278, 3110078836, 942994297, 1933220331, 12108482, 4291544600, 1387194970, 3497441956, 1088179296, 3282487014, 1480037656, 2054344837, 3349787962, 3959318678, 3820040170, 2599415992, 1492977255, 3632825614, 1405691014, 3152176044, 2239410832, 3000375052, 2791217396, 2823067956, 1791994432, 481971837, 1645541616, 4124743770, 136895071, 3363684805, 1659021715, 1404796121, 3754487043, 3790687458, 3288205592, 2317334877, 447135942, 1865367218, 3228105320, 159788830, 2376275962, 3333160323, 1522983730, 1695098039, 426626928, 3299756069, 2198399918, 2160388248, 1545352287, 10371812, 3942995404, 3525750624, 4050289310, 1409853676, 126822994, 1154411424, 867553816, 3967095290, 874247105, 1055009468, 3416093041, 4064606672, 2071965715, 565807448, 769658343, 4009199415, 2216095823, 406968242, 800564227, 2417906387, 465423459, 2286095299, 1341930256, 2697785780, 2225502327, 2081212823, 2476694355, 1711104774, 2684157059, 2322666190, 3785941655, 2), None)\n"
     ]
    }
   ],
   "source": [
    "# returns an object with the current internal state of the random number generator. This object can be passed to \n",
    "#the setstate() method to restore the state. There are no parameters passed in this method.\n",
    "print(random.getstate())"
   ]
  },
  {
   "cell_type": "markdown",
   "id": "061f53a4",
   "metadata": {},
   "source": [
    "###### random.setstate(state) #A state object. the setstate() method will restore the state of  the random number generator back to this sate."
   ]
  },
  {
   "cell_type": "code",
   "execution_count": 39,
   "id": "dd1d39e2",
   "metadata": {},
   "outputs": [
    {
     "name": "stdout",
     "output_type": "stream",
     "text": [
      "0.08487199515892163\n",
      "0.8354988781294496\n",
      "0.8354988781294496\n"
     ]
    }
   ],
   "source": [
    "import random\n",
    "\n",
    "#print a random number:\n",
    "print(random.random())\n",
    "\n",
    "#capture the state:\n",
    "state1 = random.getstate()\n",
    "\n",
    "#print another random number:\n",
    "print(random.random())\n",
    "\n",
    "#restore the state:\n",
    "random.setstate(state1)\n",
    "\n",
    "#and the next random number should be the same as when you captured the state:\n",
    "print(random.random())"
   ]
  },
  {
   "cell_type": "code",
   "execution_count": 41,
   "id": "426ca6dc",
   "metadata": {},
   "outputs": [
    {
     "name": "stdout",
     "output_type": "stream",
     "text": [
      "0.8354988781294496\n"
     ]
    }
   ],
   "source": [
    "random.setstate(state1)\n",
    "print(random.random()) "
   ]
  },
  {
   "cell_type": "markdown",
   "id": "2dd53ef3",
   "metadata": {},
   "source": [
    "### using seed() method and   ( getstate()-setstate() )   \n",
    "methods => we can generate **same random numbers**"
   ]
  },
  {
   "cell_type": "code",
   "execution_count": 43,
   "id": "2468c4c3",
   "metadata": {},
   "outputs": [
    {
     "name": "stdout",
     "output_type": "stream",
     "text": [
      "207\n"
     ]
    }
   ],
   "source": [
    "print(random.getrandbits(8)) # Return an 8 bits sized random integer:"
   ]
  },
  {
   "cell_type": "code",
   "execution_count": 44,
   "id": "baba7839",
   "metadata": {},
   "outputs": [
    {
     "name": "stdout",
     "output_type": "stream",
     "text": [
      "8\n"
     ]
    }
   ],
   "source": [
    "#random.randrange(start, stop, step)..... never get stop element in o/p\n",
    "#returns a randomly selected element from the specified range.\n",
    "print(random.randrange(3, 9))"
   ]
  },
  {
   "cell_type": "code",
   "execution_count": 45,
   "id": "0c75391d",
   "metadata": {},
   "outputs": [
    {
     "name": "stdout",
     "output_type": "stream",
     "text": [
      "9\n"
     ]
    }
   ],
   "source": [
    "#  This method is an alias for randrange(start, stop+1)\n",
    "# returns an integer number selected element from the specified range.\n",
    "print(random.randint(3, 9))"
   ]
  },
  {
   "cell_type": "code",
   "execution_count": 55,
   "id": "87b040eb",
   "metadata": {},
   "outputs": [
    {
     "name": "stdout",
     "output_type": "stream",
     "text": [
      "0.7151508982374535\n"
     ]
    }
   ],
   "source": [
    "#Return random number between 0.0 and 1.0:\n",
    "print(random.random()) "
   ]
  },
  {
   "cell_type": "code",
   "execution_count": 60,
   "id": "ca8ac61b",
   "metadata": {},
   "outputs": [
    {
     "name": "stdout",
     "output_type": "stream",
     "text": [
      "56.99328288378281\n"
     ]
    }
   ],
   "source": [
    "#Return a random float number between a,b both included:\n",
    "print(random.uniform(20, 60))"
   ]
  },
  {
   "cell_type": "code",
   "execution_count": 61,
   "id": "8cac9ed0",
   "metadata": {},
   "outputs": [
    {
     "name": "stdout",
     "output_type": "stream",
     "text": [
      "a\n"
     ]
    }
   ],
   "source": [
    "#random element from the specified sequence(string, a range, a list, a tuple or any other kind of )\n",
    "print(random.choice(\"anuja\"))"
   ]
  },
  {
   "cell_type": "code",
   "execution_count": 62,
   "id": "46ae5e2d",
   "metadata": {},
   "outputs": [
    {
     "name": "stdout",
     "output_type": "stream",
     "text": [
      "['apple', 'apple', 'apple', 'apple', 'banana', 'apple', 'apple', 'apple', 'apple', 'apple', 'cherry', 'apple', 'banana', 'banana']\n"
     ]
    }
   ],
   "source": [
    "#choices() method returns a list\n",
    "# weights :possibility of each element gets selected than the other\n",
    "# k : no of items in o/p\n",
    "mylist = [\"apple\", \"banana\", \"cherry\"]\n",
    "print(random.choices(mylist, weights = [10, 1, 1], k = 14))"
   ]
  },
  {
   "cell_type": "code",
   "execution_count": 63,
   "id": "a0f042ef",
   "metadata": {},
   "outputs": [
    {
     "name": "stdout",
     "output_type": "stream",
     "text": [
      "['apple', 'banana', 'cherry']\n"
     ]
    }
   ],
   "source": [
    "#shuffle() method takes a sequence, & reorganize the order of the items.\n",
    "a=[\"apple\", \"banana\", \"cherry\"] \n",
    "random.shuffle(a) \n",
    "print(a) # can't implement this way = >  random.shuffle(random.shuffle(a)) \n"
   ]
  },
  {
   "cell_type": "code",
   "execution_count": 64,
   "id": "34a4fc20",
   "metadata": {},
   "outputs": [
    {
     "name": "stdout",
     "output_type": "stream",
     "text": [
      "['banana', 'cherry']\n"
     ]
    }
   ],
   "source": [
    "#returns a list with a randomly selection of a specified number of items from a sequnce.\n",
    "#Note: does not change the original sequence. , k= no of items\n",
    "mylist = [\"apple\", \"banana\", \"cherry\"]\n",
    "print(random.sample(mylist, k=2))"
   ]
  },
  {
   "cell_type": "markdown",
   "id": "9f30c956",
   "metadata": {},
   "source": [
    "# itertools Module"
   ]
  },
  {
   "cell_type": "code",
   "execution_count": 6,
   "id": "362defcc",
   "metadata": {},
   "outputs": [],
   "source": [
    "import itertools"
   ]
  },
  {
   "cell_type": "code",
   "execution_count": 1,
   "id": "f4e09e3b",
   "metadata": {},
   "outputs": [],
   "source": [
    "from itertools import *"
   ]
  },
  {
   "cell_type": "code",
   "execution_count": null,
   "id": "be5f785e",
   "metadata": {},
   "outputs": [],
   "source": [
    "it = ['accumulate','chain','combinations','combinations_with_replacement','compress',\n",
    "      'count','cycle','dropwhile','filterfalse','groupby','islice','pairwise','permutations',\n",
    "      'product','repeat','starmap','takewhile','tee','zip_longest']"
   ]
  },
  {
   "cell_type": "markdown",
   "id": "128462b9",
   "metadata": {},
   "source": [
    "### Types of iterators\n",
    "Different types of iterators provided by this module are: \n",
    "\n",
    "1. Infinite iterators\n",
    "2. Combinatoric iterators\n",
    "3. Terminating iterators"
   ]
  },
  {
   "cell_type": "markdown",
   "id": "7a349abf",
   "metadata": {},
   "source": [
    "### 1 . Infinite iterators (count, cycle, repeat) =>\n",
    "\n",
    "**1.count(start, step) =>** This iterator prints value from start and continues **infinitely** .by **default value of start is 0 and step is 1.**\n",
    " \n",
    "**2.cycle(iterable) =>**  This iterator takes an iterable as an argument and prints it indefinitely in a cyclic manner.\n",
    "\n",
    "**3.repeat(object, times)=>**  This iterator takes an object and repeats it infinitely. It takes an optional times parameter that is used as a termination condition. "
   ]
  },
  {
   "cell_type": "code",
   "execution_count": 8,
   "id": "4e154d5a",
   "metadata": {},
   "outputs": [
    {
     "name": "stdout",
     "output_type": "stream",
     "text": [
      "3\n",
      "8\n",
      "13\n",
      "18\n",
      "23\n",
      "28\n"
     ]
    }
   ],
   "source": [
    "for i in itertools.count(3, 5):\n",
    "        if i == 33:\n",
    "            break\n",
    "        else:\n",
    "            print(i)"
   ]
  },
  {
   "cell_type": "code",
   "execution_count": 9,
   "id": "c91f6dc5",
   "metadata": {},
   "outputs": [
    {
     "name": "stderr",
     "output_type": "stream",
     "text": [
      "\n",
      "KeyboardInterrupt\n",
      "\n"
     ]
    }
   ],
   "source": [
    "print(list(itertools.count(3,5)))"
   ]
  },
  {
   "cell_type": "code",
   "execution_count": 26,
   "id": "19bad3c3",
   "metadata": {},
   "outputs": [
    {
     "name": "stdout",
     "output_type": "stream",
     "text": [
      "3 2 1 3 2 1 3 2 1 3 2 1 3 2 1 3 "
     ]
    }
   ],
   "source": [
    "j=0 #to prevent it from running indefinitely\n",
    "for i in cycle(\"321\"):\n",
    "    if j>15:\n",
    "        break\n",
    "    else:\n",
    "        print(i , end=\" \")\n",
    "        j=j+1"
   ]
  },
  {
   "cell_type": "code",
   "execution_count": 28,
   "id": "558851f1",
   "metadata": {},
   "outputs": [
    {
     "name": "stdout",
     "output_type": "stream",
     "text": [
      "scaler scaler scaler scaler scaler "
     ]
    }
   ],
   "source": [
    "for i in itertools.repeat(\"scaler\", 5):\n",
    "    print(i , end=\" \")"
   ]
  },
  {
   "cell_type": "code",
   "execution_count": 29,
   "id": "9e886eae",
   "metadata": {},
   "outputs": [
    {
     "name": "stdout",
     "output_type": "stream",
     "text": [
      "['python', 'python', 'python', 'python', 'python']\n"
     ]
    }
   ],
   "source": [
    "print(list(repeat(\"python\",5)))"
   ]
  },
  {
   "cell_type": "markdown",
   "id": "37f58056",
   "metadata": {},
   "source": [
    "### 2. Combinatoric iterators"
   ]
  },
  {
   "cell_type": "markdown",
   "id": "ff848f55",
   "metadata": {},
   "source": [
    "#### Product(), Permutations(), Combinations() and Combinations_with_replacement()"
   ]
  },
  {
   "cell_type": "markdown",
   "id": "ead6cc7a",
   "metadata": {},
   "source": [
    "**Product() =>** This iterator is used to compute the cartesian product of the input series of iterables. It takes an optional argument repeat, that specifies the number of repetitions for the product of an iterable with itself. The output is in the form of sorted tuples.\n",
    "\n",
    "**Permutations(iterable, group_size)=>** This iterator is used to generate all the possible permutations of an iterable. Every element is decided to be unique based on its position and not its value. Permutations() takes iterable and group_size as two of its arguments, if the group_size value is not given or is None, then group_size takes the length of the iterable as its value.\n",
    "\n",
    "**Combinations(iterable, group_size)=>** This iterator is used to generate all the possible unique combinations for the iterable passed as an argument along with the specified group_size in sorted order.\n",
    "\n",
    "**Combinations_with_replacement(iterable, group_size)=>** This iterator is similar to combinations(), but this one allows individual elements in an iterable to get repeated more than once.\n"
   ]
  },
  {
   "cell_type": "code",
   "execution_count": 3,
   "id": "a5ae8322",
   "metadata": {},
   "outputs": [
    {
     "name": "stdout",
     "output_type": "stream",
     "text": [
      "[('A', 1), ('A', 2), ('B', 1), ('B', 2), ('C', 1), ('C', 2)]\n",
      " \n",
      "Using repeat:\n",
      "[('Scaler', 'Scaler'), ('Scaler', 'Academy'), ('Academy', 'Scaler'), ('Academy', 'Academy')]\n",
      " \n",
      "[(1, 4), (1, 5), (1, 6), (2, 4), (2, 5), (2, 6), (3, 4), (3, 5), (3, 6)]\n"
     ]
    }
   ],
   "source": [
    "print(list(product(\"ABC\",[1,2])))\n",
    "print(\" \")\n",
    "print(\"Using repeat:\")\n",
    "print(list(product(['Scaler', 'Academy'], repeat = 2)))\n",
    "print(\" \")\n",
    "number=[[1,2,3],[4,5,6]]\n",
    "print(list(product(*number)))"
   ]
  },
  {
   "cell_type": "code",
   "execution_count": 12,
   "id": "fdcae108",
   "metadata": {},
   "outputs": [
    {
     "name": "stdout",
     "output_type": "stream",
     "text": [
      "[(1, 2), (1, 3), (2, 1), (2, 3), (3, 1), (3, 2)]\n",
      "[('X', 'Y', 'Z'), ('X', 'Z', 'Y'), ('Y', 'X', 'Z'), ('Y', 'Z', 'X'), ('Z', 'X', 'Y'), ('Z', 'Y', 'X')]\n"
     ]
    }
   ],
   "source": [
    "print(list(permutations(range(1,4),2) ))\n",
    "\n",
    "print(list(permutations(\"XYZ\",3) ))"
   ]
  },
  {
   "cell_type": "code",
   "execution_count": 15,
   "id": "3e4a6a69",
   "metadata": {},
   "outputs": [
    {
     "name": "stdout",
     "output_type": "stream",
     "text": [
      "('A', 'B', 'C') ('A', 'C', 'B') ('B', 'A', 'C') ('B', 'C', 'A') ('C', 'A', 'B') ('C', 'B', 'A') "
     ]
    }
   ],
   "source": [
    "for i in permutations([\"A\",\"B\",\"C\"]):\n",
    "    print(i,end=\" \")"
   ]
  },
  {
   "cell_type": "code",
   "execution_count": 16,
   "id": "5e4c2c46",
   "metadata": {},
   "outputs": [
    {
     "name": "stdout",
     "output_type": "stream",
     "text": [
      "['pro', 'por', 'rpo', 'rop', 'opr', 'orp']\n",
      "[('p', 'r', 'o'), ('p', 'o', 'r'), ('r', 'p', 'o'), ('r', 'o', 'p'), ('o', 'p', 'r'), ('o', 'r', 'p')]\n"
     ]
    }
   ],
   "source": [
    "from itertools import permutations\n",
    "words = [''.join(p) for p in permutations('pro')]\n",
    "print(words)\n",
    "\n",
    "print(list(permutations('pro') ))"
   ]
  },
  {
   "cell_type": "code",
   "execution_count": 11,
   "id": "9e7a309b",
   "metadata": {},
   "outputs": [
    {
     "name": "stdout",
     "output_type": "stream",
     "text": [
      "('a', 'n', 'u')\n",
      "('a', 'u', 'n')\n",
      "('n', 'a', 'u')\n",
      "('n', 'u', 'a')\n",
      "('u', 'a', 'n')\n",
      "('u', 'n', 'a')\n"
     ]
    }
   ],
   "source": [
    "a=\"anu\"\n",
    "for i in permutations(a):\n",
    "    print(i)"
   ]
  },
  {
   "cell_type": "code",
   "execution_count": 64,
   "id": "345b1386",
   "metadata": {},
   "outputs": [
    {
     "name": "stdout",
     "output_type": "stream",
     "text": [
      "[('array', 'Linked List'), ('array', 'Trees'), ('Linked List', 'Trees')]\n",
      "[('A', 'B'), ('A', 'C'), ('B', 'C')]\n"
     ]
    }
   ],
   "source": [
    "data = ['array', 'Linked List', 'Trees']\n",
    "print(list(itertools.combinations(data, 2)))\n",
    "print(list(itertools.combinations('ABC', 2)))"
   ]
  },
  {
   "cell_type": "code",
   "execution_count": 65,
   "id": "224dbaba",
   "metadata": {},
   "outputs": [
    {
     "name": "stdout",
     "output_type": "stream",
     "text": [
      "[('array', 'array'), ('array', 'Linked List'), ('array', 'Trees'), ('Linked List', 'Linked List'), ('Linked List', 'Trees'), ('Trees', 'Trees')]\n",
      "[('A', 'A'), ('A', 'B'), ('A', 'C'), ('B', 'B'), ('B', 'C'), ('C', 'C')]\n"
     ]
    }
   ],
   "source": [
    "data = ['array', 'Linked List', 'Trees'] \n",
    "print(list(itertools.combinations_with_replacement(data, 2)))\n",
    "print(list(itertools.combinations_with_replacement('ABC', 2)))"
   ]
  },
  {
   "cell_type": "markdown",
   "id": "48d6ef5b",
   "metadata": {},
   "source": [
    "### 3. Terminating iterators"
   ]
  },
  {
   "cell_type": "markdown",
   "id": "d6fc6363",
   "metadata": {},
   "source": [
    "**1. accumulate(iterable, function)**\n",
    "This finite iterator takes an iterable and a function as arguments, and the function is implemented at each iteration to return the accumulated result. If no function is passed to the accumulate iterator, then the addition is done by default.\n",
    "\n",
    "**2. chain(iterable1, iterable2)** \n",
    "This finite iterator displays all the values passed as iterables in the form of a chain.\n",
    "\n",
    "**3. chain.from_iterable(iterable1)** \n",
    "This finite iterator is implemented similar to chain() but here only an iterator container is passed instead of multiple.\n",
    "\n",
    "**4. compress(iterable, selector)**\n",
    "This finite iterator filters the value from the passed iterable based on the boolean list passed as the second argument. Values corresponding to 1 or True are selected while the rest all are ignored.\n",
    "\n",
    "**5. dropwhile(function, sequence)** \n",
    "This finite iterator removes the sequence elements as long as the passed function returns True, but once the function returns False all the remaining elements afterward are printed.\n",
    "\n",
    "**6. filterfalse(function, sequence)**\n",
    "This finite iterator prints only those values for which the passed function returns False.\n",
    "\n",
    "**7.starmap(function, iterable)** This finite iterator computes the function value on the arguments of the passed iterable.\n",
    "\n",
    "**8. takewhile(function, iterable)** This finite iterator is opposite to dropwhile(), as it prints those values from the iterable for which the passed function returns True till the function becomes false.\n",
    "\n",
    "**9.tee(iterator, count)** This finite iterator splits the passed iterator into a count number of independent iterators. The default value of count is 2.\n",
    "\n",
    "**10 .zip_longest(*iterables, fillvalue)** This finite iterator prints the values by aggregating them from each iterable. If any iterable is fully exhausted, the remaining values are filled by the value given to the fillvalue parameter. The default value for fillvalue is None."
   ]
  },
  {
   "cell_type": "markdown",
   "id": "dd2d6974",
   "metadata": {},
   "source": [
    "## accumulate(iterable, function) "
   ]
  },
  {
   "cell_type": "code",
   "execution_count": 99,
   "id": "5ceb611e",
   "metadata": {},
   "outputs": [
    {
     "data": {
      "text/plain": [
       "<itertools.accumulate at 0x2273296d580>"
      ]
     },
     "execution_count": 99,
     "metadata": {},
     "output_type": "execute_result"
    }
   ],
   "source": [
    "#accumulate(iterable, func=operator.add, *, initial=None):\n",
    "n=range(0,5)\n",
    "x=itertools.accumulate(n)\n",
    "x"
   ]
  },
  {
   "cell_type": "code",
   "execution_count": 22,
   "id": "152e1813",
   "metadata": {},
   "outputs": [
    {
     "name": "stdout",
     "output_type": "stream",
     "text": [
      "1 3 6 10 15 21 28 36 45 "
     ]
    }
   ],
   "source": [
    "data=range(1,10)\n",
    "for i in itertools.accumulate(data):\n",
    "    print(i,end=\" \")"
   ]
  },
  {
   "cell_type": "code",
   "execution_count": 21,
   "id": "53df6f50",
   "metadata": {},
   "outputs": [
    {
     "name": "stdout",
     "output_type": "stream",
     "text": [
      "[1, 3, 6, 10, 15, 21, 28, 36, 45]\n"
     ]
    }
   ],
   "source": [
    "# accumulate helps to print cumulative no.s\n",
    "print(list(itertools.accumulate(data))) "
   ]
  },
  {
   "cell_type": "code",
   "execution_count": 18,
   "id": "3bfafd17",
   "metadata": {},
   "outputs": [
    {
     "name": "stdout",
     "output_type": "stream",
     "text": [
      "[1, 2, 6, 24, 120, 720, 5040, 40320, 362880]\n"
     ]
    }
   ],
   "source": [
    "import operator\n",
    "print(list(itertools.accumulate(data,operator.mul)))"
   ]
  },
  {
   "cell_type": "code",
   "execution_count": 19,
   "id": "1cb0db69",
   "metadata": {},
   "outputs": [
    {
     "name": "stdout",
     "output_type": "stream",
     "text": [
      "[1, -1, -4, -8, -13, -19, -26, -34, -43]\n"
     ]
    }
   ],
   "source": [
    "print(list(itertools.accumulate(data,operator.sub)))"
   ]
  },
  {
   "cell_type": "code",
   "execution_count": null,
   "id": "0840aaf6",
   "metadata": {},
   "outputs": [],
   "source": [
    "# using past o/p in current session\n",
    "1 2 3 4 5 6 7 8 9 \n",
    "1=1 \n",
    "2+1=3\n",
    "3+3=6\n",
    "4+6 =10 \n",
    "\n",
    "1= -1\n",
    "1-2 = -1\n",
    "-1-3=-4\n",
    "-4-4 =-8\n",
    "-8-5=-13\n",
    "-13-6=-19"
   ]
  },
  {
   "cell_type": "markdown",
   "id": "c1c3cb23",
   "metadata": {},
   "source": [
    "## chain"
   ]
  },
  {
   "cell_type": "code",
   "execution_count": 67,
   "id": "ec6a278b",
   "metadata": {},
   "outputs": [
    {
     "name": "stdout",
     "output_type": "stream",
     "text": [
      "All values in the chain are : [1, 2, 3, 4, 2, 4, 6, 8, 3, 9, 12, 15]\n"
     ]
    }
   ],
   "source": [
    "# creating 3 iterables\n",
    "l1 = [1, 2, 3, 4]\n",
    "l2 = [2, 4, 6, 8]\n",
    "l3 = [3, 9, 12, 15]\n",
    "print (\"All values in the chain are : \", end =\"\")\n",
    "print (list(itertools.chain(l1, l2, l3)))"
   ]
  },
  {
   "cell_type": "markdown",
   "id": "0871cf6b",
   "metadata": {},
   "source": [
    "## chain.from_iterable(iterable1)"
   ]
  },
  {
   "cell_type": "code",
   "execution_count": 69,
   "id": "210c6cc1",
   "metadata": {},
   "outputs": [
    {
     "name": "stdout",
     "output_type": "stream",
     "text": [
      "All values in the chain are : [1, 2, 3, 4, 2, 4, 6, 8, 3, 9, 12, 15]\n"
     ]
    }
   ],
   "source": [
    "l1 = [1, 2, 3, 4]\n",
    "l2 = [2, 4, 6, 8]\n",
    "l3 = [3, 9, 12, 15]\n",
    "# creating a list of lists as a single iterator \n",
    "l = [l1, l2, l3]\n",
    "print (\"All values in the chain are : \", end =\"\")\n",
    "print (list(itertools.chain.from_iterable(l)))"
   ]
  },
  {
   "cell_type": "markdown",
   "id": "068e1c7f",
   "metadata": {},
   "source": [
    "## compress(iterable, selector)"
   ]
  },
  {
   "cell_type": "code",
   "execution_count": 70,
   "id": "20080b9b",
   "metadata": {},
   "outputs": [
    {
     "name": "stdout",
     "output_type": "stream",
     "text": [
      "compressed values are : ['S', 'R', 'A', 'Y']\n"
     ]
    }
   ],
   "source": [
    "print (\"compressed values are : \", end =\"\")\n",
    "print (list(itertools.compress('SCALERACADEMY', [1, 0, 0, 0, 0, 1, 0, 0, 1, 0, 0, 0, 1])))"
   ]
  },
  {
   "cell_type": "markdown",
   "id": "8a8c0c2a",
   "metadata": {},
   "source": [
    "## dropwhile(function, sequence)"
   ]
  },
  {
   "cell_type": "code",
   "execution_count": 74,
   "id": "3b328c9f",
   "metadata": {},
   "outputs": [
    {
     "name": "stdout",
     "output_type": "stream",
     "text": [
      "[4, 5, 6, 7, 8, 9, 10, 2]\n"
     ]
    }
   ],
   "source": [
    "nums = [1, 2, 3, 4, 5, 6, 7, 8, 9, 10, 2]\n",
    "print(list(itertools.dropwhile(lambda x: x < 4, nums))) #once the function returns False all the remaining elements afterward are printed.\n"
   ]
  },
  {
   "cell_type": "markdown",
   "id": "085fd185",
   "metadata": {},
   "source": [
    "## filterfalse(function, sequence)"
   ]
  },
  {
   "cell_type": "code",
   "execution_count": 72,
   "id": "3ada3ec4",
   "metadata": {},
   "outputs": [
    {
     "name": "stdout",
     "output_type": "stream",
     "text": [
      "[4, 5, 6, 7, 8, 9, 10]\n"
     ]
    }
   ],
   "source": [
    "nums = [1, 2, 3, 4, 5, 6, 7, 8, 9, 10, 2]\n",
    "print(list(itertools.filterfalse(lambda x: x < 4, nums)))#only those values for which the passed function returns False."
   ]
  },
  {
   "cell_type": "markdown",
   "id": "fe9fa909",
   "metadata": {},
   "source": [
    "## starmap(function, iterable)"
   ]
  },
  {
   "cell_type": "code",
   "execution_count": 73,
   "id": "be9bbca4",
   "metadata": {},
   "outputs": [
    {
     "name": "stdout",
     "output_type": "stream",
     "text": [
      "The star-mappped on the basis of function: [10, 90, 8, 27]\n"
     ]
    }
   ],
   "source": [
    "l = [(1, 10, 5), (53, 42, 90), (8, 4, 1), (16, 12, 27)]\n",
    "print (\"The star-mappped on the basis of function: \", end =\"\")\n",
    "print (list(itertools.starmap(max, l))) # computes the function value on the arguments of the passed iterable."
   ]
  },
  {
   "cell_type": "markdown",
   "id": "400b5599",
   "metadata": {},
   "source": [
    "## takewhile(function, iterable) "
   ]
  },
  {
   "cell_type": "code",
   "execution_count": 75,
   "id": "3cb6f895",
   "metadata": {},
   "outputs": [
    {
     "name": "stdout",
     "output_type": "stream",
     "text": [
      "Values from the list till 1st false are : [2, 4, 6]\n"
     ]
    }
   ],
   "source": [
    "nums = [2, 4, 6, 3, 5, 8]\n",
    "print (\"Values from the list till 1st false are : \", end =\"\")\n",
    "print (list(itertools.takewhile(lambda x : x % 2 == 0, nums)))"
   ]
  },
  {
   "cell_type": "markdown",
   "id": "20d28835",
   "metadata": {},
   "source": [
    "## tee(iterator, count)"
   ]
  },
  {
   "cell_type": "code",
   "execution_count": 77,
   "id": "6badcd1b",
   "metadata": {},
   "outputs": [
    {
     "name": "stdout",
     "output_type": "stream",
     "text": [
      "The iterators are: \n",
      "[1, 2, 3, 4, 5]\n",
      "[1, 2, 3, 4, 5]\n",
      "[1, 2, 3, 4, 5]\n"
     ]
    }
   ],
   "source": [
    "lst = [1, 2, 3, 4, 5]\n",
    "# storing list in iterator i\n",
    "i = iter(lst) \n",
    "# creating a list of 3 iterators\n",
    "l = itertools.tee(i, 3)\n",
    "print (\"The iterators are: \")\n",
    "for i in range(3):\n",
    "    print(list(l[i]))"
   ]
  },
  {
   "cell_type": "code",
   "execution_count": 78,
   "id": "97969777",
   "metadata": {},
   "outputs": [
    {
     "name": "stdout",
     "output_type": "stream",
     "text": [
      "[1, 2, 3, 4, 5]\n",
      "[1, 2, 3, 4, 5]\n",
      "[1, 2, 3, 4, 5]\n"
     ]
    }
   ],
   "source": [
    "l = itertools.tee( iter([1, 2, 3, 4, 5]) , 3) #now l is object \n",
    "\n",
    "for i in range(3):\n",
    "    print(list(l[i]))"
   ]
  },
  {
   "cell_type": "markdown",
   "id": "f83a07a2",
   "metadata": {},
   "source": [
    "## zip_longest(*iterables, fillvalue)"
   ]
  },
  {
   "cell_type": "code",
   "execution_count": null,
   "id": "0c8858b9",
   "metadata": {},
   "outputs": [],
   "source": [
    "data = ['Arrays', 'Linked Lists', 'Trees', 'Graphs', 'Heaps',]\n",
    "nums = [1, 2, 3, 4, 5, 6, 7]\n",
    "print(list(itertools.zip_longest(data, nums, fillvalue='NA')))"
   ]
  },
  {
   "cell_type": "code",
   "execution_count": null,
   "id": "2163e6c4",
   "metadata": {},
   "outputs": [],
   "source": []
  },
  {
   "cell_type": "code",
   "execution_count": null,
   "id": "f916c235",
   "metadata": {},
   "outputs": [],
   "source": []
  }
 ],
 "metadata": {
  "kernelspec": {
   "display_name": "Python 3 (ipykernel)",
   "language": "python",
   "name": "python3"
  },
  "language_info": {
   "codemirror_mode": {
    "name": "ipython",
    "version": 3
   },
   "file_extension": ".py",
   "mimetype": "text/x-python",
   "name": "python",
   "nbconvert_exporter": "python",
   "pygments_lexer": "ipython3",
   "version": "3.10.9"
  }
 },
 "nbformat": 4,
 "nbformat_minor": 5
}
