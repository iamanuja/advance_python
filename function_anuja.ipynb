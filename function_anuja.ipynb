{
 "cells": [
  {
   "cell_type": "code",
   "execution_count": 5,
   "metadata": {},
   "outputs": [
    {
     "name": "stdout",
     "output_type": "stream",
     "text": [
      "2\n"
     ]
    },
    {
     "data": {
      "text/plain": [
       "2"
      ]
     },
     "execution_count": 5,
     "metadata": {},
     "output_type": "execute_result"
    }
   ],
   "source": [
    "def car(a,b):\n",
    "    c=a%b\n",
    "    print(c)\n",
    "    return c\n",
    "\n",
    "car(b=3,a=5)\n",
    "    "
   ]
  },
  {
   "cell_type": "code",
   "execution_count": null,
   "metadata": {},
   "outputs": [],
   "source": []
  },
  {
   "cell_type": "code",
   "execution_count": 2,
   "metadata": {},
   "outputs": [
    {
     "name": "stdout",
     "output_type": "stream",
     "text": [
      "inner\n",
      "inner\n",
      "global\n"
     ]
    }
   ],
   "source": [
    "x = \"global\"\n",
    "\n",
    "def outer_function():\n",
    "    x = \"outer\"\n",
    "\n",
    "    def inner_function():\n",
    "        nonlocal x\n",
    "        x = \"inner\"\n",
    "        print(x)\n",
    "\n",
    "    inner_function()\n",
    "    print(x)\n",
    "\n",
    "outer_function()\n",
    "print(x)"
   ]
  },
  {
   "cell_type": "code",
   "execution_count": null,
   "metadata": {
    "id": "6ojwSYUtIbPP"
   },
   "outputs": [],
   "source": [
    "def add(x,y):\n",
    "  z=x+y\n",
    "  print(z)"
   ]
  },
  {
   "cell_type": "code",
   "execution_count": null,
   "metadata": {
    "colab": {
     "base_uri": "https://localhost:8080/"
    },
    "id": "7RrkUjY_IhyW",
    "outputId": "fa30024f-2026-4f6b-b83c-ac8b93088dc2"
   },
   "outputs": [
    {
     "name": "stdout",
     "output_type": "stream",
     "text": [
      "5\n"
     ]
    }
   ],
   "source": [
    "add(2,3)"
   ]
  },
  {
   "cell_type": "code",
   "execution_count": null,
   "metadata": {
    "colab": {
     "base_uri": "https://localhost:8080/"
    },
    "id": "y6M9Vsy-IjoT",
    "outputId": "b1b91e2f-4b11-41d2-a6e5-b09b64eef50d"
   },
   "outputs": [
    {
     "name": "stdout",
     "output_type": "stream",
     "text": [
      "5\n"
     ]
    },
    {
     "data": {
      "text/plain": [
       "NoneType"
      ]
     },
     "execution_count": 13,
     "metadata": {},
     "output_type": "execute_result"
    }
   ],
   "source": [
    "type(add(2,3))"
   ]
  },
  {
   "cell_type": "code",
   "execution_count": null,
   "metadata": {
    "id": "OKRxE_S9IlvD"
   },
   "outputs": [],
   "source": [
    "def subtract(x,y):\n",
    "  z=x-y\n",
    "  return z"
   ]
  },
  {
   "cell_type": "code",
   "execution_count": null,
   "metadata": {
    "colab": {
     "base_uri": "https://localhost:8080/"
    },
    "id": "oo_LaBy0InmY",
    "outputId": "b350d6c5-f581-44a7-9bad-f2695266f664"
   },
   "outputs": [
    {
     "data": {
      "text/plain": [
       "int"
      ]
     },
     "execution_count": 15,
     "metadata": {},
     "output_type": "execute_result"
    }
   ],
   "source": [
    "type(subtract(2,3))"
   ]
  },
  {
   "cell_type": "code",
   "execution_count": null,
   "metadata": {
    "colab": {
     "base_uri": "https://localhost:8080/",
     "height": 183
    },
    "id": "1cSGqu7vIp3b",
    "outputId": "610518df-307a-430e-dba3-3950fc8c52d1"
   },
   "outputs": [
    {
     "name": "stdout",
     "output_type": "stream",
     "text": [
      "5\n"
     ]
    },
    {
     "ename": "TypeError",
     "evalue": "ignored",
     "output_type": "error",
     "traceback": [
      "\u001b[0;31m---------------------------------------------------------------------------\u001b[0m",
      "\u001b[0;31mTypeError\u001b[0m                                 Traceback (most recent call last)",
      "\u001b[0;32m<ipython-input-16-44fef69d94e2>\u001b[0m in \u001b[0;36m<cell line: 1>\u001b[0;34m()\u001b[0m\n\u001b[0;32m----> 1\u001b[0;31m \u001b[0madd\u001b[0m\u001b[0;34m(\u001b[0m\u001b[0;36m2\u001b[0m\u001b[0;34m,\u001b[0m\u001b[0;36m3\u001b[0m\u001b[0;34m)\u001b[0m \u001b[0;34m+\u001b[0m \u001b[0;36m5\u001b[0m\u001b[0;34m\u001b[0m\u001b[0;34m\u001b[0m\u001b[0m\n\u001b[0m",
      "\u001b[0;31mTypeError\u001b[0m: unsupported operand type(s) for +: 'NoneType' and 'int'"
     ]
    }
   ],
   "source": [
    "add(2,3) + 5 #'NoneType' and 'int'"
   ]
  },
  {
   "cell_type": "code",
   "execution_count": null,
   "metadata": {
    "colab": {
     "base_uri": "https://localhost:8080/"
    },
    "id": "QHnZ6HiUKFLX",
    "outputId": "56e13b1b-fb8a-4a2c-abe2-b5aa0b9c5c60"
   },
   "outputs": [
    {
     "data": {
      "text/plain": [
       "4"
      ]
     },
     "execution_count": 17,
     "metadata": {},
     "output_type": "execute_result"
    }
   ],
   "source": [
    "subtract(2,3) + 5"
   ]
  },
  {
   "cell_type": "code",
   "execution_count": null,
   "metadata": {
    "id": "aLt-uJwZLz7k"
   },
   "outputs": [],
   "source": [
    "def test3(n, m ):\n",
    "    return n*10 , m*40 ,m+n"
   ]
  },
  {
   "cell_type": "code",
   "execution_count": null,
   "metadata": {
    "colab": {
     "base_uri": "https://localhost:8080/"
    },
    "id": "Vc3SvbdgCsbB",
    "outputId": "a2021faa-48cc-4668-c8a6-b187ab899ef8"
   },
   "outputs": [
    {
     "data": {
      "text/plain": [
       "(20, 280, 9)"
      ]
     },
     "execution_count": 19,
     "metadata": {},
     "output_type": "execute_result"
    }
   ],
   "source": [
    "test3(2,7) # by default return gives multiple value o/p in tuple  "
   ]
  },
  {
   "cell_type": "code",
   "execution_count": null,
   "metadata": {
    "id": "P4DRaROzMECK"
   },
   "outputs": [],
   "source": [
    "c,x,v = test3(2,7)"
   ]
  },
  {
   "cell_type": "code",
   "execution_count": null,
   "metadata": {
    "colab": {
     "base_uri": "https://localhost:8080/"
    },
    "id": "5uoFZom3MIiS",
    "outputId": "4d5ba8a9-8ff5-451c-88a4-708b8208f95b"
   },
   "outputs": [
    {
     "data": {
      "text/plain": [
       "280"
      ]
     },
     "execution_count": 22,
     "metadata": {},
     "output_type": "execute_result"
    }
   ],
   "source": [
    "x"
   ]
  },
  {
   "cell_type": "code",
   "execution_count": null,
   "metadata": {
    "id": "nzHpA9SPMMZo"
   },
   "outputs": [],
   "source": [
    "c,_, x = test3(2,7) # underscore is placeholder for 3rd operation's o/p as i dont want result of 3rd operation... ( _ ) this gives any random no instead of o/p ...\n",
    "# without ( _ ) unpacking is not possible thats why we used it "
   ]
  },
  {
   "cell_type": "code",
   "execution_count": null,
   "metadata": {
    "colab": {
     "base_uri": "https://localhost:8080/"
    },
    "id": "3UYFLtekNxT2",
    "outputId": "bde96439-612e-40fc-e074-a3f8981cf02c"
   },
   "outputs": [
    {
     "data": {
      "text/plain": [
       "(9, 280)"
      ]
     },
     "execution_count": 28,
     "metadata": {},
     "output_type": "execute_result"
    }
   ],
   "source": [
    "x , _"
   ]
  },
  {
   "cell_type": "code",
   "execution_count": null,
   "metadata": {
    "colab": {
     "base_uri": "https://localhost:8080/"
    },
    "id": "bAhpmoauN3qq",
    "outputId": "f33fbae2-3940-480c-e7ed-6c77bae014cc"
   },
   "outputs": [
    {
     "data": {
      "text/plain": [
       "3"
      ]
     },
     "execution_count": 32,
     "metadata": {},
     "output_type": "execute_result"
    }
   ],
   "source": [
    "def subtract(x,y,z):\n",
    "  return x+y # usually first operation\n",
    "  return y-z \n",
    "subtract(1,2,3)"
   ]
  },
  {
   "cell_type": "code",
   "execution_count": null,
   "metadata": {
    "colab": {
     "base_uri": "https://localhost:8080/"
    },
    "id": "8gLadGQ7PEHg",
    "outputId": "429dd17d-c965-4df5-c253-54df253b3e86"
   },
   "outputs": [
    {
     "data": {
      "text/plain": [
       "-1"
      ]
     },
     "execution_count": 36,
     "metadata": {},
     "output_type": "execute_result"
    }
   ],
   "source": [
    "def subtract(x,y,z):\n",
    "  return x-y \n",
    "  return y-z # override x-y as both same operations so last operation excutes\n",
    "subtract(1,2,3)"
   ]
  },
  {
   "cell_type": "code",
   "execution_count": null,
   "metadata": {
    "colab": {
     "base_uri": "https://localhost:8080/"
    },
    "id": "fbnFdnMJPx5C",
    "outputId": "6e887171-f71c-4335-ee3e-f01852bd2930"
   },
   "outputs": [
    {
     "data": {
      "text/plain": [
       "3"
      ]
     },
     "execution_count": 34,
     "metadata": {},
     "output_type": "execute_result"
    }
   ],
   "source": [
    "def subtract(x,y,z):\n",
    "  return x+y #  usually first operation\n",
    "  return y*z \n",
    "subtract(1,2,3)"
   ]
  },
  {
   "cell_type": "code",
   "execution_count": null,
   "metadata": {
    "colab": {
     "base_uri": "https://localhost:8080/"
    },
    "id": "mKOAXo9NP3Xe",
    "outputId": "dfa61fc2-bdf4-4140-ee12-526b569654c7"
   },
   "outputs": [
    {
     "data": {
      "text/plain": [
       "[1, 2, 3, 4, 1, 2, 3, 4]"
      ]
     },
     "execution_count": 39,
     "metadata": {},
     "output_type": "execute_result"
    }
   ],
   "source": [
    "def fun(whatever):\n",
    "  return whatever * 2\n",
    "fun([1,2,3,4])"
   ]
  },
  {
   "cell_type": "code",
   "execution_count": null,
   "metadata": {
    "colab": {
     "base_uri": "https://localhost:8080/"
    },
    "id": "TiMZQ3dEREwB",
    "outputId": "6f597bf6-1ccf-407f-acd6-8066c10396e1"
   },
   "outputs": [
    {
     "data": {
      "text/plain": [
       "30"
      ]
     },
     "execution_count": 40,
     "metadata": {},
     "output_type": "execute_result"
    }
   ],
   "source": [
    "fun(15)"
   ]
  },
  {
   "cell_type": "code",
   "execution_count": null,
   "metadata": {
    "colab": {
     "base_uri": "https://localhost:8080/"
    },
    "id": "LmGHnqOARMhe",
    "outputId": "bebbf762-81ea-4c72-a609-93c27047ecf6"
   },
   "outputs": [
    {
     "data": {
      "text/plain": [
       "30"
      ]
     },
     "execution_count": 42,
     "metadata": {},
     "output_type": "execute_result"
    }
   ],
   "source": [
    "def add(x, y=10 ): # by default giving value of y\n",
    "  return x+y\n",
    "add(20) # we can pass only 1 value cause 1 value is by default given"
   ]
  },
  {
   "cell_type": "code",
   "execution_count": null,
   "metadata": {
    "colab": {
     "base_uri": "https://localhost:8080/"
    },
    "id": "Me6LCIwHSgce",
    "outputId": "cce2ffdd-fab3-4e1a-d9c7-13b5a6d1069a"
   },
   "outputs": [
    {
     "data": {
      "text/plain": [
       "50"
      ]
     },
     "execution_count": 44,
     "metadata": {},
     "output_type": "execute_result"
    }
   ],
   "source": [
    "add(20,30) # overriding the default value"
   ]
  },
  {
   "cell_type": "code",
   "execution_count": null,
   "metadata": {
    "colab": {
     "base_uri": "https://localhost:8080/"
    },
    "id": "LydZcpPDS2zk",
    "outputId": "2e43821a-e14b-44a3-b6b4-8f7505ca29a8"
   },
   "outputs": [
    {
     "data": {
      "text/plain": [
       "20"
      ]
     },
     "execution_count": 45,
     "metadata": {},
     "output_type": "execute_result"
    }
   ],
   "source": [
    "def add(x=10, y=10 ): \n",
    "  return x+y\n",
    "add() # calling without argument ........u can override this at runtime"
   ]
  },
  {
   "cell_type": "code",
   "execution_count": null,
   "metadata": {
    "colab": {
     "base_uri": "https://localhost:8080/"
    },
    "id": "p5hI4bj0ThSi",
    "outputId": "54a94ec8-6bdd-4646-9df0-f47fce5628d4"
   },
   "outputs": [
    {
     "data": {
      "text/plain": [
       "40"
      ]
     },
     "execution_count": 46,
     "metadata": {},
     "output_type": "execute_result"
    }
   ],
   "source": [
    "def add(x=10, y=10 ): \n",
    "  return x+y\n",
    "add(y=30) # order matters"
   ]
  },
  {
   "cell_type": "code",
   "execution_count": null,
   "metadata": {
    "colab": {
     "base_uri": "https://localhost:8080/"
    },
    "id": "NkJgS9V3X5yB",
    "outputId": "ac3ab433-04e7-44b2-fcd1-ab0d1ed9384f"
   },
   "outputs": [
    {
     "data": {
      "text/plain": [
       "('anuja', 12, (5, 2, 3))"
      ]
     },
     "execution_count": 49,
     "metadata": {},
     "output_type": "execute_result"
    }
   ],
   "source": [
    "def name(*args): # *args takes multiple arguments or input \n",
    "  return args\n",
    "name(\"anuja\",12,(5,2,3,))"
   ]
  },
  {
   "cell_type": "code",
   "execution_count": null,
   "metadata": {
    "colab": {
     "base_uri": "https://localhost:8080/"
    },
    "id": "qgplQ4HUZKBL",
    "outputId": "8f356362-b627-46d8-94a5-07487a71c697"
   },
   "outputs": [
    {
     "data": {
      "text/plain": [
       "[[1, 2, 3, 4], [5, 6, 7, 8], [9, 10, 11], [12, 13, 14, 15]]"
      ]
     },
     "execution_count": 52,
     "metadata": {},
     "output_type": "execute_result"
    }
   ],
   "source": [
    "def name(*args): # *args hold data in tthe form of iterable\n",
    "  lst=[]\n",
    "  for i in args:\n",
    "    lst.append(i)\n",
    "  return lst\n",
    "  \n",
    "name([1,2,3,4],[5,6,7,8],[9,10,11],[12,13,14,15])"
   ]
  },
  {
   "cell_type": "code",
   "execution_count": null,
   "metadata": {
    "colab": {
     "base_uri": "https://localhost:8080/"
    },
    "id": "OFBr0I0LG9IB",
    "outputId": "c80eb210-8d2a-46c5-a04f-4b2998616589"
   },
   "outputs": [
    {
     "data": {
      "text/plain": [
       "[1, 2, 3, 4, 5, 6, 7, 8, 9, 10, 11, 12, 13, 14, 15]"
      ]
     },
     "execution_count": 4,
     "metadata": {},
     "output_type": "execute_result"
    }
   ],
   "source": [
    "def name(*args): # *args hold data in the form of iterable\n",
    "  lst=[]\n",
    "  for i in args:\n",
    "    lst.extend(i)\n",
    "  return lst\n",
    "  \n",
    "name([1,2,3,4],[5,6,7,8],[9,10,11],[12,13,14,15])"
   ]
  },
  {
   "cell_type": "code",
   "execution_count": null,
   "metadata": {
    "id": "HwxwPCIacqfL"
   },
   "outputs": [],
   "source": [
    "def mul(*args):\n",
    "  return [i for i in args]"
   ]
  },
  {
   "cell_type": "code",
   "execution_count": null,
   "metadata": {
    "colab": {
     "base_uri": "https://localhost:8080/"
    },
    "id": "pFA-2GvRbmeD",
    "outputId": "852cf30a-9f43-4774-a7bf-96911364be1b"
   },
   "outputs": [
    {
     "data": {
      "text/plain": [
       "[[1, 2, 3, 4], [5, 6, 7, 8]]"
      ]
     },
     "execution_count": 54,
     "metadata": {},
     "output_type": "execute_result"
    }
   ],
   "source": [
    "mul([1,2,3,4],[5,6,7,8])"
   ]
  },
  {
   "cell_type": "markdown",
   "metadata": {},
   "source": [
    "### Packing and Unpacking Arguments in Python"
   ]
  },
  {
   "cell_type": "code",
   "execution_count": 8,
   "metadata": {},
   "outputs": [
    {
     "name": "stdout",
     "output_type": "stream",
     "text": [
      "15\n"
     ]
    },
    {
     "data": {
      "text/plain": [
       "15"
      ]
     },
     "execution_count": 8,
     "metadata": {},
     "output_type": "execute_result"
    }
   ],
   "source": [
    "#Supposing 1, 2, 3, 4, 5 are going to be function parameters\n",
    "# We want to add these numbers\n",
    "values = (1, 2, 3, 4, 5)\n",
    " \n",
    "def add_numbers(*args):\n",
    "  total = 0\n",
    "  for num in args:\n",
    "    total += num\n",
    "  print(total)  \n",
    "  return total\n",
    " \n",
    "add_numbers(*values)"
   ]
  },
  {
   "cell_type": "markdown",
   "metadata": {},
   "source": [
    "##### ** operator is used to unpack arguments from dictionaries and perform operations on them seamlessly."
   ]
  },
  {
   "cell_type": "code",
   "execution_count": 10,
   "metadata": {},
   "outputs": [
    {
     "name": "stdout",
     "output_type": "stream",
     "text": [
      "arg1: InterviewBit\n",
      "arg2: Blog\n",
      "arg3: Packing and Unpacking\n"
     ]
    }
   ],
   "source": [
    "def myFun(arg1, arg2, arg3):\n",
    "    print(\"arg1:\", arg1)\n",
    "    print(\"arg2:\", arg2)\n",
    "    print(\"arg3:\", arg3)\n",
    "     \n",
    "# Using **kwargs to pass arguments to this function : \n",
    "kwargs = {\"arg1\" : \"InterviewBit\", \"arg2\" : \"Blog\", \"arg3\" : \"Packing and Unpacking\"}\n",
    "myFun(**kwargs)"
   ]
  },
  {
   "cell_type": "markdown",
   "metadata": {},
   "source": [
    "#### We will input the user’s name and age to check_eligibility(), where packing takes place. Then eligibility to vote is checked for and the args is passed to the print_eligibility() function, where unpacking takes place and the eligibility message is printed."
   ]
  },
  {
   "cell_type": "code",
   "execution_count": 11,
   "metadata": {},
   "outputs": [
    {
     "name": "stdout",
     "output_type": "stream",
     "text": [
      "Hey Anshika, you are not eligible to vote.\n"
     ]
    }
   ],
   "source": [
    "def print_eligibility(name, age, eligibility):\n",
    "    print(f'Hey {name}, you are {eligibility} to vote.')                 \n",
    " \n",
    "def check_eligibility(*args):\n",
    "    # Convert args tuple to a list so we can modify it\n",
    "    args = list(args)\n",
    "    if args[1] >= 18:\n",
    "        elig = 'eligible'\n",
    "    else:\n",
    "        elig = 'not eligible'\n",
    "    \n",
    "    args.append(elig)\n",
    "    print_eligibility(*args)\n",
    " \n",
    "check_eligibility('Anshika', 15)"
   ]
  },
  {
   "cell_type": "markdown",
   "metadata": {},
   "source": [
    "### The * operator (quite often associated with args) can be used with any iterable, whereas the ** operator (quite often associated with kwargs) can only be used on dictionaries.\n",
    "Packing and unpacking come out to be very helpful when we have functions that can take a variable number of arguments.\n",
    "Accessing the arguments very easily helps us modify the function arguments and use them further.\n",
    "Packing and Unpacking arguments in Python programming are fundamentally useful and quite a game-changer when it comes to working with functions in Python. *args and **kwargs prove to be very useful while writing better wrapper functions as they require a variable number of arguments."
   ]
  },
  {
   "cell_type": "code",
   "execution_count": null,
   "metadata": {
    "colab": {
     "base_uri": "https://localhost:8080/"
    },
    "id": "WXVMvj3Ec7lf",
    "outputId": "63fd9553-1ad9-477d-dd17-513a9aef1f7f"
   },
   "outputs": [
    {
     "data": {
      "text/plain": [
       "{'a': 'anuja', 'c': [1, 2], 'z': 'dream'}"
      ]
     },
     "execution_count": 11,
     "metadata": {},
     "output_type": "execute_result"
    }
   ],
   "source": [
    "def mul(**kwargs): #pass unlimited data but only in format of key-value pair, keyward argument -parameter\n",
    "  return kwargs\n",
    "\n",
    "mul(a=\"anuja\",c=[1,2] ,z=\"dream\")"
   ]
  },
  {
   "cell_type": "code",
   "execution_count": 9,
   "metadata": {},
   "outputs": [
    {
     "name": "stdout",
     "output_type": "stream",
     "text": [
      "name = Scaler Academy\n",
      "ID = 001\n",
      "language = Python\n"
     ]
    }
   ],
   "source": [
    "# A Python program to demonstrate packing of\n",
    "# dictionary items using **\n",
    "def fun(**kwargs):\n",
    "    # Printing dictionary items\n",
    "    for key in kwargs:\n",
    "        print(\"%s = %s\" % (key, kwargs[key]))\n",
    " \n",
    "fun(name=\"Scaler Academy\", ID=\"001\", language=\"Python\")"
   ]
  },
  {
   "cell_type": "code",
   "execution_count": null,
   "metadata": {
    "colab": {
     "base_uri": "https://localhost:8080/"
    },
    "id": "pH3Z8WIdLLmQ",
    "outputId": "bd21ac11-a863-4388-ef6f-30df2ac882e8"
   },
   "outputs": [
    {
     "data": {
      "text/plain": [
       "{int: [1, 2, 3],\n",
       " list: [[5, 6, 7]],\n",
       " str: ['hi', 'io'],\n",
       " complex: [(6+7j), (6+4j)],\n",
       " dict: [{'a': 'bc', 'c': 'dccc'}]}"
      ]
     },
     "execution_count": 17,
     "metadata": {},
     "output_type": "execute_result"
    }
   ],
   "source": [
    "def func1(*args):\n",
    "  dt = {}\n",
    "  for i in args:\n",
    "    if type(i) in dt:\n",
    "      dt[type(i)].append(i)\n",
    "    else:\n",
    "      dt[type(i)] = [i] \n",
    "  return dt\n",
    "    \n",
    "func1(1,2,3,[5,6,7],'hi','io', 6+7j , 6+4j , {\"a\":\"bc\",\"c\":\"dccc\"} )\n"
   ]
  },
  {
   "cell_type": "code",
   "execution_count": null,
   "metadata": {
    "id": "pRyUuYPV7AfA"
   },
   "outputs": [],
   "source": [
    " {'g': 2, 'o': 3, 'l': 1, 'e': 1, '.': 1, 'c': 1, 'm': 1}"
   ]
  },
  {
   "cell_type": "markdown",
   "metadata": {
    "id": "GAqJ4_ADQzBh"
   },
   "source": [
    "### lambda [arguments] : expression"
   ]
  },
  {
   "cell_type": "raw",
   "metadata": {},
   "source": [
    "1. evry lambda begins with lambda keyword\n",
    "2. can have multiple arguments sep by comma\n",
    "3. a colon perceds the expression\n",
    "4. expression always returns an object\n",
    "5. don’t write the function's name as well as there is no return keyword.\n"
   ]
  },
  {
   "cell_type": "code",
   "execution_count": 1,
   "metadata": {
    "id": "2xobb3Ik7d-S"
   },
   "outputs": [
    {
     "name": "stdout",
     "output_type": "stream",
     "text": [
      "11\n"
     ]
    }
   ],
   "source": [
    "# Example of lambda function\n",
    "print((lambda x : 6 + x)(5)) #10"
   ]
  },
  {
   "cell_type": "code",
   "execution_count": 2,
   "metadata": {
    "id": "P4n8d3H89KRc"
   },
   "outputs": [
    {
     "name": "stdout",
     "output_type": "stream",
     "text": [
      "9\n",
      "9\n"
     ]
    }
   ],
   "source": [
    "# Regular function\n",
    "def sum(num1, num2):\n",
    "   return (num1 + num2)\n",
    " \n",
    "# Equivalent lambda function\n",
    "sum_lambda = lambda num1, num2 : num1 + num2\n",
    "\n",
    "print (sum(5,4)) #9\n",
    "print(sum_lambda(5, 4)) #9"
   ]
  },
  {
   "cell_type": "markdown",
   "metadata": {},
   "source": [
    "### lambda function with  filter(), map(), or reduce()."
   ]
  },
  {
   "cell_type": "markdown",
   "metadata": {},
   "source": [
    "## filter(function, iterable)"
   ]
  },
  {
   "cell_type": "markdown",
   "metadata": {},
   "source": [
    "**function**\tA Function to be run for each item in the iterable\n",
    "\n",
    "**iterable**\tThe iterable to be filtered\n"
   ]
  },
  {
   "cell_type": "code",
   "execution_count": 4,
   "metadata": {},
   "outputs": [
    {
     "name": "stdout",
     "output_type": "stream",
     "text": [
      "[2, 4, 6, 8]\n"
     ]
    }
   ],
   "source": [
    "numbers = [1,2,3,4,5,6,7,8]\n",
    " \n",
    "# one liner code to make list of even numbers using filter() function\n",
    "even_no = list(filter((lambda x : x % 2 == 0), numbers))\n",
    "\n",
    "print(even_no) "
   ]
  },
  {
   "cell_type": "markdown",
   "metadata": {},
   "source": [
    "###### The numbers from a list get passed as a parameter as we iterate through the list and get evaluated with the expression inside the lambda function which is used as an anonymous function.\n",
    "Every time an expression lambda function is evaluated as true, a new value gets appended to the new list of even numbers, i.e. even_no."
   ]
  },
  {
   "cell_type": "code",
   "execution_count": null,
   "metadata": {},
   "outputs": [],
   "source": []
  }
 ],
 "metadata": {
  "colab": {
   "provenance": []
  },
  "kernelspec": {
   "display_name": "Python 3 (ipykernel)",
   "language": "python",
   "name": "python3"
  },
  "language_info": {
   "codemirror_mode": {
    "name": "ipython",
    "version": 3
   },
   "file_extension": ".py",
   "mimetype": "text/x-python",
   "name": "python",
   "nbconvert_exporter": "python",
   "pygments_lexer": "ipython3",
   "version": "3.10.9"
  }
 },
 "nbformat": 4,
 "nbformat_minor": 1
}
