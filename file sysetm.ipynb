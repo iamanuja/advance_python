{
 "cells": [
  {
   "cell_type": "code",
   "execution_count": null,
   "metadata": {},
   "outputs": [],
   "source": [
    "https://github.com/mehtanishad/module_4_advance_python_programming/blob/master/module_4.ipynb"
   ]
  },
  {
   "cell_type": "code",
   "execution_count": 3,
   "metadata": {},
   "outputs": [
    {
     "name": "stdout",
     "output_type": "stream",
     "text": [
      " Volume in drive C has no label.\n",
      " Volume Serial Number is 7233-2B29\n",
      "\n",
      " Directory of C:\\Users\\Anuja\\Documents\\GitHub\\python\n",
      "\n",
      "12-06-2023  22:33    <DIR>          .\n",
      "12-06-2023  22:33    <DIR>          ..\n",
      "12-06-2023  22:04    <DIR>          .ipynb_checkpoints\n",
      "12-06-2023  16:48            75,186 built-in , math,random,itertools.ipynb\n",
      "12-06-2023  22:33             6,019 Date-time.ipynb\n",
      "12-06-2023  22:11            14,888 file sysetm.ipynb\n",
      "05-06-2023  11:50            29,356 Function in pyton  (1).ipynb\n",
      "11-06-2023  12:57            22,623 function_anuja.ipynb\n",
      "12-06-2023  21:48        21,685,774 iterator generator.ipynb\n",
      "27-05-2023  22:17            23,521 List Manipulation.ipynb\n",
      "08-06-2023  17:57            26,161 modules-exception handling.ipynb\n",
      "05-06-2023  11:50           380,296 range,pattern_problems.ipynb\n",
      "09-06-2023  15:24            23,667 String Manipulation.ipynb\n",
      "              10 File(s)     22,287,491 bytes\n",
      "               3 Dir(s)  90,647,953,408 bytes free\n"
     ]
    }
   ],
   "source": [
    "%ls"
   ]
  },
  {
   "cell_type": "markdown",
   "metadata": {},
   "source": [
    "# Create a New File\n",
    "To create a new file in Python, use the open() method, with one of the following parameters:\n",
    "\n",
    "\"x\" - Create - will create a file, returns an error if the file exist\n",
    "\n",
    "\"a\" - Append - will create a file if the specified file does not exist , append to the end of the file\n",
    "\n",
    "\"w\" - Write - will create a file if the specified file does not exist , will overwrite any existing content"
   ]
  },
  {
   "cell_type": "markdown",
   "metadata": {},
   "source": [
    "### file Object Attributes - name,closed,mode"
   ]
  },
  {
   "cell_type": "code",
   "execution_count": 1,
   "metadata": {},
   "outputs": [
    {
     "name": "stdout",
     "output_type": "stream",
     "text": [
      "Name of the file:  foo.txt\n",
      "Closed or not :  False\n",
      "Opening mode :  wb\n"
     ]
    }
   ],
   "source": [
    "# Open a file\n",
    "fo = open(\"foo.txt\", \"wb\")\n",
    "print (\"Name of the file: \", fo.name)\n",
    "print (\"Closed or not : \", fo.closed)\n",
    "print (\"Opening mode : \", fo.mode)\n",
    "fo.close()"
   ]
  },
  {
   "cell_type": "code",
   "execution_count": 2,
   "metadata": {},
   "outputs": [],
   "source": [
    "# Open a file\n",
    "fo = open(\"foo.txt\", \"w\")\n",
    "fo.write( \"Python is a great language.\\nYeah its great!!\\n\")\n",
    "fo.close()"
   ]
  },
  {
   "cell_type": "markdown",
   "metadata": {},
   "source": [
    "#### fileObject.read([count]); passed parameter is the number of bytes to be read from the opened file"
   ]
  },
  {
   "cell_type": "code",
   "execution_count": 3,
   "metadata": {},
   "outputs": [
    {
     "data": {
      "text/plain": [
       "'Python is '"
      ]
     },
     "execution_count": 3,
     "metadata": {},
     "output_type": "execute_result"
    }
   ],
   "source": [
    "fo = open(\"foo.txt\", \"r+\")\n",
    "fo.read(10)"
   ]
  },
  {
   "cell_type": "markdown",
   "metadata": {},
   "source": [
    "### File Positions - tell() , seek(offset[, from])"
   ]
  },
  {
   "cell_type": "markdown",
   "metadata": {},
   "source": [
    "#### tell() = >  method tells you the current position within the file; in other words, the next read or write will occur at that many bytes from the beginning of the file."
   ]
  },
  {
   "cell_type": "markdown",
   "metadata": {},
   "source": [
    "The **seek(offset[, from])** method changes the current file position. \n",
    "The **offset** argument indicates the number of bytes to be moved. The **from argument** specifies the reference\n",
    "position from where the bytes are to be moved.\n",
    "\n",
    "if **from** set 0 =>beginning of the file is used as the reference position\n",
    "1,= > the current position\n",
    "2 = > then the end of the file would be taken as the reference position"
   ]
  },
  {
   "cell_type": "markdown",
   "metadata": {},
   "source": [
    "## Sometimes we may have to read only a specific portion of the file, in such cases use the seek() method to move the file pointer to that position."
   ]
  },
  {
   "cell_type": "code",
   "execution_count": 17,
   "metadata": {},
   "outputs": [],
   "source": [
    "#Seek Operation\tMeaning\n",
    "#f.seek(0)\tMove file pointer to the beginning of a File\n",
    "#f.seek(5)\tMove file pointer five characters ahead from the beginning of a file.\n",
    "#f.seek(0, 2)\tMove file pointer to the end of a File\n",
    "#f.seek(5, 1)\tMove file pointer five characters ahead from the current position.\n",
    "#f.seek(-5, 1)\tMove file pointer five characters behind from the current position.\n",
    "#f.seek(-5, 2)\tMove file pointer in the reverse direction. Move it to the 5th character from the end of the file"
   ]
  },
  {
   "cell_type": "code",
   "execution_count": 4,
   "metadata": {},
   "outputs": [
    {
     "name": "stdout",
     "output_type": "stream",
     "text": [
      "Current file position :  10\n"
     ]
    }
   ],
   "source": [
    "# Check current position\n",
    "position = fo.tell()\n",
    "print (\"Current file position : \", position)"
   ]
  },
  {
   "cell_type": "code",
   "execution_count": 5,
   "metadata": {},
   "outputs": [
    {
     "name": "stdout",
     "output_type": "stream",
     "text": [
      "Again read String is :  Python is \n"
     ]
    }
   ],
   "source": [
    "# Reposition pointer at the beginning once again\n",
    "position = fo.seek(0, 0)\n",
    "str = fo.read(10)\n",
    "print (\"Again read String is : \", str)"
   ]
  },
  {
   "cell_type": "code",
   "execution_count": 6,
   "metadata": {},
   "outputs": [
    {
     "name": "stdout",
     "output_type": "stream",
     "text": [
      "Read String is :  Python is a gre\n"
     ]
    }
   ],
   "source": [
    "# Open a file\n",
    "fo = open(\"foo.txt\", \"r+\")\n",
    "str = fo.read(15)\n",
    "print (\"Read String is : \", str)"
   ]
  },
  {
   "cell_type": "code",
   "execution_count": 7,
   "metadata": {},
   "outputs": [
    {
     "data": {
      "text/plain": [
       "15"
      ]
     },
     "execution_count": 7,
     "metadata": {},
     "output_type": "execute_result"
    }
   ],
   "source": [
    "fo.tell()"
   ]
  },
  {
   "cell_type": "code",
   "execution_count": 23,
   "metadata": {},
   "outputs": [
    {
     "data": {
      "text/plain": [
       "'n is a gre'"
      ]
     },
     "execution_count": 23,
     "metadata": {},
     "output_type": "execute_result"
    }
   ],
   "source": [
    "fo.seek(5, 0) # (offset,from) (5,0) => moved 5 bytes , 0 => from reference i.e from start of file \n",
    "str = fo.read(10) #Python is a great language.\\nYeah its great!!\\n\n",
    "str"
   ]
  },
  {
   "cell_type": "code",
   "execution_count": 24,
   "metadata": {},
   "outputs": [
    {
     "data": {
      "text/plain": [
       "15"
      ]
     },
     "execution_count": 24,
     "metadata": {},
     "output_type": "execute_result"
    }
   ],
   "source": [
    "fo.tell()"
   ]
  },
  {
   "cell_type": "code",
   "execution_count": 25,
   "metadata": {},
   "outputs": [
    {
     "data": {
      "text/plain": [
       "'at languag'"
      ]
     },
     "execution_count": 25,
     "metadata": {},
     "output_type": "execute_result"
    }
   ],
   "source": [
    "fo.seek(0,1) # (offset,from) (0,1) => moved 0 bytes , 1 => from reference i.e current cursor position in file \n",
    "str = fo.read(10) #Python is a great language.\\nYeah its great!!\\n\n",
    "str"
   ]
  },
  {
   "cell_type": "code",
   "execution_count": 26,
   "metadata": {},
   "outputs": [
    {
     "data": {
      "text/plain": [
       "'e.\\nYeah it'"
      ]
     },
     "execution_count": 26,
     "metadata": {},
     "output_type": "execute_result"
    }
   ],
   "source": [
    "fo.seek(0, 1)\n",
    "str = fo.read(10) #Python is a great language.\\nYeah its great!!\\n\n",
    "str"
   ]
  },
  {
   "cell_type": "code",
   "execution_count": 27,
   "metadata": {},
   "outputs": [],
   "source": [
    "fo.close()"
   ]
  },
  {
   "cell_type": "markdown",
   "metadata": {},
   "source": [
    "**1 file.close()**\n",
    "Close the file. A closed file cannot be read or written any more.\n",
    "**2 file.flush()**\n",
    "Flush the internal buffer, like stdio's fflush. This may be a no-op on some file-like\n",
    "objects.\n",
    "**3 file.fileno()**\n",
    "Returns the integer file descriptor that is used by the underlying implementation\n",
    "to request I/O operations from the operating system.\n",
    "**4 file.isatty()**\n",
    "Returns True if the file is connected to a tty(-like) device, else False.\n",
    "**5 next(file)**\n",
    "Returns the next line from the file each time it is being called.\n",
    "**6.file.read([size])**\n",
    "Reads at most size bytes from the file (less if the read hits EOF before obtaining\n",
    "size bytes).\n",
    "**7 file.readline([size])**\n",
    "Reads one entire line from the file. A trailing newline character is kept in the\n",
    "string.\n",
    "**8 file.readlines([sizehint])**\n",
    "Reads until EOF using readline() and return a list containing the lines. If the\n",
    "optional sizehint argument is present, instead of reading up to EOF, whole lines\n",
    "totalling approximately sizehint bytes (possibly after rounding up to an internal\n",
    "buffer size) are read.\n",
    "**9 file.seek(offset[, whence])**\n",
    "Sets the file's current position\n",
    "**10 file.tell()**\n",
    "Returns the file's current position\n",
    "**11 file.truncate([size])**\n",
    "Truncates the file's size. If the optional size argument is present, the file is\n",
    "truncated to (at most) that size.\n",
    "**12 file.write(str)**\n",
    "Writes a string to the file. There is no return value.\n",
    "**13 file.writelines(sequence)**\n",
    "Writes a sequence of strings to the file. The sequence can be any iterable object\n",
    "producing strings, typically a list of strings."
   ]
  },
  {
   "cell_type": "code",
   "execution_count": 24,
   "metadata": {},
   "outputs": [
    {
     "name": "stdout",
     "output_type": "stream",
     "text": [
      "Name of the file:  foo.txt\n"
     ]
    }
   ],
   "source": [
    "#Python automatically flushes the files when closing them. But you may want to flush the data before closing any file.\n",
    "fo = open(\"foo.txt\", \"wb\")\n",
    "print (\"Name of the file: \", fo.name)\n",
    "# Here it does nothing, but you can call it with read operation.\n",
    "fo.flush()\n",
    "fo.close()"
   ]
  },
  {
   "cell_type": "code",
   "execution_count": 30,
   "metadata": {},
   "outputs": [
    {
     "name": "stdout",
     "output_type": "stream",
     "text": [
      "Name of the file:  foo.txt\n",
      "File Descriptor:  4\n"
     ]
    }
   ],
   "source": [
    "fo = open(\"foo.txt\", \"w\")\n",
    "print (\"Name of the file: \", fo.name)\n",
    "fid = fo.fileno()\n",
    "print (\"File Descriptor: \", fid)"
   ]
  },
  {
   "cell_type": "code",
   "execution_count": 31,
   "metadata": {},
   "outputs": [
    {
     "name": "stdout",
     "output_type": "stream",
     "text": [
      "Return value :  False\n"
     ]
    }
   ],
   "source": [
    "ret = fo.isatty()\n",
    "print (\"Return value : \", ret)"
   ]
  },
  {
   "cell_type": "markdown",
   "metadata": {},
   "source": [
    "###### next(iterator[,default])  = >This method can be used to read the next input line, from the file object."
   ]
  },
  {
   "cell_type": "markdown",
   "metadata": {},
   "source": [
    "**iterator** : file object from which lines are to be read\n",
    "**default** : returned if iterator exhausted. If not given, StopIteration is raised"
   ]
  },
  {
   "cell_type": "code",
   "execution_count": 71,
   "metadata": {},
   "outputs": [
    {
     "data": {
      "text/plain": [
       "'This is 1st line\\n\\nThis is 2nd line\\n\\nThis is 3rd line\\n\\nThis is 4th line\\n\\nThis is 5th line\\n'"
      ]
     },
     "execution_count": 71,
     "metadata": {},
     "output_type": "execute_result"
    }
   ],
   "source": [
    "fo = open(\"foo.txt\", \"w\")\n",
    "a=\"\"\"This is 1st line\\n\n",
    "This is 2nd line\\n\n",
    "This is 3rd line\\n\n",
    "This is 4th line\\n\n",
    "This is 5th line\n",
    "\"\"\"\n",
    "fo.write(a)\n",
    "fo.close()\n",
    "fo = open(\"foo.txt\", \"r\")\n",
    "fo.read()"
   ]
  },
  {
   "cell_type": "code",
   "execution_count": 54,
   "metadata": {},
   "outputs": [
    {
     "name": "stdout",
     "output_type": "stream",
     "text": [
      "Line No 0 - This is 1st line\n",
      "\n",
      "Line No 1 - \n",
      "\n",
      "Line No 2 - This is 2nd line\n",
      "\n",
      "Line No 3 - \n",
      "\n",
      "Line No 4 - This is 3rd line\n",
      "\n",
      "Line No 5 - \n",
      "\n",
      "Line No 6 - This is 4th line\n",
      "\n",
      "Line No 7 - \n",
      "\n"
     ]
    }
   ],
   "source": [
    "fo = open(\"foo.txt\", \"r\")\n",
    "fo.read()\n",
    "fo.seek(0,0) # necessary statement for execution of next()- telling the position\n",
    "for index in range(8):\n",
    "    line = next(fo)\n",
    "    print (\"Line No %d - %s\" % (index, line))"
   ]
  },
  {
   "cell_type": "markdown",
   "metadata": {},
   "source": [
    "### readline() = > returns the line read from the file."
   ]
  },
  {
   "cell_type": "markdown",
   "metadata": {},
   "source": [
    "The method readline()reads one entire line from the file. A trailing newline character is\n",
    "kept in the string. If the size argument is present and non-negative, it is a maximum byte\n",
    "count including the trailing newline and an incomplete line may be returned.\n",
    "An empty string is returned only when EOF is encountered immediately."
   ]
  },
  {
   "cell_type": "code",
   "execution_count": 31,
   "metadata": {},
   "outputs": [
    {
     "name": "stdout",
     "output_type": "stream",
     "text": [
      "Read Line: This is 1st line\n",
      "\n"
     ]
    }
   ],
   "source": [
    "fo = open(\"foo.txt\", \"r\")\n",
    "line = fo.readline()\n",
    "print (\"Read Line: %s\" % (line))"
   ]
  },
  {
   "cell_type": "code",
   "execution_count": 32,
   "metadata": {},
   "outputs": [
    {
     "name": "stdout",
     "output_type": "stream",
     "text": [
      "Read Line: This is 1s\n"
     ]
    }
   ],
   "source": [
    "fo = open(\"foo.txt\", \"r\")\n",
    "line = fo.readline(10)\n",
    "print (\"Read Line: %s\" % (line))"
   ]
  },
  {
   "cell_type": "markdown",
   "metadata": {},
   "source": [
    "### readlines( sizehint ) => sizehint - This is the number of bytes to be read from the file\n",
    "Default value is  -1, which means all lines will be returned."
   ]
  },
  {
   "cell_type": "code",
   "execution_count": 33,
   "metadata": {},
   "outputs": [
    {
     "name": "stdout",
     "output_type": "stream",
     "text": [
      "Read Line: ['This is 1st line\\n', '\\n', 'This is 2nd line\\n', '\\n', 'This is 3rd line\\n', '\\n', 'This is 4th line\\n', '\\n', 'This is 5th line\\n']\n"
     ]
    }
   ],
   "source": [
    "fo = open(\"foo.txt\", \"r+\")\n",
    "line = fo.readlines()\n",
    "print (\"Read Line: %s\" % (line))"
   ]
  },
  {
   "cell_type": "code",
   "execution_count": 39,
   "metadata": {},
   "outputs": [
    {
     "name": "stdout",
     "output_type": "stream",
     "text": [
      "Read Line: ['This is 1st line\\n', '\\n', 'This is 2nd line\\n', '\\n', 'This is 3rd line\\n']\n"
     ]
    }
   ],
   "source": [
    "fo = open(\"foo.txt\", \"r+\")\n",
    "line = fo.readlines(40) #Do not return the next line if the total number of returned bytes are more than 40:\n",
    "print (\"Read Line: %s\" % (line))\n",
    "fo.close()"
   ]
  },
  {
   "cell_type": "code",
   "execution_count": null,
   "metadata": {},
   "outputs": [],
   "source": [
    "The method truncate() truncates the file's size. If the optional size argument is present,\n",
    "the file is truncated to (at most) that size.\n",
    "\n",
    "The size defaults to the current position. The current file position is not changed. Note that\n",
    "if a specified size exceeds the file's current size, the result is platform-dependent.\n",
    "\n",
    "not work in case the file is opened in read-only mode."
   ]
  },
  {
   "cell_type": "markdown",
   "metadata": {},
   "source": [
    "### fileObject.truncate( [ size ])"
   ]
  },
  {
   "cell_type": "markdown",
   "metadata": {},
   "source": [
    "##### The truncate() method resizes the file to the given number of bytes.If the size is not specified, the current position will be used."
   ]
  },
  {
   "cell_type": "code",
   "execution_count": 72,
   "metadata": {},
   "outputs": [
    {
     "name": "stdout",
     "output_type": "stream",
     "text": [
      "Read Line: This \n"
     ]
    }
   ],
   "source": [
    "fo = open(\"foo.txt\", \"r+\") # when using truncate open file in w,r+,modes\n",
    "line = fo.readline(5) # it will read 5 bytes of 1st line \n",
    "print (\"Read Line: %s\" % (line))\n"
   ]
  },
  {
   "cell_type": "code",
   "execution_count": 73,
   "metadata": {},
   "outputs": [
    {
     "name": "stdout",
     "output_type": "stream",
     "text": [
      "Read Line: ['is 1st line\\n', '\\n', 'This is 2nd line\\n', '\\n', 'This is 3rd line\\n', '\\n', 'This is 4th line\\n', '\\n', 'This is 5th line\\n']\n"
     ]
    }
   ],
   "source": [
    "fo.truncate() #now cursor is at 6 bytes so by default no argument is pass so it will truncate first 5 bytes from file\n",
    "line = fo.readlines()\n",
    "print (\"Read Line: %s\" % (line))"
   ]
  },
  {
   "cell_type": "code",
   "execution_count": 76,
   "metadata": {},
   "outputs": [
    {
     "data": {
      "text/plain": [
       "['This is 1st line\\n',\n",
       " '\\n',\n",
       " 'This is 2nd line\\n',\n",
       " '\\n',\n",
       " 'This is 3rd line\\n',\n",
       " '\\n',\n",
       " 'This is 4th line\\n',\n",
       " '\\n',\n",
       " 'This is 5th line\\n']"
      ]
     },
     "execution_count": 76,
     "metadata": {},
     "output_type": "execute_result"
    }
   ],
   "source": [
    "fo = open(\"foo.txt\", \"r+\")\n",
    "fo.readlines()"
   ]
  },
  {
   "cell_type": "markdown",
   "metadata": {},
   "source": [
    "##  .writelines( sequence )"
   ]
  },
  {
   "cell_type": "markdown",
   "metadata": {},
   "source": [
    "#### writes a sequence of strings to the file. The sequence can be any iterable object producing strings, typically a list of strings."
   ]
  },
  {
   "cell_type": "code",
   "execution_count": 77,
   "metadata": {
    "scrolled": true
   },
   "outputs": [
    {
     "name": "stdout",
     "output_type": "stream",
     "text": [
      "Line No 0 - This is 1st line\n",
      "\n",
      "Line No 1 - \n",
      "\n",
      "Line No 2 - This is 2nd line\n",
      "\n",
      "Line No 3 - \n",
      "\n",
      "Line No 4 - This is 3rd line\n",
      "\n",
      "Line No 5 - \n",
      "\n",
      "Line No 6 - This is 4th line\n",
      "\n"
     ]
    }
   ],
   "source": [
    "fo = open(\"foo.txt\", \"r+\")\n",
    "seq = [\"This is 6th line\\n\", \"This is 7th line\"]\n",
    "# Write sequence of lines at the end of the file.\n",
    "fo.seek(0, 2)\n",
    "line = fo.writelines( seq )\n",
    "# Now read complete file from beginning.\n",
    "fo.seek(0,0)\n",
    "for index in range(7):\n",
    "    line = next(fo)\n",
    "    print (\"Line No %d - %s\" % (index, line))"
   ]
  },
  {
   "cell_type": "markdown",
   "metadata": {},
   "source": [
    "#### due to line gap in text file above o/p"
   ]
  },
  {
   "cell_type": "code",
   "execution_count": 78,
   "metadata": {},
   "outputs": [
    {
     "data": {
      "text/plain": [
       "['\\n', 'This is 5th line\\n', 'This is 6th line\\n', 'This is 7th line']"
      ]
     },
     "execution_count": 78,
     "metadata": {},
     "output_type": "execute_result"
    }
   ],
   "source": [
    "fo.readlines() # half content is already readed so it read the remaining contents ..i.e after cursor"
   ]
  },
  {
   "cell_type": "code",
   "execution_count": 82,
   "metadata": {},
   "outputs": [],
   "source": [
    "fo.close()"
   ]
  },
  {
   "cell_type": "markdown",
   "metadata": {},
   "source": [
    "## Renaming and Deleting Files"
   ]
  },
  {
   "cell_type": "markdown",
   "metadata": {},
   "source": [
    "### os.rename(current_file_name, new_file_name)"
   ]
  },
  {
   "cell_type": "code",
   "execution_count": 83,
   "metadata": {},
   "outputs": [],
   "source": [
    "import os"
   ]
  },
  {
   "cell_type": "code",
   "execution_count": 84,
   "metadata": {},
   "outputs": [],
   "source": [
    "os.rename(\"foo.txt\",\"foo1.txt\")"
   ]
  },
  {
   "cell_type": "code",
   "execution_count": 85,
   "metadata": {},
   "outputs": [
    {
     "ename": "FileNotFoundError",
     "evalue": "[Errno 2] No such file or directory: 'foo.txt'",
     "output_type": "error",
     "traceback": [
      "\u001b[1;31m---------------------------------------------------------------------------\u001b[0m",
      "\u001b[1;31mFileNotFoundError\u001b[0m                         Traceback (most recent call last)",
      "Cell \u001b[1;32mIn[85], line 1\u001b[0m\n\u001b[1;32m----> 1\u001b[0m fo \u001b[38;5;241m=\u001b[39m \u001b[38;5;28;43mopen\u001b[39;49m\u001b[43m(\u001b[49m\u001b[38;5;124;43m\"\u001b[39;49m\u001b[38;5;124;43mfoo.txt\u001b[39;49m\u001b[38;5;124;43m\"\u001b[39;49m\u001b[43m,\u001b[49m\u001b[43m \u001b[49m\u001b[38;5;124;43m\"\u001b[39;49m\u001b[38;5;124;43mr+\u001b[39;49m\u001b[38;5;124;43m\"\u001b[39;49m\u001b[43m)\u001b[49m\n",
      "File \u001b[1;32mC:\\ProgramData\\anaconda3\\lib\\site-packages\\IPython\\core\\interactiveshell.py:282\u001b[0m, in \u001b[0;36m_modified_open\u001b[1;34m(file, *args, **kwargs)\u001b[0m\n\u001b[0;32m    275\u001b[0m \u001b[38;5;28;01mif\u001b[39;00m file \u001b[38;5;129;01min\u001b[39;00m {\u001b[38;5;241m0\u001b[39m, \u001b[38;5;241m1\u001b[39m, \u001b[38;5;241m2\u001b[39m}:\n\u001b[0;32m    276\u001b[0m     \u001b[38;5;28;01mraise\u001b[39;00m \u001b[38;5;167;01mValueError\u001b[39;00m(\n\u001b[0;32m    277\u001b[0m         \u001b[38;5;124mf\u001b[39m\u001b[38;5;124m\"\u001b[39m\u001b[38;5;124mIPython won\u001b[39m\u001b[38;5;124m'\u001b[39m\u001b[38;5;124mt let you open fd=\u001b[39m\u001b[38;5;132;01m{\u001b[39;00mfile\u001b[38;5;132;01m}\u001b[39;00m\u001b[38;5;124m by default \u001b[39m\u001b[38;5;124m\"\u001b[39m\n\u001b[0;32m    278\u001b[0m         \u001b[38;5;124m\"\u001b[39m\u001b[38;5;124mas it is likely to crash IPython. If you know what you are doing, \u001b[39m\u001b[38;5;124m\"\u001b[39m\n\u001b[0;32m    279\u001b[0m         \u001b[38;5;124m\"\u001b[39m\u001b[38;5;124myou can use builtins\u001b[39m\u001b[38;5;124m'\u001b[39m\u001b[38;5;124m open.\u001b[39m\u001b[38;5;124m\"\u001b[39m\n\u001b[0;32m    280\u001b[0m     )\n\u001b[1;32m--> 282\u001b[0m \u001b[38;5;28;01mreturn\u001b[39;00m io_open(file, \u001b[38;5;241m*\u001b[39margs, \u001b[38;5;241m*\u001b[39m\u001b[38;5;241m*\u001b[39mkwargs)\n",
      "\u001b[1;31mFileNotFoundError\u001b[0m: [Errno 2] No such file or directory: 'foo.txt'"
     ]
    }
   ],
   "source": [
    "fo = open(\"foo.txt\", \"r+\")"
   ]
  },
  {
   "cell_type": "code",
   "execution_count": 87,
   "metadata": {},
   "outputs": [],
   "source": [
    "fo = open(\"foo1.txt\", \"r+\")\n",
    "fo.close()"
   ]
  },
  {
   "cell_type": "markdown",
   "metadata": {},
   "source": [
    "### os.remove(file_name)"
   ]
  },
  {
   "cell_type": "code",
   "execution_count": 88,
   "metadata": {},
   "outputs": [],
   "source": [
    "os.remove(\"foo1.txt\")"
   ]
  },
  {
   "cell_type": "markdown",
   "metadata": {},
   "source": [
    "# Directories in Python"
   ]
  },
  {
   "cell_type": "code",
   "execution_count": 89,
   "metadata": {},
   "outputs": [],
   "source": [
    "os.mkdir(\"newdir\")"
   ]
  },
  {
   "cell_type": "code",
   "execution_count": 90,
   "metadata": {},
   "outputs": [],
   "source": [
    "# Create a directory \"test\"\n",
    "os.mkdir(\"test\")"
   ]
  },
  {
   "cell_type": "code",
   "execution_count": 92,
   "metadata": {},
   "outputs": [
    {
     "data": {
      "text/plain": [
       "'C:\\\\Users\\\\Anuja\\\\Documents\\\\GitHub\\\\python'"
      ]
     },
     "execution_count": 92,
     "metadata": {},
     "output_type": "execute_result"
    }
   ],
   "source": [
    "os.getcwd()"
   ]
  },
  {
   "cell_type": "code",
   "execution_count": 95,
   "metadata": {
    "collapsed": true
   },
   "outputs": [
    {
     "ename": "FileNotFoundError",
     "evalue": "[WinError 2] The system cannot find the file specified: 'newdir'",
     "output_type": "error",
     "traceback": [
      "\u001b[1;31m---------------------------------------------------------------------------\u001b[0m",
      "\u001b[1;31mFileNotFoundError\u001b[0m                         Traceback (most recent call last)",
      "Cell \u001b[1;32mIn[95], line 1\u001b[0m\n\u001b[1;32m----> 1\u001b[0m \u001b[43mos\u001b[49m\u001b[38;5;241;43m.\u001b[39;49m\u001b[43mchdir\u001b[49m\u001b[43m(\u001b[49m\u001b[38;5;124;43m\"\u001b[39;49m\u001b[38;5;124;43mnewdir\u001b[39;49m\u001b[38;5;124;43m\"\u001b[39;49m\u001b[43m)\u001b[49m\n",
      "\u001b[1;31mFileNotFoundError\u001b[0m: [WinError 2] The system cannot find the file specified: 'newdir'"
     ]
    }
   ],
   "source": [
    "os.chdir(\"newdir\")#The chdir() method takes an argument, i.e name of the directory that you want to make the current directory."
   ]
  },
  {
   "cell_type": "code",
   "execution_count": 98,
   "metadata": {},
   "outputs": [
    {
     "data": {
      "text/plain": [
       "'C:\\\\Users\\\\Anuja\\\\Documents\\\\GitHub\\\\python\\\\newdir'"
      ]
     },
     "execution_count": 98,
     "metadata": {},
     "output_type": "execute_result"
    }
   ],
   "source": [
    "os.getcwd()"
   ]
  },
  {
   "cell_type": "code",
   "execution_count": 99,
   "metadata": {},
   "outputs": [],
   "source": [
    "os.chdir(\"C:\\\\Users\\\\Anuja\\\\Documents\\\\GitHub\\\\python\")"
   ]
  },
  {
   "cell_type": "code",
   "execution_count": 100,
   "metadata": {},
   "outputs": [],
   "source": [
    "os.chdir(\"test\")"
   ]
  },
  {
   "cell_type": "code",
   "execution_count": 101,
   "metadata": {},
   "outputs": [
    {
     "data": {
      "text/plain": [
       "'C:\\\\Users\\\\Anuja\\\\Documents\\\\GitHub\\\\python\\\\test'"
      ]
     },
     "execution_count": 101,
     "metadata": {},
     "output_type": "execute_result"
    }
   ],
   "source": [
    "os.getcwd()"
   ]
  },
  {
   "cell_type": "code",
   "execution_count": 106,
   "metadata": {},
   "outputs": [
    {
     "ename": "FileNotFoundError",
     "evalue": "[WinError 2] The system cannot find the file specified: 'D:\\\\f1\\\\f2.txt'",
     "output_type": "error",
     "traceback": [
      "\u001b[1;31m---------------------------------------------------------------------------\u001b[0m",
      "\u001b[1;31mFileNotFoundError\u001b[0m                         Traceback (most recent call last)",
      "Cell \u001b[1;32mIn[106], line 1\u001b[0m\n\u001b[1;32m----> 1\u001b[0m \u001b[43mos\u001b[49m\u001b[38;5;241;43m.\u001b[39;49m\u001b[43mchdir\u001b[49m\u001b[43m(\u001b[49m\u001b[38;5;124;43m\"\u001b[39;49m\u001b[38;5;124;43mD:\u001b[39;49m\u001b[38;5;130;43;01m\\\\\u001b[39;49;00m\u001b[38;5;124;43mf1\u001b[39;49m\u001b[38;5;130;43;01m\\\\\u001b[39;49;00m\u001b[38;5;124;43mf2.txt\u001b[39;49m\u001b[38;5;124;43m\"\u001b[39;49m\u001b[43m)\u001b[49m\n",
      "\u001b[1;31mFileNotFoundError\u001b[0m: [WinError 2] The system cannot find the file specified: 'D:\\\\f1\\\\f2.txt'"
     ]
    }
   ],
   "source": [
    "os.chdir(\"D:\\\\f1\\\\f2.txt\") # u can't specify here file name.cause file isn't directory"
   ]
  },
  {
   "cell_type": "code",
   "execution_count": 113,
   "metadata": {},
   "outputs": [
    {
     "data": {
      "text/plain": [
       "'D:\\\\f1\\\\f2\\\\f3'"
      ]
     },
     "execution_count": 113,
     "metadata": {},
     "output_type": "execute_result"
    }
   ],
   "source": [
    "os.chdir(\"D:\\\\f1\\\\f2\\\\f3\")\n",
    "os.getcwd()"
   ]
  },
  {
   "cell_type": "code",
   "execution_count": 114,
   "metadata": {},
   "outputs": [
    {
     "ename": "OSError",
     "evalue": "[WinError 145] The directory is not empty: '\\\\f1'",
     "output_type": "error",
     "traceback": [
      "\u001b[1;31m---------------------------------------------------------------------------\u001b[0m",
      "\u001b[1;31mOSError\u001b[0m                                   Traceback (most recent call last)",
      "Cell \u001b[1;32mIn[114], line 1\u001b[0m\n\u001b[1;32m----> 1\u001b[0m \u001b[43mos\u001b[49m\u001b[38;5;241;43m.\u001b[39;49m\u001b[43mrmdir\u001b[49m\u001b[43m(\u001b[49m\u001b[43m \u001b[49m\u001b[38;5;124;43m\"\u001b[39;49m\u001b[38;5;130;43;01m\\\\\u001b[39;49;00m\u001b[38;5;124;43mf1\u001b[39;49m\u001b[38;5;124;43m\"\u001b[39;49m\u001b[43m \u001b[49m\u001b[43m)\u001b[49m\n",
      "\u001b[1;31mOSError\u001b[0m: [WinError 145] The directory is not empty: '\\\\f1'"
     ]
    }
   ],
   "source": [
    "os.rmdir( \"\\\\f1\" )"
   ]
  },
  {
   "cell_type": "code",
   "execution_count": 115,
   "metadata": {},
   "outputs": [
    {
     "name": "stdout",
     "output_type": "stream",
     "text": [
      " Volume in drive D has no label.\n",
      " Volume Serial Number is DC31-82A1\n",
      "\n",
      " Directory of D:\\f1\\f2\\f3\n",
      "\n",
      "13-06-2023  09:06    <DIR>          .\n",
      "13-06-2023  09:06    <DIR>          ..\n",
      "               0 File(s)              0 bytes\n",
      "               2 Dir(s)  89,858,043,904 bytes free\n"
     ]
    }
   ],
   "source": [
    "%ls"
   ]
  },
  {
   "cell_type": "code",
   "execution_count": 3,
   "metadata": {},
   "outputs": [],
   "source": [
    "os.chdir(\"D:\\\\f1\")"
   ]
  },
  {
   "cell_type": "code",
   "execution_count": 4,
   "metadata": {},
   "outputs": [
    {
     "data": {
      "text/plain": [
       "['f2', 'f2.txt.txt']"
      ]
     },
     "execution_count": 4,
     "metadata": {},
     "output_type": "execute_result"
    }
   ],
   "source": [
    "os.listdir(\"D:\\\\f1\")#Return the list of files and directories present in a specified directory path."
   ]
  },
  {
   "cell_type": "markdown",
   "metadata": {},
   "source": [
    "### program to filter files after using listdir"
   ]
  },
  {
   "cell_type": "code",
   "execution_count": 9,
   "metadata": {},
   "outputs": [
    {
     "name": "stdout",
     "output_type": "stream",
     "text": [
      "['DevFolio Free Website Template - Free-CSS.com.zip', 'python notes.docx', 'Web tech max.pdf', '~$thon notes.docx', '~WRL3178.tmp']\n"
     ]
    }
   ],
   "source": [
    "dir_path = r'D:\\\\'\n",
    "\n",
    "# list to store files\n",
    "res = []\n",
    "\n",
    "# Iterate directory\n",
    "for path in os.listdir(dir_path):\n",
    "    # check if current path is a file\n",
    "    if os.path.isfile(os.path.join(dir_path, path)):\n",
    "        res.append(path)\n",
    "print(res)"
   ]
  },
  {
   "cell_type": "markdown",
   "metadata": {},
   "source": [
    "#### If you know generator expression, you can make code smaller and simplers using a generator function as shown below.\n",
    "Generator Expression:"
   ]
  },
  {
   "cell_type": "code",
   "execution_count": 12,
   "metadata": {},
   "outputs": [],
   "source": [
    "def get_files(path):\n",
    "    for file in os.listdir(path):\n",
    "        if os.path.isfile(os.path.join(path, file)):\n",
    "            yield file"
   ]
  },
  {
   "cell_type": "markdown",
   "metadata": {},
   "source": [
    "#### Then simply call it whenever required."
   ]
  },
  {
   "cell_type": "code",
   "execution_count": 15,
   "metadata": {},
   "outputs": [
    {
     "name": "stdout",
     "output_type": "stream",
     "text": [
      "DevFolio Free Website Template - Free-CSS.com.zip\n",
      "python notes.docx\n",
      "Web tech max.pdf\n",
      "~$thon notes.docx\n",
      "~WRL3178.tmp\n"
     ]
    }
   ],
   "source": [
    "for file in get_files(r'D:\\\\'):\n",
    "    print(file)"
   ]
  },
  {
   "cell_type": "code",
   "execution_count": 16,
   "metadata": {},
   "outputs": [
    {
     "name": "stdout",
     "output_type": "stream",
     "text": [
      "Database System.pdf\n",
      "databases-ramaz.pdf\n",
      "Doc1.docx\n",
      "Ikigai _ the Japanese secret to a long and happy life ( PDFDrive ).pdf\n",
      "keip108.pdf\n",
      "O'Reilly Head First SQL.pdf\n",
      "sql_tutorial.pdf\n",
      "syllabus-oracle-dba.pdf\n",
      "teach_urself_sql.pdf\n",
      "Tutorialspointsql.pdf\n"
     ]
    }
   ],
   "source": [
    "# get all files inside a specific folder\n",
    "dir_path = r'D:\\\\sqlbooks'\n",
    "for path in os.scandir(dir_path):\n",
    "    if path.is_file():\n",
    "        print(path.name)"
   ]
  },
  {
   "cell_type": "code",
   "execution_count": 10,
   "metadata": {},
   "outputs": [
    {
     "data": {
      "text/plain": [
       "[<DirEntry '$RECYCLE.BIN'>,\n",
       " <DirEntry 'A Data science'>,\n",
       " <DirEntry 'admission'>,\n",
       " <DirEntry 'anuja5'>,\n",
       " <DirEntry 'dataset'>,\n",
       " <DirEntry 'Desktop'>,\n",
       " <DirEntry 'DevFolio'>,\n",
       " <DirEntry 'DevFolio Free Website Template - Free-CSS.com.zip'>,\n",
       " <DirEntry 'django'>,\n",
       " <DirEntry 'Documents'>,\n",
       " <DirEntry 'edubridge'>,\n",
       " <DirEntry 'ETL'>,\n",
       " <DirEntry 'f1'>,\n",
       " <DirEntry 'INTERNSHIP'>,\n",
       " <DirEntry 'internship project'>,\n",
       " <DirEntry 'MSC'>,\n",
       " <DirEntry 'mscproject'>,\n",
       " <DirEntry 'Music'>,\n",
       " <DirEntry 'New folder'>,\n",
       " <DirEntry 'Pictures'>,\n",
       " <DirEntry 'pract8'>,\n",
       " <DirEntry 'Project'>,\n",
       " <DirEntry 'python notes.docx'>,\n",
       " <DirEntry 'sqlbooks'>,\n",
       " <DirEntry 'System Volume Information'>,\n",
       " <DirEntry 'Web tech max.pdf'>,\n",
       " <DirEntry 'word_downloaded'>,\n",
       " <DirEntry 'xampp'>,\n",
       " <DirEntry '~$thon notes.docx'>,\n",
       " <DirEntry '~WRL3178.tmp'>]"
      ]
     },
     "execution_count": 10,
     "metadata": {},
     "output_type": "execute_result"
    }
   ],
   "source": [
    "list(os.scandir(\"D:\\\\\"))"
   ]
  },
  {
   "cell_type": "markdown",
   "metadata": {},
   "source": [
    "## Delete a Non-Empty Directory using shutil\n"
   ]
  },
  {
   "cell_type": "markdown",
   "metadata": {},
   "source": [
    "#### shutil.rmtree(path, ignore_errors=False, onerror=None)"
   ]
  },
  {
   "cell_type": "markdown",
   "metadata": {},
   "source": [
    "**path** – The directory to delete. The symbolic links to a directory are not acceptable.\n",
    "**ignore_errors** – If this flag is set to true, then the errors due to failed removals will be ignored. If set to true, the error should be handler by the function passed in the one error attribute."
   ]
  },
  {
   "cell_type": "code",
   "execution_count": 19,
   "metadata": {},
   "outputs": [],
   "source": [
    "import shutil\n",
    "\n",
    "# Deleting an non-empty folder\n",
    "shutil.rmtree(\"D:\\\\f1\", ignore_errors=True) # all the content in f1 folder gets deleted.and f1 remain as it is"
   ]
  },
  {
   "cell_type": "code",
   "execution_count": 20,
   "metadata": {},
   "outputs": [],
   "source": [
    "os.chdir(\"D:\\\\f1\")#"
   ]
  },
  {
   "cell_type": "markdown",
   "metadata": {},
   "source": [
    "### Deleting Files with Specific Extension"
   ]
  },
  {
   "cell_type": "code",
   "execution_count": null,
   "metadata": {},
   "outputs": [],
   "source": [
    "import glob\n",
    "import os\n",
    "\n",
    "# Search files with .txt extension in current directory\n",
    "pattern = \"*.txt\"\n",
    "files = glob.glob(pattern)\n",
    "\n",
    "# deleting the files with txt extension\n",
    "for file in files:\n",
    "    os.remove(file)"
   ]
  },
  {
   "cell_type": "markdown",
   "metadata": {},
   "source": [
    "### Delete file whose name starts with specific string"
   ]
  },
  {
   "cell_type": "code",
   "execution_count": null,
   "metadata": {},
   "outputs": [],
   "source": [
    "import glob\n",
    "import os\n",
    "\n",
    "# Delete file whose name starts with string 'pro'\n",
    "pattern = r\"E:\\demos\\files\\reports\\pro*\"\n",
    "for item in glob.iglob(pattern, recursive=True):\n",
    "    os.remove(item)"
   ]
  },
  {
   "cell_type": "code",
   "execution_count": null,
   "metadata": {},
   "outputs": [],
   "source": []
  },
  {
   "cell_type": "markdown",
   "metadata": {},
   "source": [
    "#### The close() method of a file object flushes any unwritten information and closes the file\n",
    "object, after which no more writing can be done.\n",
    "Python automatically closes a file when the reference object of a file is reassigned to\n",
    "another file."
   ]
  },
  {
   "cell_type": "code",
   "execution_count": null,
   "metadata": {},
   "outputs": [],
   "source": [
    "l = [\"this is my line one \" , \"this is my line 2\" , \" this is my line 3 \" , \"this is my line 4\"]"
   ]
  },
  {
   "cell_type": "code",
   "execution_count": 4,
   "metadata": {},
   "outputs": [
    {
     "data": {
      "text/plain": [
       "37"
      ]
     },
     "execution_count": 4,
     "metadata": {},
     "output_type": "execute_result"
    }
   ],
   "source": [
    "f.write(\" i can write lines at current cursor \")"
   ]
  },
  {
   "cell_type": "code",
   "execution_count": 5,
   "metadata": {},
   "outputs": [],
   "source": [
    "f.writelines(l)"
   ]
  },
  {
   "cell_type": "code",
   "execution_count": 6,
   "metadata": {},
   "outputs": [],
   "source": [
    "f.close()"
   ]
  },
  {
   "cell_type": "code",
   "execution_count": 34,
   "metadata": {},
   "outputs": [],
   "source": [
    "f.flush()"
   ]
  },
  {
   "cell_type": "code",
   "execution_count": null,
   "metadata": {},
   "outputs": [],
   "source": []
  },
  {
   "cell_type": "code",
   "execution_count": null,
   "metadata": {},
   "outputs": [],
   "source": [
    "f = open('test1.txt' , \"r+\")\n",
    "f.name"
   ]
  },
  {
   "cell_type": "code",
   "execution_count": 7,
   "metadata": {},
   "outputs": [
    {
     "data": {
      "text/plain": [
       "4"
      ]
     },
     "execution_count": 7,
     "metadata": {},
     "output_type": "execute_result"
    }
   ],
   "source": [
    "f = open(\"google.txt\" , \"r+\")\n",
    "f.fileno()"
   ]
  },
  {
   "cell_type": "code",
   "execution_count": 11,
   "metadata": {},
   "outputs": [],
   "source": [
    "f.close()"
   ]
  },
  {
   "cell_type": "code",
   "execution_count": null,
   "metadata": {},
   "outputs": [],
   "source": []
  },
  {
   "cell_type": "code",
   "execution_count": null,
   "metadata": {},
   "outputs": [],
   "source": []
  },
  {
   "cell_type": "code",
   "execution_count": null,
   "metadata": {},
   "outputs": [],
   "source": []
  },
  {
   "cell_type": "code",
   "execution_count": null,
   "metadata": {},
   "outputs": [],
   "source": []
  },
  {
   "cell_type": "code",
   "execution_count": null,
   "metadata": {},
   "outputs": [],
   "source": []
  },
  {
   "cell_type": "code",
   "execution_count": 8,
   "metadata": {},
   "outputs": [
    {
     "name": "stdout",
     "output_type": "stream",
     "text": [
      " Volume in drive C has no label.\n",
      " Volume Serial Number is FA55-E833\n",
      "\n",
      " Directory of C:\\Users\\win10\\jupyter\\Complete Python Module-20210227T092441Z-001\\Complete Python Module\\8.Iterators Generators\n",
      "\n",
      "01/09/2022  12:51 PM    <DIR>          .\n",
      "01/09/2022  12:51 PM    <DIR>          ..\n",
      "01/09/2022  12:51 PM    <DIR>          .ipynb_checkpoints\n",
      "07/07/2021  08:02 PM            16,152 8.Iterators and Generators.ipynb\n",
      "01/09/2022  12:49 PM             3,218 File op.ipynb\n",
      "01/09/2022  12:48 PM             3,036 google.txt\n",
      "12/19/2021  03:18 PM            48,388 if else , for loop.ipynb\n",
      "04/11/2021  06:07 AM    <DIR>          imgs\n",
      "01/09/2022  12:16 PM               372 test.txt\n",
      "01/09/2022  12:51 PM               228 test1.txt\n",
      "01/09/2022  12:01 PM                50 test2.txt\n",
      "01/09/2022  12:39 PM        21,685,761 Untitled.ipynb\n",
      "01/09/2022  12:51 PM                72 Untitled1.ipynb\n",
      "               9 File(s)     21,757,277 bytes\n",
      "               4 Dir(s)  471,108,497,408 bytes free\n"
     ]
    }
   ],
   "source": [
    "%ls"
   ]
  },
  {
   "cell_type": "code",
   "execution_count": 9,
   "metadata": {},
   "outputs": [],
   "source": [
    "import os"
   ]
  },
  {
   "cell_type": "code",
   "execution_count": 12,
   "metadata": {},
   "outputs": [],
   "source": [
    "os.remove(\"google.txt\")"
   ]
  },
  {
   "cell_type": "code",
   "execution_count": 13,
   "metadata": {},
   "outputs": [
    {
     "name": "stdout",
     "output_type": "stream",
     "text": [
      " Volume in drive C has no label.\n",
      " Volume Serial Number is FA55-E833\n",
      "\n",
      " Directory of C:\\Users\\win10\\jupyter\\Complete Python Module-20210227T092441Z-001\\Complete Python Module\\8.Iterators Generators\n",
      "\n",
      "01/09/2022  12:55 PM    <DIR>          .\n",
      "01/09/2022  12:55 PM    <DIR>          ..\n",
      "01/09/2022  12:51 PM    <DIR>          .ipynb_checkpoints\n",
      "07/07/2021  08:02 PM            16,152 8.Iterators and Generators.ipynb\n",
      "01/09/2022  12:49 PM             3,218 File op.ipynb\n",
      "12/19/2021  03:18 PM            48,388 if else , for loop.ipynb\n",
      "04/11/2021  06:07 AM    <DIR>          imgs\n",
      "01/09/2022  12:16 PM               372 test.txt\n",
      "01/09/2022  12:51 PM               228 test1.txt\n",
      "01/09/2022  12:01 PM                50 test2.txt\n",
      "01/09/2022  12:39 PM        21,685,761 Untitled.ipynb\n",
      "01/09/2022  12:55 PM             6,539 Untitled1.ipynb\n",
      "               8 File(s)     21,760,708 bytes\n",
      "               4 Dir(s)  471,102,828,544 bytes free\n"
     ]
    }
   ],
   "source": [
    "%ls"
   ]
  },
  {
   "cell_type": "code",
   "execution_count": 14,
   "metadata": {},
   "outputs": [
    {
     "data": {
      "text/plain": [
       "'C:\\\\Users\\\\win10\\\\jupyter\\\\Complete Python Module-20210227T092441Z-001\\\\Complete Python Module\\\\8.Iterators Generators'"
      ]
     },
     "execution_count": 14,
     "metadata": {},
     "output_type": "execute_result"
    }
   ],
   "source": [
    "os.getcwd()"
   ]
  },
  {
   "cell_type": "code",
   "execution_count": 15,
   "metadata": {},
   "outputs": [
    {
     "data": {
      "text/plain": [
       "'C:\\\\Users\\\\win10\\\\jupyter\\\\Complete Python Module-20210227T092441Z-001\\\\Complete Python Module\\\\8.Iterators Generators'"
      ]
     },
     "execution_count": 15,
     "metadata": {},
     "output_type": "execute_result"
    }
   ],
   "source": [
    "pwd()"
   ]
  },
  {
   "cell_type": "code",
   "execution_count": 18,
   "metadata": {},
   "outputs": [
    {
     "data": {
      "text/plain": [
       "['.ipynb_checkpoints',\n",
       " '1584210047017.docx',\n",
       " '1584210047017.pdf',\n",
       " '22nd Aug Assignment.ipynb',\n",
       " 'ALBERT-20210531T131400Z-001',\n",
       " 'ALBERT-20210531T131400Z-001.zip',\n",
       " 'Anamoly-20210801T140417Z-001',\n",
       " 'Anamoly-20210801T140417Z-001.zip',\n",
       " 'Anamoly-20210801T140418Z-001.zip',\n",
       " 'apache-cassandra-3.11.10-bin',\n",
       " 'apache-cassandra-3.11.10-bin (1).tar',\n",
       " 'apache-cassandra-3.11.10-bin (1).tar.gz',\n",
       " 'Assignment xyz.ipynb',\n",
       " 'BERT-20210531T131352Z-001',\n",
       " 'BERT-20210531T131352Z-001.zip',\n",
       " 'books.csv',\n",
       " 'captchas',\n",
       " 'CarbonUpdatedFile.csv',\n",
       " 'carbon_nanotubes.csv',\n",
       " 'Casandra Streaming.ipynb',\n",
       " 'Cassandra Streming.ipynb',\n",
       " 'Chapter10. ENCODER_DECODER___SEQ2SEQ',\n",
       " 'Chapter7. WORD2VEC_CBOW_SKIPGRAM-20210411T005219Z-001',\n",
       " 'Chapter7. WORD2VEC_CBOW_SKIPGRAM-20210411T005219Z-001.zip',\n",
       " 'Chapter7. WORD2VEC_CBOW_SKIPGRAM-20210417T044431Z-001.zip',\n",
       " 'clustering-20210710T141724Z-001',\n",
       " 'Codes-identification-agences-bancaires-FR-4 (9).pdf',\n",
       " 'Complete Python Module-20210227T092441Z-001',\n",
       " 'DistilBERT-20210531T131340Z-001',\n",
       " 'DistilBERT-20210531T131340Z-001.zip',\n",
       " 'DistilBERT-20210531T131712Z-001.zip',\n",
       " 'DL_Recurrent_Neural_Network 2',\n",
       " 'DL_Recurrent_Neural_Network 2.7z',\n",
       " 'EDA_First_Two',\n",
       " 'final.csv',\n",
       " 'final_internship_list.csv',\n",
       " 'Final_list.csv',\n",
       " 'final_winnner.csv',\n",
       " 'Function and files (1).ipynb',\n",
       " 'Function in pyton  (1) (1).ipynb',\n",
       " 'gift.csv',\n",
       " 'gpt2-20210531T131332Z-001',\n",
       " 'gpt2-20210531T131332Z-001.zip',\n",
       " 'gpt2-20210531T131332Z-002.zip',\n",
       " 'html_data0.csv',\n",
       " 'html_data1.csv',\n",
       " 'html_data2.csv',\n",
       " 'html_data3.csv',\n",
       " 'html_data4.csv',\n",
       " 'html_data5.csv',\n",
       " 'iNeuron July month update (Responses).xlsx',\n",
       " 'INeuron Projects-20210531T132536Z-001.zip',\n",
       " 'iNeuron_july_salary (1).xlsx',\n",
       " 'iNeuron_july_salary.xlsx',\n",
       " 'internship mail id.xlsx',\n",
       " 'Interview questions.ipynb',\n",
       " 'json_dump.csv',\n",
       " 'LinearRegression-master',\n",
       " 'LinearRegression-master (1) (4)',\n",
       " 'LinearRegression-master (1) (4).zip',\n",
       " 'locations.csv',\n",
       " 'ML masters',\n",
       " 'model_all_architecture_ocr.h5',\n",
       " 'model_ocr.json',\n",
       " 'model_weights_ocr.h5',\n",
       " 'mysql assignment .ipynb',\n",
       " 'my_pickle',\n",
       " 'numpy.ipynb',\n",
       " 'ocr model',\n",
       " 'ocr model.7z',\n",
       " 'OCR Poc.ipynb',\n",
       " 'pandas 3 .ipynb',\n",
       " 'pandas and basic function.ipynb',\n",
       " 'pandas data manipulations  2.ipynb',\n",
       " 'Pandas session 1.ipynb',\n",
       " 'PCA (4)',\n",
       " 'players_data.csv',\n",
       " 'plotly .ipynb',\n",
       " 'python basic 1.ipynb',\n",
       " 'python question discussion .ipynb',\n",
       " 'Python-20210417T030818Z-001',\n",
       " 'Rakhi Gift to my sister lastest.xlsx',\n",
       " 'rakhi_gift.xlsx',\n",
       " 'rakhi_new_list.xlsx',\n",
       " 'readpdf.pdf',\n",
       " 'Reinforcement learning-20210117T063045Z-001',\n",
       " 'Reinforcement learning-20210117T063045Z-001.7z',\n",
       " 'Reinforcement learning-20210117T063045Z-001.zip',\n",
       " 'result.csv',\n",
       " 'result1.csv',\n",
       " 'result2.csv',\n",
       " 'result3.csv',\n",
       " 'review scrapper .ipynb',\n",
       " 'RNN & LSTMS and going Deeper-20210411T004412Z-001',\n",
       " 'RNN & LSTMS and going Deeper-20210411T004412Z-001.zip',\n",
       " 'RNN & LSTMS and going Deeper-20210516T010306Z-001',\n",
       " 'rnnlstm (1) (1)',\n",
       " 'RoBERTa_Implementation-20210531T131627Z-001.zip',\n",
       " 'rozerpay',\n",
       " 'sample.parquet',\n",
       " 'Sample_Data_Work-20210531T132923Z-001.zip',\n",
       " 'saurav',\n",
       " 'secure-connect-ineuron.zip',\n",
       " 'sepr_salary.csv',\n",
       " 'Sept_iNeuron_salary.xlsx',\n",
       " 'sept_salary_ineuron.xlsx',\n",
       " 'swagger',\n",
       " 'test.csv',\n",
       " 'test.h5',\n",
       " 'Time series sunspot (1) (2)',\n",
       " 'Time series sunspot (1) (2).7z',\n",
       " 'timeSeries (6)',\n",
       " 'timeSeries (6).zip',\n",
       " 'timeSeries (7)',\n",
       " 'timeSeries (7).zip',\n",
       " 'Tuple , set and dict.ipynb',\n",
       " 'Untitled.ipynb',\n",
       " 'Untitled1.ipynb',\n",
       " 'Untitled10.ipynb',\n",
       " 'Untitled11.ipynb',\n",
       " 'Untitled12.ipynb',\n",
       " 'Untitled13.ipynb',\n",
       " 'Untitled14.ipynb',\n",
       " 'Untitled15.ipynb',\n",
       " 'Untitled16.ipynb',\n",
       " 'Untitled17.ipynb',\n",
       " 'Untitled18.ipynb',\n",
       " 'Untitled19.ipynb',\n",
       " 'Untitled2.ipynb',\n",
       " 'Untitled20.ipynb',\n",
       " 'Untitled21.ipynb',\n",
       " 'Untitled22.ipynb',\n",
       " 'Untitled23.ipynb',\n",
       " 'Untitled24.ipynb',\n",
       " 'Untitled25.ipynb',\n",
       " 'Untitled26.ipynb',\n",
       " 'Untitled27.ipynb',\n",
       " 'Untitled28.ipynb',\n",
       " 'Untitled29.ipynb',\n",
       " 'Untitled3.ipynb',\n",
       " 'Untitled30.ipynb',\n",
       " 'Untitled39.ipynb',\n",
       " 'Untitled4.ipynb',\n",
       " 'Untitled40.ipynb',\n",
       " 'Untitled41.ipynb',\n",
       " 'Untitled5.ipynb',\n",
       " 'Untitled6.ipynb',\n",
       " 'Untitled7.ipynb',\n",
       " 'Untitled8.ipynb',\n",
       " 'Untitled9.ipynb',\n",
       " 'updateddocs-20210516T010855Z-001',\n",
       " 'word embedding']"
      ]
     },
     "execution_count": 18,
     "metadata": {},
     "output_type": "execute_result"
    }
   ],
   "source": [
    "os.listdir(\"C:\\\\Users\\\\win10\\\\jupyter\")"
   ]
  },
  {
   "cell_type": "code",
   "execution_count": 19,
   "metadata": {},
   "outputs": [
    {
     "data": {
      "text/plain": [
       "'C:\\\\Users\\\\win10\\\\jupyter\\\\Complete Python Module-20210227T092441Z-001\\\\Complete Python Module\\\\8.Iterators Generators'"
      ]
     },
     "execution_count": 19,
     "metadata": {},
     "output_type": "execute_result"
    }
   ],
   "source": [
    "os.getcwd()"
   ]
  },
  {
   "cell_type": "code",
   "execution_count": null,
   "metadata": {},
   "outputs": [],
   "source": []
  }
 ],
 "metadata": {
  "kernelspec": {
   "display_name": "Python 3 (ipykernel)",
   "language": "python",
   "name": "python3"
  },
  "language_info": {
   "codemirror_mode": {
    "name": "ipython",
    "version": 3
   },
   "file_extension": ".py",
   "mimetype": "text/x-python",
   "name": "python",
   "nbconvert_exporter": "python",
   "pygments_lexer": "ipython3",
   "version": "3.10.9"
  }
 },
 "nbformat": 4,
 "nbformat_minor": 4
}
