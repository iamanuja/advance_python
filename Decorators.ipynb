{
 "cells": [
  {
   "cell_type": "markdown",
   "id": "828a64be",
   "metadata": {},
   "source": [
    "**A decorator is a design pattern**  =>  **adds new functionality to an existing object without modifying its structure.**\n",
    "\n",
    "Decorators are usually called before the definition of a function you want to decorate."
   ]
  },
  {
   "cell_type": "markdown",
   "id": "54684956",
   "metadata": {},
   "source": [
    "names in program = variable names, function name , class name <= all this identifiers"
   ]
  },
  {
   "cell_type": "code",
   "execution_count": null,
   "id": "2988d99e",
   "metadata": {},
   "outputs": [],
   "source": [
    "namespace => control all names in program"
   ]
  },
  {
   "cell_type": "code",
   "execution_count": null,
   "id": "0f044900",
   "metadata": {},
   "outputs": [],
   "source": [
    "types of namespace =>\n",
    "built in - \n",
    "global - using modules each modules has its own namespace\n",
    "local"
   ]
  },
  {
   "cell_type": "code",
   "execution_count": null,
   "id": "7b5b195d",
   "metadata": {},
   "outputs": [],
   "source": [
    "to avoid pollution and having uniqueness in names"
   ]
  },
  {
   "cell_type": "code",
   "execution_count": null,
   "id": "ca0f36d6",
   "metadata": {},
   "outputs": [],
   "source": [
    "variable scopes =>\n",
    "local\n",
    "global\n",
    "enclosed\n",
    "built-in"
   ]
  },
  {
   "cell_type": "code",
   "execution_count": 25,
   "id": "25aa897b",
   "metadata": {},
   "outputs": [
    {
     "data": {
      "text/plain": [
       "['In',\n",
       " 'Out',\n",
       " '_',\n",
       " '_12',\n",
       " '_14',\n",
       " '_15',\n",
       " '_16',\n",
       " '_17',\n",
       " '_18',\n",
       " '_19',\n",
       " '_2',\n",
       " '_20',\n",
       " '_22',\n",
       " '_23',\n",
       " '_3',\n",
       " '_4',\n",
       " '__',\n",
       " '___',\n",
       " '__builtin__',\n",
       " '__builtins__',\n",
       " '__doc__',\n",
       " '__loader__',\n",
       " '__name__',\n",
       " '__package__',\n",
       " '__spec__',\n",
       " '_dh',\n",
       " '_i',\n",
       " '_i1',\n",
       " '_i10',\n",
       " '_i11',\n",
       " '_i12',\n",
       " '_i13',\n",
       " '_i14',\n",
       " '_i15',\n",
       " '_i16',\n",
       " '_i17',\n",
       " '_i18',\n",
       " '_i19',\n",
       " '_i2',\n",
       " '_i20',\n",
       " '_i21',\n",
       " '_i22',\n",
       " '_i23',\n",
       " '_i24',\n",
       " '_i25',\n",
       " '_i3',\n",
       " '_i4',\n",
       " '_i5',\n",
       " '_i6',\n",
       " '_i7',\n",
       " '_i8',\n",
       " '_i9',\n",
       " '_ih',\n",
       " '_ii',\n",
       " '_iii',\n",
       " '_oh',\n",
       " 'dec',\n",
       " 'exit',\n",
       " 'f',\n",
       " 'first',\n",
       " 'g',\n",
       " 'get_ipython',\n",
       " 'inc',\n",
       " 'is_called',\n",
       " 'new',\n",
       " 'open',\n",
       " 'operate',\n",
       " 'outer',\n",
       " 'quit',\n",
       " 'second']"
      ]
     },
     "execution_count": 25,
     "metadata": {},
     "output_type": "execute_result"
    }
   ],
   "source": [
    "dir()"
   ]
  },
  {
   "cell_type": "code",
   "execution_count": null,
   "id": "fea45080",
   "metadata": {},
   "outputs": [],
   "source": []
  },
  {
   "cell_type": "markdown",
   "id": "216c525f",
   "metadata": {},
   "source": [
    "### higher order functions"
   ]
  },
  {
   "cell_type": "code",
   "execution_count": 4,
   "id": "7ab23a10",
   "metadata": {},
   "outputs": [
    {
     "data": {
      "text/plain": [
       "(4, 2)"
      ]
     },
     "execution_count": 4,
     "metadata": {},
     "output_type": "execute_result"
    }
   ],
   "source": [
    "def inc(x):\n",
    "    return x + 1\n",
    "def dec(x):\n",
    "    return x - 1\n",
    "def operate(func, x):\n",
    "    result = func(x)\n",
    "    return result\n",
    "\n",
    "operate(inc,3),operate(dec,3)"
   ]
  },
  {
   "cell_type": "code",
   "execution_count": 10,
   "id": "36f92521",
   "metadata": {},
   "outputs": [
    {
     "name": "stdout",
     "output_type": "stream",
     "text": [
      "Hello\n"
     ]
    }
   ],
   "source": [
    "def is_called():  # created 1st function\n",
    "    def is_returned():  # Created 2nd function (nested)\n",
    "        print(\"Hello\")\n",
    "    return is_returned\n",
    "\n",
    "\n",
    "new = is_called()\n",
    "\n",
    "# Outputs \"Hello\"\n",
    "new()"
   ]
  },
  {
   "cell_type": "markdown",
   "id": "408fb33f",
   "metadata": {},
   "source": [
    "## Nested Function"
   ]
  },
  {
   "cell_type": "code",
   "execution_count": 11,
   "id": "72c57893",
   "metadata": {},
   "outputs": [
    {
     "name": "stdout",
     "output_type": "stream",
     "text": [
      "3\n"
     ]
    }
   ],
   "source": [
    "def outer():\n",
    "    x=3\n",
    "    def inner():\n",
    "        print(x)\n",
    "    return inner()# u have to call inner function in inner part\n",
    "outer()"
   ]
  },
  {
   "cell_type": "markdown",
   "id": "e4f2b6cd",
   "metadata": {},
   "source": [
    "## functions are objects "
   ]
  },
  {
   "cell_type": "code",
   "execution_count": 1,
   "id": "b09a16b7",
   "metadata": {},
   "outputs": [
    {
     "name": "stdout",
     "output_type": "stream",
     "text": [
      "Hello\n",
      "Hello\n"
     ]
    }
   ],
   "source": [
    "def first(msg):\n",
    "    print(msg)\n",
    "\n",
    "first(\"Hello\")\n",
    "\n",
    "second = first # assigning function to variable & then that variable also acts like fun\n",
    "second(\"Hello\")"
   ]
  },
  {
   "cell_type": "code",
   "execution_count": 23,
   "id": "9ea6ca5c",
   "metadata": {},
   "outputs": [
    {
     "data": {
      "text/plain": [
       "'first'"
      ]
     },
     "execution_count": 23,
     "metadata": {},
     "output_type": "execute_result"
    }
   ],
   "source": [
    "second.__name__ # prints the "
   ]
  },
  {
   "cell_type": "code",
   "execution_count": 14,
   "id": "6044be44",
   "metadata": {},
   "outputs": [
    {
     "data": {
      "text/plain": [
       "2158672376976"
      ]
     },
     "execution_count": 14,
     "metadata": {},
     "output_type": "execute_result"
    }
   ],
   "source": [
    "id(first)"
   ]
  },
  {
   "cell_type": "code",
   "execution_count": 16,
   "id": "fc70c098",
   "metadata": {},
   "outputs": [
    {
     "data": {
      "text/plain": [
       "2158672376976"
      ]
     },
     "execution_count": 16,
     "metadata": {},
     "output_type": "execute_result"
    }
   ],
   "source": [
    "id(second) # second is another referance to that object"
   ]
  },
  {
   "cell_type": "code",
   "execution_count": 19,
   "id": "d0b18c5c",
   "metadata": {},
   "outputs": [
    {
     "data": {
      "text/plain": [
       "<function __main__.first(msg)>"
      ]
     },
     "execution_count": 19,
     "metadata": {},
     "output_type": "execute_result"
    }
   ],
   "source": [
    "second # if we called fun without parenthesis it gives func referance"
   ]
  },
  {
   "cell_type": "code",
   "execution_count": 20,
   "id": "7ab5bf67",
   "metadata": {},
   "outputs": [
    {
     "data": {
      "text/plain": [
       "<function __main__.first(msg)>"
      ]
     },
     "execution_count": 20,
     "metadata": {},
     "output_type": "execute_result"
    }
   ],
   "source": [
    "first"
   ]
  },
  {
   "cell_type": "code",
   "execution_count": 21,
   "id": "ad1cc9d8",
   "metadata": {},
   "outputs": [
    {
     "name": "stdout",
     "output_type": "stream",
     "text": [
      "x\n",
      "x\n"
     ]
    }
   ],
   "source": [
    "def f():\n",
    "    print(\"x\")\n",
    "g=f()\n",
    "f()"
   ]
  },
  {
   "cell_type": "markdown",
   "id": "918e60a5",
   "metadata": {},
   "source": [
    "### advantages of closure :\n",
    "### avoid global values ,data hiding ,let us implement decorators"
   ]
  },
  {
   "cell_type": "code",
   "execution_count": null,
   "id": "7f885c3f",
   "metadata": {},
   "outputs": [],
   "source": []
  }
 ],
 "metadata": {
  "kernelspec": {
   "display_name": "Python 3 (ipykernel)",
   "language": "python",
   "name": "python3"
  },
  "language_info": {
   "codemirror_mode": {
    "name": "ipython",
    "version": 3
   },
   "file_extension": ".py",
   "mimetype": "text/x-python",
   "name": "python",
   "nbconvert_exporter": "python",
   "pygments_lexer": "ipython3",
   "version": "3.10.9"
  }
 },
 "nbformat": 4,
 "nbformat_minor": 5
}
