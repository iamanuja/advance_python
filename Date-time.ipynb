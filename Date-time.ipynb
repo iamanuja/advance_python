{
 "cells": [
  {
   "cell_type": "markdown",
   "id": "48d30224",
   "metadata": {},
   "source": [
    "###### https://github.com/mehtanishad/module_4_advance_python_programming/blob/master/module_4.ipynb"
   ]
  },
  {
   "cell_type": "code",
   "execution_count": 17,
   "id": "09bcfcae",
   "metadata": {},
   "outputs": [
    {
     "name": "stdout",
     "output_type": "stream",
     "text": [
      "1 :  2023-07-12 11:35:12.349772\n",
      "2 :  2023\n",
      "3 :  Wed\n",
      "4 :  Wednesday\n",
      "5 :  July\n",
      "6 :  28\n",
      "7 :  12\n",
      "8 :  07\n",
      "9 :  23\n",
      "10 :  2023\n",
      "11 :  11\n",
      "12 :  11\n",
      "13 :  AM\n",
      "14 :  35\n",
      "15 :  12\n",
      "16 :  349772\n",
      "17 :  20\n",
      "18 :  193\n",
      "19 :  07/12/23\n",
      "20 :  11:35:12\n",
      "21 :  2023\n"
     ]
    }
   ],
   "source": [
    "import datetime\n",
    "\n",
    "x = datetime.datetime.now()\n",
    "print(\"1 : \" , x)\n",
    "print(\"2 : \" ,x.year)\n",
    "print(\"3 : \" ,x.strftime(\"%a\"))\n",
    "print(\"4 : \" ,x.strftime(\"%A\"))\n",
    "print(\"5 : \" ,x.strftime(\"%B\"))\n",
    "\n",
    "print(\"6 : \" ,x.strftime(\"%W\")) # week day\n",
    "print(\"7 : \" ,x.strftime(\"%d\")) # date\n",
    "print(\"8 : \" ,x.strftime(\"%m\")) # month no\n",
    "print(\"9 : \" ,x.strftime(\"%y\")) # year - short form\n",
    "print(\"10 : \" ,x.strftime(\"%Y\"))\n",
    "\n",
    "print(\"11 : \" ,x.strftime(\"%H\")) # hours 0*23\n",
    "print(\"12 : \" ,x.strftime(\"%I\")) # Hour 00-12\n",
    "print(\"13 : \" ,x.strftime(\"%p\")) #AM/PM\n",
    "print(\"14 : \" ,x.strftime(\"%M\")) # minutes\n",
    "print(\"15 : \" ,x.strftime(\"%S\")) # sec\n",
    "\n",
    "print(\"16 : \" ,x.strftime(\"%f\")) #fraction of seconds , microseconds\n",
    "\n",
    "print(\"17 : \" ,x.strftime(\"%C\")) # century\n",
    "print(\"18 : \" ,x.strftime(\"%j\")) #Day number of year 001-366\n",
    "print(\"19 : \" ,x.strftime(\"%x\")) #Local version of date\n",
    "print(\"20 : \" ,x.strftime(\"%X\")) #Local version of time\n",
    "\n",
    "print(\"21 : \" ,x.strftime(\"%G\")) #year\n"
   ]
  },
  {
   "cell_type": "markdown",
   "id": "aa691b4f",
   "metadata": {},
   "source": [
    "#### Creating Date Objects\n",
    "To create a date, we can use the datetime() class (constructor) of the datetime module."
   ]
  },
  {
   "cell_type": "code",
   "execution_count": 2,
   "id": "51273186",
   "metadata": {},
   "outputs": [
    {
     "name": "stdout",
     "output_type": "stream",
     "text": [
      "2020-05-17 00:00:00\n"
     ]
    }
   ],
   "source": [
    "y = datetime.datetime(2020, 5, 17)\n",
    "print(y)"
   ]
  },
  {
   "cell_type": "code",
   "execution_count": 3,
   "id": "319cdd8a",
   "metadata": {},
   "outputs": [
    {
     "name": "stdout",
     "output_type": "stream",
     "text": [
      "Number of ticks since 12:00am, January 1, 1970: 1689140995.5202675\n"
     ]
    }
   ],
   "source": [
    "import time;\n",
    "ticks = time.time()\n",
    "print (\"Number of ticks since 12:00am, January 1, 1970:\", ticks)\n"
   ]
  },
  {
   "cell_type": "code",
   "execution_count": 4,
   "id": "42b6eeb8",
   "metadata": {},
   "outputs": [
    {
     "name": "stdout",
     "output_type": "stream",
     "text": [
      "time.struct_time(tm_year=2023, tm_mon=7, tm_mday=12, tm_hour=11, tm_min=19, tm_sec=55, tm_wday=2, tm_yday=193, tm_isdst=0)\n"
     ]
    }
   ],
   "source": [
    "print (time.localtime())"
   ]
  },
  {
   "cell_type": "code",
   "execution_count": 5,
   "id": "1ad50c1e",
   "metadata": {},
   "outputs": [
    {
     "name": "stdout",
     "output_type": "stream",
     "text": [
      "Local current time : Wed Jul 12 11:19:56 2023\n"
     ]
    }
   ],
   "source": [
    "localtime = time.asctime( time.localtime(time.time()) )\n",
    "print (\"Local current time :\", localtime)"
   ]
  },
  {
   "cell_type": "code",
   "execution_count": 6,
   "id": "1bd79865",
   "metadata": {},
   "outputs": [
    {
     "data": {
      "text/plain": [
       "1689140996.4188106"
      ]
     },
     "execution_count": 6,
     "metadata": {},
     "output_type": "execute_result"
    }
   ],
   "source": [
    "time.time( )"
   ]
  },
  {
   "cell_type": "code",
   "execution_count": 7,
   "id": "70a886c1",
   "metadata": {},
   "outputs": [],
   "source": [
    "time.sleep(2)#suspends execution for the given number of seconds."
   ]
  },
  {
   "cell_type": "code",
   "execution_count": 8,
   "id": "756c7fbe",
   "metadata": {},
   "outputs": [
    {
     "name": "stdout",
     "output_type": "stream",
     "text": [
      "Start : Wed Jul 12 11:19:58 2023\n",
      "End : Wed Jul 12 11:20:03 2023\n"
     ]
    }
   ],
   "source": [
    "print (\"Start : %s\" % time.ctime())\n",
    "time.sleep( 5 )\n",
    "print (\"End : %s\" % time.ctime())"
   ]
  },
  {
   "cell_type": "code",
   "execution_count": null,
   "id": "43d7a0a8",
   "metadata": {},
   "outputs": [],
   "source": []
  },
  {
   "cell_type": "code",
   "execution_count": 9,
   "id": "e6528bb9",
   "metadata": {},
   "outputs": [],
   "source": [
    "import calendar"
   ]
  },
  {
   "cell_type": "code",
   "execution_count": 10,
   "id": "f32fa8c2",
   "metadata": {},
   "outputs": [
    {
     "name": "stdout",
     "output_type": "stream",
     "text": [
      "Here is the calendar:\n",
      "     June 2023\n",
      "Mo Tu We Th Fr Sa Su\n",
      "          1  2  3  4\n",
      " 5  6  7  8  9 10 11\n",
      "12 13 14 15 16 17 18\n",
      "19 20 21 22 23 24 25\n",
      "26 27 28 29 30\n",
      "\n"
     ]
    }
   ],
   "source": [
    "cal = calendar.month(2023, 6)\n",
    "print (\"Here is the calendar:\")\n",
    "print (cal)"
   ]
  },
  {
   "cell_type": "code",
   "execution_count": 11,
   "id": "59166054",
   "metadata": {},
   "outputs": [
    {
     "data": {
      "text/plain": [
       "False"
      ]
     },
     "execution_count": 11,
     "metadata": {},
     "output_type": "execute_result"
    }
   ],
   "source": [
    "calendar.isleap(1999)#Returns True if year is a leap year; otherwise, False."
   ]
  },
  {
   "cell_type": "code",
   "execution_count": 13,
   "id": "17df261a",
   "metadata": {},
   "outputs": [
    {
     "data": {
      "text/plain": [
       "datetime.datetime(2023, 7, 12, 11, 20, 45, 823015)"
      ]
     },
     "execution_count": 13,
     "metadata": {},
     "output_type": "execute_result"
    }
   ],
   "source": [
    "datetime.datetime.now()"
   ]
  },
  {
   "cell_type": "code",
   "execution_count": null,
   "id": "6cae4f64",
   "metadata": {},
   "outputs": [],
   "source": []
  }
 ],
 "metadata": {
  "kernelspec": {
   "display_name": "Python 3 (ipykernel)",
   "language": "python",
   "name": "python3"
  },
  "language_info": {
   "codemirror_mode": {
    "name": "ipython",
    "version": 3
   },
   "file_extension": ".py",
   "mimetype": "text/x-python",
   "name": "python",
   "nbconvert_exporter": "python",
   "pygments_lexer": "ipython3",
   "version": "3.10.9"
  }
 },
 "nbformat": 4,
 "nbformat_minor": 5
}
